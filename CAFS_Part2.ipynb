{
 "cells": [
  {
   "cell_type": "code",
   "execution_count": 2,
   "metadata": {
    "collapsed": true,
    "pycharm": {
     "is_executing": false
    }
   },
   "outputs": [
    {
     "name": "stdout",
     "text": [
      "Orig DataFrame: (1983, 70)\n",
      "\n",
      "\n",
      "first phase DataFrame: (546, 70)\n",
      "\n",
      "\n",
      "Removed outliers dataframe: (415, 70)\n",
      "\n",
      "\n",
      "(Samples, Features): (415, 66)\n"
     ],
     "output_type": "stream"
    }
   ],
   "source": [
    "# Import library\n",
    "from numpy import loadtxt\n",
    "import numpy as np\n",
    "import pandas as pd\n",
    "import matplotlib.pyplot as plt\n",
    "import random\n",
    "\n",
    "from sklearn.preprocessing import MinMaxScaler\n",
    "from sklearn import preprocessing\n",
    "scaler = MinMaxScaler()\n",
    "\n",
    "from xgboost import XGBClassifier\n",
    "\n",
    "from sklearn.model_selection import LeaveOneGroupOut, GroupShuffleSplit,GridSearchCV,\\\n",
    "    cross_val_score, cross_val_predict, ShuffleSplit,learning_curve, train_test_split\n",
    "from sklearn.metrics import roc_curve, precision_recall_curve, auc,fbeta_score,\\\n",
    "    make_scorer, recall_score, accuracy_score, precision_score, confusion_matrix\n",
    "\n",
    "# Load the data\n",
    "subj_cond = pd.read_table('../Build_DB/subj_cond3.txt', delimiter=\",\") # unique subjects and their condition\n",
    "df1 = pd.read_table('../Build_DB/dataframe_stress3.txt', delimiter=\",\") # dataframe stress\n",
    "# shuffle datasets\n",
    "df = df1.sample(frac=1, random_state=1).reset_index(drop=False) \n",
    "\n",
    "bad_subj = {41, 42,55, 59, 60, 61, 66, 71, 82,87,90,91,97,98,100,114, 115,121,129,130,131,134,136,138, 147,149,\n",
    "            153, 154,159,163,171, 170, 173,174,\n",
    "            35,67,69,77,79,83,85,86,139,146,161,166,\n",
    "            125} # 3rd line:bad sub in control group ph1, subj 125 not stressed\n",
    "\n",
    "df_good = df[~df['Subject'].isin(bad_subj)]\n",
    "\n",
    "# data of first stress phase  \n",
    "ds = df_good[((df_good.S == 0) & (df_good.Condition == 0))|((df_good.S ==1)&(df_good.Condition ==1))] \n",
    "\n",
    "# remove outliers of features values    \n",
    "ds0 = ds[ds.S == 0]\n",
    "ds1 = ds[ds.S == 1]\n",
    "ds_droped0 = ds0.mask((ds0 - ds0.mean()).abs() > 3.5 * ds0.std()).dropna()\n",
    "ds_droped1 = ds1.mask((ds1 - ds1.mean()).abs() > 3.5 * ds1.std()).dropna()\n",
    "ds_droped = pd.concat([ds_droped0,ds_droped1])\n",
    "X = ds_droped.iloc[:, 1:-3] # samples\n",
    "S =  ds_droped['S'] # stress labels, S=1 stress, S= 0 control\n",
    "Subject =  ds_droped['Subject']\n",
    "# condition = 1 means stress then control, condition=0 means control then stress\n",
    "Condition =  ds_droped['Condition'] \n",
    "\n",
    "print(\"Orig DataFrame: {}\" .format(df.shape) )\n",
    "print(\"\\n\")\n",
    "print(\"first phase DataFrame: {}\" .format(ds.shape) )\n",
    "print(\"\\n\")\n",
    "print(\"Removed outliers dataframe: {}\".format(ds_droped.shape) )\n",
    "print(\"\\n\")\n",
    "print(\"(Samples, Features): {}\".format(X.shape) )"
   ]
  },
  {
   "cell_type": "code",
   "execution_count": 3,
   "outputs": [],
   "source": [
    "modelxgb = XGBClassifier()\n",
    "good_subj = Subject.unique()\n",
    "good_subj.sort()\n",
    "logo = LeaveOneGroupOut()\n",
    "number_groups = logo.get_n_splits(X, S, Subject)"
   ],
   "metadata": {
    "collapsed": false,
    "pycharm": {
     "name": "#%% LOAD MODEL\n",
     "is_executing": false
    }
   }
  },
  {
   "cell_type": "code",
   "execution_count": 5,
   "outputs": [
    {
     "name": "stdout",
     "text": [
      " shape training set: (282, 66)\n",
      " shape test set: (133, 66)\n",
      "check balance in train samples: S\n",
      "0    153\n",
      "1    129\n",
      "dtype: int64\n",
      "check balance in test samples: S\n",
      "0    95\n",
      "1    38\n",
      "dtype: int64\n",
      "number subject train: (40,)\n",
      "number subject test: (20,)\n",
      "check balance in train subjects: cond\n",
      "0    23\n",
      "1    17\n",
      "dtype: int64\n",
      "check balance in test subjects: cond\n",
      "0    14\n",
      "1     6\n",
      "dtype: int64\n"
     ],
     "output_type": "stream"
    }
   ],
   "source": [
    "train_inds, test_inds = next(GroupShuffleSplit(test_size=.33, n_splits=2, random_state = 14).split(X, S, groups=Subject))\n",
    "X_train, X_test = X.iloc[train_inds,:], X.iloc[test_inds,:]\n",
    "y_train, y_test = S.iloc[train_inds], S.iloc[test_inds]\n",
    "print(' shape training set: {}' .format(X_train.shape))\n",
    "print(' shape test set: {}' .format(X_test.shape))\n",
    "dtr = pd.DataFrame(X_train, y_train) # training data frame\n",
    "dts = pd.DataFrame(X_test, y_test) # test dataframe\n",
    "print('check balance in train samples: {}' .format(dtr.groupby('S').size()))\n",
    "print('check balance in test samples: {}' .format(dts.groupby('S').size()))\n",
    "train_subject = Subject.iloc[train_inds].unique()\n",
    "test_subject = Subject.iloc[test_inds].unique()\n",
    "train_subjects = Subject.iloc[train_inds]\n",
    "test_subjects = Subject.iloc[test_inds]\n",
    "print('number subject train: {}' .format(train_subject.shape))\n",
    "print('number subject test: {}' .format(test_subject.shape))\n",
    "\n",
    "subj_cond_tr = subj_cond[subj_cond['sub'].isin(train_subject)]\n",
    "subj_cond_ts = subj_cond[subj_cond['sub'].isin(test_subject)]\n",
    "print('check balance in train subjects: {}' .format(subj_cond_tr.groupby('cond').size()))\n",
    "print('check balance in test subjects: {}' .format(subj_cond_ts.groupby('cond').size()))\n",
    "test_subject.sort()\n",
    "\n",
    "train_subject.sort()"
   ],
   "metadata": {
    "collapsed": false,
    "pycharm": {
     "name": "#%%Create Training and Test Sets and Apply Scaling\n",
     "is_executing": false
    }
   }
  },
  {
   "cell_type": "code",
   "execution_count": 4,
   "outputs": [],
   "source": [
    "cv = GroupShuffleSplit(n_splits=10, test_size=0.2, random_state=0)\n",
    "final_features = []\n",
    "final_features.insert(0, ['ECG_RR_mean' ,'ECG_RR_SDNN' ,'ECG_RR_SDSD', 'ECG_RR_L' ,'ECG_RR_L2',\n",
    " 'ECG_RR_LoT_2', 'ECG_RR_Log10LT_2', 'RSP_RATE_std', 'RSP_Pk', 'RSP_HF',\n",
    " 'RSP_HF_gaussF1', 'RSP_ecgHF_pF2n' ,'PPG_PP_CSI_modified', 'PPG_PRT_SDNN',\n",
    " 'SCL_mean', 'SCL_std'])\n",
    "\n",
    "final_features.insert(1,['ECG_RR_mean', 'ECG_RR_SDNN', 'ECG_RR_SDSD', 'ECG_RR_L2', 'RSP_HF',\n",
    " 'RSP_ecgHF_pF2n', 'SCL_mean'])\n",
    "\n",
    "final_features.insert(2,['ECG_RR_mean', 'ECG_RR_SDSD', 'ECG_RR_PNN50', 'ECG_RR_L', 'ECG_RR_CVI',\n",
    " 'ECG_RR_LoT_2', 'SCL_mean', 'SCL_gradient'])\n",
    "\n",
    "final_features.insert(3,['ECG_RR_mean', 'ECG_RR_SDNN', 'ECG_RR_SDSD', 'ECG_RR_PNN50', 'ECG_RR_L2',\n",
    " 'ECG_RR_LoT_2'])\n",
    "# final_features.insert(3,['ECG_RR_mean'])\n",
    "\n",
    "final_features.insert(4,['SCL_mean'])\n"
   ],
   "metadata": {
    "collapsed": false,
    "pycharm": {
     "name": "#%% Features from previous model\n",
     "is_executing": false
    }
   }
  },
  {
   "cell_type": "code",
   "execution_count": 18,
   "outputs": [
    {
     "name": "stdout",
     "text": [
      "0\n",
      "CV Accuracy:  0.9019548658923412\n",
      "CV F1:  0.8680714062690955\n",
      "CV Precision:  0.8835732170020094\n",
      "CV Recall:  0.8743699633699634\n",
      "CV Gmean:  0.899909890341814\n",
      "CV Specificity:  0.9355942942653745\n",
      "CV Sensitivity:  0.8743699633699634\n",
      "\n",
      "\n",
      "\n",
      "\n",
      "1\n",
      "CV Accuracy:  0.8863468804113974\n",
      "CV F1:  0.8517617519851879\n",
      "CV Precision:  0.840301233624763\n",
      "CV Recall:  0.89663597322218\n",
      "CV Gmean:  0.888773677868478\n",
      "CV Specificity:  0.8933529880615548\n",
      "CV Sensitivity:  0.89663597322218\n",
      "\n",
      "\n",
      "\n",
      "\n",
      "2\n",
      "CV Accuracy:  0.885450288577703\n",
      "CV F1:  0.8518638869004675\n",
      "CV Precision:  0.8561608913487848\n",
      "CV Recall:  0.86603663003663\n",
      "CV Gmean:  0.8845666288618533\n",
      "CV Specificity:  0.9122895894689453\n",
      "CV Sensitivity:  0.86603663003663\n",
      "\n",
      "\n",
      "\n",
      "\n",
      "3\n",
      "CV Accuracy:  0.8743804619113018\n",
      "CV F1:  0.8365345928670495\n",
      "CV Precision:  0.8219618226464327\n",
      "CV Recall:  0.8817435897435898\n",
      "CV Gmean:  0.8802963564895249\n",
      "CV Specificity:  0.886973614598119\n",
      "CV Sensitivity:  0.8817435897435898\n",
      "\n",
      "\n",
      "\n",
      "\n",
      "4\n",
      "CV Accuracy:  0.5665567687439798\n",
      "CV F1:  0.4953333426884596\n",
      "CV Precision:  0.4610826697936049\n",
      "CV Recall:  0.5698446851773424\n",
      "CV Gmean:  0.543805789416253\n",
      "CV Specificity:  0.5611077758928757\n",
      "CV Sensitivity:  0.5698446851773424\n",
      "\n",
      "\n",
      "\n",
      "\n"
     ],
     "output_type": "stream"
    }
   ],
   "source": [
    "from imblearn.metrics import geometric_mean_score, sensitivity_score,specificity_score\n",
    "step_plusone = 5\n",
    "\n",
    "for j in range(step_plusone):\n",
    "    print(j)\n",
    "    feat_list = final_features[j]\n",
    "    X_tr = X_train[feat_list]\n",
    "    modelxgbb= XGBClassifier()\n",
    "    f1s = []\n",
    "    ps =[]\n",
    "    rs =[]\n",
    "    accs = []\n",
    "    gms =[]\n",
    "    spes =[]\n",
    "    sens = []\n",
    "    for i, (train_index, val_index) in enumerate(cv.split(X_tr, y_train, train_subjects)):\n",
    "        X_train_tr, X_val = X_tr.iloc[train_index,:], X_tr.iloc[val_index,:]\n",
    "        y_train_tr, y_val = y_train.iloc[train_index], y_train.iloc[val_index]\n",
    "        modelxgbb.fit(X_train_tr, y_train_tr)\n",
    "        y_proba = modelxgbb.predict_proba(X_val)[:, 1]\n",
    "        y_pred = modelxgbb.predict(X_val)\n",
    "        acc = accuracy_score(y_val, y_pred)\n",
    "        f1 = fbeta_score(y_val, y_pred, beta=1)\n",
    "        p = precision_score(y_val, y_pred)\n",
    "        r = recall_score(y_val, y_pred)\n",
    "        \n",
    "        gm = geometric_mean_score(y_val, y_pred)\n",
    "        spe = specificity_score(y_val, y_pred)\n",
    "        sen = sensitivity_score(y_val, y_pred)\n",
    "    \n",
    "        accs.append(acc)\n",
    "        f1s.append(f1)\n",
    "        ps.append(p)\n",
    "        rs.append(r)\n",
    "        gms.append(gm)\n",
    "        spes.append(spe)\n",
    "        sens.append(sen)\n",
    "    mean_f1 = np.mean(f1s, axis =0)\n",
    "    mean_p = np.mean(ps, axis =0)\n",
    "    mean_r = np.mean(rs, axis =0)\n",
    "    mean_acc = np.mean(accs, axis =0)\n",
    "    mean_gm = np.mean(gms, axis =0)\n",
    "    mean_spe = np.mean(spes, axis =0)\n",
    "    mean_sen = np.mean(sens, axis =0)\n",
    "    \n",
    "    # std_f1 = np.std(f1s, axis =0)\n",
    "    # std_p = np.std(ps, axis =0)\n",
    "    # std_r = np.std(rs, axis =0)\n",
    "    # std_acc = np.std(accs, axis =0)\n",
    "\n",
    "    print('CV Accuracy: ',mean_acc)\n",
    "    print('CV F1: ',mean_f1)\n",
    "    print('CV Precision: ',mean_p)\n",
    "    print('CV Recall: ',mean_r)\n",
    "    \n",
    "    print('CV Gmean: ',mean_gm)\n",
    "    print('CV Specificity: ',mean_spe)\n",
    "    print('CV Sensitivity: ',mean_sen)\n",
    "    print(\"\\n\")\n",
    "    print(\"\\n\")"
   ],
   "metadata": {
    "collapsed": false,
    "pycharm": {
     "name": "#%% cv default\n",
     "is_executing": false
    }
   }
  },
  {
   "cell_type": "code",
   "execution_count": 19,
   "outputs": [
    {
     "name": "stdout",
     "text": [
      "0\n",
      "Acc training set: 1.0000\n",
      "test Accuracy:  0.8872180451127819\n",
      "test F1:  0.8\n",
      "test Precision:  0.8108108108108109\n",
      "test Recall:  0.7894736842105263\n",
      "test Gmean:  0.855161937330101\n",
      "test Specificity:  0.9263157894736842\n",
      "test Sensitivity:  0.7894736842105263\n",
      "\n",
      "\n",
      "\n",
      "\n",
      "1\n",
      "Acc training set: 1.0000\n",
      "test Accuracy:  0.8571428571428571\n",
      "test F1:  0.7466666666666667\n",
      "test Precision:  0.7567567567567568\n",
      "test Recall:  0.7368421052631579\n",
      "test Gmean:  0.8167227259482451\n",
      "test Specificity:  0.9052631578947369\n",
      "test Sensitivity:  0.7368421052631579\n",
      "\n",
      "\n",
      "\n",
      "\n",
      "2\n",
      "Acc training set: 1.0000\n",
      "test Accuracy:  0.8721804511278195\n",
      "test F1:  0.7792207792207793\n",
      "test Precision:  0.7692307692307693\n",
      "test Recall:  0.7894736842105263\n",
      "test Gmean:  0.8453883370636321\n",
      "test Specificity:  0.9052631578947369\n",
      "test Sensitivity:  0.7894736842105263\n",
      "\n",
      "\n",
      "\n",
      "\n",
      "3\n",
      "Acc training set: 0.9965\n",
      "test Accuracy:  0.7744360902255639\n",
      "test F1:  0.6808510638297872\n",
      "test Precision:  0.5714285714285714\n",
      "test Recall:  0.8421052631578947\n",
      "test Gmean:  0.7933239444807062\n",
      "test Specificity:  0.7473684210526316\n",
      "test Sensitivity:  0.8421052631578947\n",
      "\n",
      "\n",
      "\n",
      "\n",
      "4\n",
      "Acc training set: 0.9078\n",
      "test Accuracy:  0.5864661654135338\n",
      "test F1:  0.38202247191011235\n",
      "test Precision:  0.3333333333333333\n",
      "test Recall:  0.4473684210526316\n",
      "test Gmean:  0.5359641944463565\n",
      "test Specificity:  0.6421052631578947\n",
      "test Sensitivity:  0.4473684210526316\n",
      "\n",
      "\n",
      "\n",
      "\n"
     ],
     "output_type": "stream"
    }
   ],
   "source": [
    "step_plusone =5\n",
    "tes_acc = np.ones(step_plusone)\n",
    "tes_f1 = np.ones(step_plusone)\n",
    "tes_p = np.ones(step_plusone)\n",
    "tes_r = np.ones(step_plusone)\n",
    "tes_gm = np.ones(step_plusone)\n",
    "tes_spe = np.ones(step_plusone)\n",
    "tes_sen = np.ones(step_plusone)\n",
    "for j in range(step_plusone):\n",
    "    print(j)\n",
    "    feat_list = final_features[j]\n",
    "    X_tr = X_train[feat_list]\n",
    "    X_te = X_test[feat_list]\n",
    "    model = XGBClassifier().fit(X_tr, y_train)\n",
    "    print('Acc training set: {:.4f}'\n",
    "         .format(model.score(X_tr, y_train)))\n",
    "    y_pred = model.predict(X_te)\n",
    "    tes_acc[j] = accuracy_score(y_test, y_pred)\n",
    "    tes_f1[j] = fbeta_score(y_test, y_pred, beta=1)\n",
    "    tes_p[j] = precision_score(y_test, y_pred)\n",
    "    tes_r[j] = recall_score(y_test, y_pred)\n",
    "    tes_gm[j] = geometric_mean_score(y_test, y_pred)\n",
    "    tes_spe[j] = specificity_score(y_test, y_pred)\n",
    "    tes_sen[j] = sensitivity_score(y_test, y_pred)\n",
    "    print('test Accuracy: ',tes_acc[j])\n",
    "    print('test F1: ',tes_f1[j])\n",
    "    print('test Precision: ',tes_p[j])\n",
    "    print('test Recall: ',tes_r[j])\n",
    "    print('test Gmean: ',tes_gm[j])\n",
    "    print('test Specificity: ',tes_spe[j])\n",
    "    print('test Sensitivity: ',tes_sen[j])\n",
    "    print(\"\\n\")\n",
    "    print(\"\\n\")"
   ],
   "metadata": {
    "collapsed": false,
    "pycharm": {
     "name": "#%% test def\n",
     "is_executing": false
    }
   }
  },
  {
   "cell_type": "code",
   "execution_count": 5,
   "outputs": [
    {
     "name": "stdout",
     "text": [
      "0\n",
      "Max Depth:  6.0\n",
      "Max Trees:  41.0\n",
      "Max CV:  0.909324710381861\n",
      "1\n",
      "Max Depth:  3.0\n",
      "Max Trees:  56.0\n",
      "Max CV:  0.9044217732465037\n",
      "2\n",
      "Max Depth:  5.0\n",
      "Max Trees:  1.0\n",
      "Max CV:  0.8948693996654924\n",
      "3\n",
      "Max Depth:  1.0\n",
      "Max Trees:  1.0\n",
      "Max CV:  0.8879877005402426\n",
      "4\n",
      "Max Depth:  6.0\n",
      "Max Trees:  1.0\n",
      "Max CV:  0.6467921138279051\n"
     ],
     "output_type": "stream"
    }
   ],
   "source": [
    "from sklearn.model_selection import GridSearchCV\n",
    "\n",
    "n_depths_range = np.linspace(1, 10, 10).astype('int')\n",
    "n_estimators_range = np.linspace(1, 100, 100).astype('int')\n",
    "\n",
    "step_plusone = 5\n",
    "max_depths =np.ones(step_plusone)\n",
    "max_trees =np.ones(step_plusone)\n",
    "max_cvs =np.ones(step_plusone)\n",
    "\n",
    "for j in range(step_plusone):\n",
    "    print(j)\n",
    "    feat_list = final_features[j]\n",
    "    X_tr = X_train[feat_list]\n",
    "    params = {\n",
    "        'max_depth': n_depths_range, \n",
    "        'n_estimators': n_estimators_range, \n",
    "         }\n",
    "    xgb_gscv = GridSearchCV(modelxgb, param_grid = params, scoring = \"accuracy\",\n",
    "                                 cv = cv )\n",
    "    # Fit the model\n",
    "    model_xgboost = xgb_gscv.fit(X_tr, y_train,groups=train_subjects)\n",
    "\n",
    "    # Model best estimator\n",
    "    max_depths[j]=model_xgboost.best_estimator_.get_params()[\"max_depth\"]\n",
    "    max_trees[j]= model_xgboost.best_estimator_.get_params()[\"n_estimators\"]\n",
    "    max_cvs[j]= xgb_gscv.best_score_\n",
    "    print(\"Max Depth: \", max_depths[j])\n",
    "    print(\"Max Trees: \",max_trees[j])\n",
    "    print(\"Max CV: \",max_cvs[j])"
   ],
   "metadata": {
    "collapsed": false,
    "pycharm": {
     "name": "#%% Tune hyperparameters\n",
     "is_executing": false
    }
   }
  },
  {
   "cell_type": "code",
   "execution_count": 6,
   "outputs": [
    {
     "name": "stdout",
     "text": [
      "0\n",
      "Max CV Acc. selected feat is: 0.9093\n",
      " max selected need 48.66764 mj energy.\n",
      "['ECG_RR_mean', 'ECG_RR_SDNN', 'ECG_RR_SDSD', 'ECG_RR_L', 'ECG_RR_L2', 'ECG_RR_LoT_2', 'ECG_RR_Log10LT_2', 'RSP_RATE_std', 'RSP_Pk', 'RSP_HF', 'RSP_HF_gaussF1', 'RSP_ecgHF_pF2n', 'PPG_PP_CSI_modified', 'PPG_PRT_SDNN', 'SCL_mean', 'SCL_std']\n",
      "\n",
      "\n",
      "1\n",
      "Max CV Acc. selected feat is: 0.9044\n",
      " max selected need 25.57492 mj energy.\n",
      "['ECG_RR_mean', 'ECG_RR_SDNN', 'ECG_RR_SDSD', 'ECG_RR_L2', 'RSP_HF', 'RSP_ecgHF_pF2n', 'SCL_mean']\n",
      "\n",
      "\n",
      "2\n",
      "Max CV Acc. selected feat is: 0.8949\n",
      " max selected need 10.69482 mj energy.\n",
      "['ECG_RR_mean', 'ECG_RR_SDSD', 'ECG_RR_PNN50', 'ECG_RR_L', 'ECG_RR_CVI', 'ECG_RR_LoT_2', 'SCL_mean', 'SCL_gradient']\n",
      "\n",
      "\n",
      "3\n",
      "Max CV Acc. selected feat is: 0.8880\n",
      " max selected need 6.7606 mj energy.\n",
      "['ECG_RR_mean']\n",
      "\n",
      "\n",
      "4\n",
      "Max CV Acc. selected feat is: 0.6468\n",
      " max selected need 3.8600000000000003 mj energy.\n",
      "['SCL_mean']\n",
      "\n",
      "\n"
     ],
     "output_type": "stream"
    },
    {
     "name": "stderr",
     "text": [
      "Setting feature_perturbation = \"tree_path_dependent\" because no background data was given.\n",
      "Setting feature_perturbation = \"tree_path_dependent\" because no background data was given.\n",
      "Setting feature_perturbation = \"tree_path_dependent\" because no background data was given.\n",
      "Setting feature_perturbation = \"tree_path_dependent\" because no background data was given.\n",
      "Setting feature_perturbation = \"tree_path_dependent\" because no background data was given.\n",
      "Setting feature_perturbation = \"tree_path_dependent\" because no background data was given.\n",
      "Setting feature_perturbation = \"tree_path_dependent\" because no background data was given.\n",
      "Setting feature_perturbation = \"tree_path_dependent\" because no background data was given.\n",
      "Setting feature_perturbation = \"tree_path_dependent\" because no background data was given.\n",
      "Setting feature_perturbation = \"tree_path_dependent\" because no background data was given.\n",
      "Setting feature_perturbation = \"tree_path_dependent\" because no background data was given.\n",
      "Setting feature_perturbation = \"tree_path_dependent\" because no background data was given.\n",
      "Setting feature_perturbation = \"tree_path_dependent\" because no background data was given.\n",
      "Setting feature_perturbation = \"tree_path_dependent\" because no background data was given.\n",
      "Setting feature_perturbation = \"tree_path_dependent\" because no background data was given.\n",
      "Setting feature_perturbation = \"tree_path_dependent\" because no background data was given.\n",
      "Setting feature_perturbation = \"tree_path_dependent\" because no background data was given.\n",
      "Setting feature_perturbation = \"tree_path_dependent\" because no background data was given.\n",
      "Setting feature_perturbation = \"tree_path_dependent\" because no background data was given.\n",
      "Setting feature_perturbation = \"tree_path_dependent\" because no background data was given.\n",
      "Setting feature_perturbation = \"tree_path_dependent\" because no background data was given.\n",
      "Setting feature_perturbation = \"tree_path_dependent\" because no background data was given.\n",
      "Setting feature_perturbation = \"tree_path_dependent\" because no background data was given.\n",
      "Setting feature_perturbation = \"tree_path_dependent\" because no background data was given.\n",
      "Setting feature_perturbation = \"tree_path_dependent\" because no background data was given.\n",
      "Setting feature_perturbation = \"tree_path_dependent\" because no background data was given.\n",
      "Setting feature_perturbation = \"tree_path_dependent\" because no background data was given.\n",
      "Setting feature_perturbation = \"tree_path_dependent\" because no background data was given.\n",
      "Setting feature_perturbation = \"tree_path_dependent\" because no background data was given.\n",
      "Setting feature_perturbation = \"tree_path_dependent\" because no background data was given.\n",
      "Setting feature_perturbation = \"tree_path_dependent\" because no background data was given.\n",
      "Setting feature_perturbation = \"tree_path_dependent\" because no background data was given.\n",
      "Setting feature_perturbation = \"tree_path_dependent\" because no background data was given.\n",
      "Setting feature_perturbation = \"tree_path_dependent\" because no background data was given.\n",
      "Setting feature_perturbation = \"tree_path_dependent\" because no background data was given.\n",
      "Setting feature_perturbation = \"tree_path_dependent\" because no background data was given.\n",
      "Setting feature_perturbation = \"tree_path_dependent\" because no background data was given.\n",
      "Setting feature_perturbation = \"tree_path_dependent\" because no background data was given.\n"
     ],
     "output_type": "stream"
    }
   ],
   "source": [
    "import shap\n",
    "features = np.array(X_train.columns)\n",
    "max_depths = max_depths.astype(np.int64)\n",
    "max_trees = max_trees.astype(np.int64)\n",
    "rem_feat3 =[]\n",
    "\n",
    "e_ecg = np.array([[0.0006, 0.0013, 0.0009, 0, 0.001, 0.0008, 0.0019, 0.002, 0.0044,\n",
    "                   0.0008, 0.0018, 0.0045, 0.0906, 0.0906, 0.0906, 0.1813]])\n",
    "e_rsp = np.array([[0.0001, 0.0005, 0.0001, 0.0001, 0.0001, 0.0109, 0.0109, 0.0109,\n",
    "                   0.0563, 0.0071, 0.0337, 0.0004, 0.0004, 0.0004, 0.0004, 0.0004]])\n",
    "e_ppg =  np.array([[0.0006, 0.0013, 0.0009, 0, 0.001, 0.0008, 0.0019, 0.002, 0.0044,\n",
    "                    0.0008, 0.0018, 0.0045, 0.0906, 0.0906, 0.0906, 0.1813, 0.0006,\n",
    "                    0.0013, 0.0009, 0.0906, 0.0906, 0.0906, 0.1813, 0.0006, 0.0013,\n",
    "                    0.00096, 0.0006, 0.0013, 0.0009]]) \n",
    "e_eda =  np.array([[0.02, 0.04, 0.02, 0.07, 0.07]]) \n",
    "\n",
    "# energy sensors, pre-processing, and filtering\n",
    "es_ecg =  np.array([[6.76 ]]) \n",
    "es_rsp =  np.array([[11.1566]]) \n",
    "es_ppg =  np.array([[18.452]]) \n",
    "es_eda =  np.array([[3.2]]) \n",
    "\n",
    "# energy parameters\n",
    "ePoin_ecg =  np.array([[0.0453]]) \n",
    "ePsd_ecg =  np.array([[0.09341]]) # old 166.14\n",
    "eDel_rsp =  np.array([[0.7535]]) \n",
    "ePk_rsp =  np.array([[3.784]]) \n",
    "ePsd_rsp =  np.array([[3.7381]])\n",
    "ePoin_ppg =  np.array([[0.0453]])\n",
    "ePsd_ppg =  np.array([[0.09511]]) #166.14\n",
    "eScl_eda =  np.array([[0.64]])\n",
    "\n",
    "a0 = np.concatenate((e_ecg, e_rsp, e_ppg, e_eda, es_ecg, es_rsp, es_ppg, es_eda,\n",
    "                     ePoin_ecg, ePsd_ecg, eDel_rsp,ePk_rsp, ePsd_rsp, ePoin_ppg,\n",
    "                     ePsd_ppg, ePsd_ppg, eScl_eda), axis=1)\n",
    "\n",
    "total_energy = np.sum(a0)\n",
    "\n",
    "step_plusone = 5\n",
    "final_features2 =[]\n",
    "for j in range(step_plusone):\n",
    "    print(j)\n",
    "    feat_list = final_features[j]\n",
    "    X_tr = X_train[feat_list]\n",
    "    params = {\n",
    "        'max_depth': max_depths[j], \n",
    "        'n_estimators': max_trees[j], \n",
    "         }\n",
    "    modelxgb3= XGBClassifier(**params)\n",
    "    nsf = X_tr.shape[1] \n",
    "    # RFECV with SHAP features importances\n",
    "    remaining_features3 = feat_list.copy()\n",
    "    acc_mean2 = np.ones(nsf)\n",
    "    acc_std2 = np.ones(nsf)\n",
    "    for i in range(nsf): \n",
    "        modelxgb3.fit(X_tr, y_train)\n",
    "        \n",
    "        acc_xgb2 = cross_val_score(modelxgb3, X_tr, y_train, groups=train_subjects, cv=cv)\n",
    "        acc_mean2[nsf-(i+1)] = acc_xgb2.mean()\n",
    "        acc_std2[nsf-(i+1)] = acc_xgb2.std()\n",
    "        \n",
    "        shap_values3 = shap.TreeExplainer(modelxgb3).shap_values(X_tr)\n",
    "        global_shap_values3 = np.abs(shap_values3).mean(0)\n",
    "        sort_inds3 = np.argsort(global_shap_values3)\n",
    "        \n",
    "        removed_feature3 = remaining_features3[sort_inds3[0]]\n",
    "        X_tr = X_tr.drop(removed_feature3, axis=1)\n",
    "        rem_feat3.insert(i,[remaining_features3])\n",
    "        remaining_features3 = np.delete(remaining_features3, sort_inds3[0],0)\n",
    "        \n",
    "    maximum_score = np.amax(acc_mean2)\n",
    "    max_acc = 'Max CV Acc. selected feat is: %.4f'% maximum_score\n",
    "    print(max_acc)    \n",
    "    result_ind3 = np.where(acc_mean2 == np.amax(acc_mean2))\n",
    "    selected_features3=rem_feat3[nsf-result_ind3[0][0]-1][0]\n",
    "    final_features2.insert(j, [selected_features3])\n",
    "    \n",
    "    number_selected_features2 = np.where(acc_mean2 == np.amax(acc_mean2))[0][0]+1\n",
    "\n",
    "\n",
    "    L= []\n",
    "    for h, u in enumerate(selected_features3): \n",
    "        res_ind = np.where(features == u)\n",
    "        L.append(res_ind[0][0])\n",
    "    cost2 = np.sum(np.take(a0, L))  \n",
    "    if any(y < 16 for y in L):\n",
    "        cost2 = cost2+ 6.76\n",
    "    if any(4< y < 12 for y in L):\n",
    "        cost2 = cost2+ 0.04532\n",
    "    if any(11< y < 16 for y in L):\n",
    "        cost2 = cost2+ 0.09341   \n",
    "    if any(15< y < 32 for y in L):\n",
    "        cost2 = cost2+ 11.1566\n",
    "    if any(15< y < 18 for y in L):\n",
    "        cost2 = cost2+ 0.7533\n",
    "    if any(17< y < 21 for y in L):\n",
    "        cost2 = cost2 + 3.784\n",
    "    if any(20< y < 32 for y in L):\n",
    "        cost2 = cost2+ 3.7381        \n",
    "    if any(31< y < 61 for y in L):\n",
    "        cost2 = cost2+ 18.452\n",
    "    if any(36< y < 44 for y in L):\n",
    "        cost2 = cost2 + 0.04532\n",
    "    if any(43< y < 48 for y in L):\n",
    "        cost2 = cost2+ 0.09511 \n",
    "    if any(50< y < 55 for y in L):\n",
    "        cost2 = cost2+ 0.09511 \n",
    "    if any(60< y < 66 for y in L):\n",
    "        cost2 = cost2+ 3.2\n",
    "    if any(60< y < 65 for y in L):\n",
    "        cost2 = cost2+ 0.64\n",
    "    \n",
    "    our_cost = \" max selected need \"+str(cost2)+\" mj energy.\"\n",
    "    print(our_cost)\n",
    "    print(selected_features3)\n",
    "    print(\"\\n\")"
   ],
   "metadata": {
    "collapsed": false,
    "pycharm": {
     "name": "#%%    second rfecv\n",
     "is_executing": false
    }
   }
  },
  {
   "cell_type": "code",
   "execution_count": 23,
   "outputs": [
    {
     "name": "stdout",
     "text": [
      "0\n",
      "Tuned CV Accuracy:  0.909324710381861\n",
      "Tuned CV F1:  0.8780421665030136\n",
      "Tuned CV Precision:  0.8973576781548918\n",
      "Tuned CV Recall:  0.8791318681318682\n",
      "Tuned CV Gmean:  0.9065584142932632\n",
      "Tuned CV Specificity:  0.9438056763791959\n",
      "Tuned CV Sensitivity:  0.8791318681318682\n",
      "\n",
      "\n",
      "\n",
      "\n",
      "1\n",
      "Tuned CV Accuracy:  0.9044217732465037\n",
      "Tuned CV F1:  0.8739660649344888\n",
      "Tuned CV Precision:  0.8750679222738047\n",
      "Tuned CV Recall:  0.89663597322218\n",
      "Tuned CV Gmean:  0.9039339306147021\n",
      "Tuned CV Specificity:  0.9217237958574499\n",
      "Tuned CV Sensitivity:  0.89663597322218\n",
      "\n",
      "\n",
      "\n",
      "\n",
      "2\n",
      "Tuned CV Accuracy:  0.8948693996654924\n",
      "Tuned CV F1:  0.8639252115663746\n",
      "Tuned CV Precision:  0.8945992432060542\n",
      "Tuned CV Recall:  0.8501707717569786\n",
      "Tuned CV Gmean:  0.8912063812236003\n",
      "Tuned CV Specificity:  0.9418451569387034\n",
      "Tuned CV Sensitivity:  0.8501707717569786\n",
      "\n",
      "\n",
      "\n",
      "\n",
      "3\n",
      "Tuned CV Accuracy:  0.8879877005402426\n",
      "Tuned CV F1:  0.8432197421284382\n",
      "Tuned CV Precision:  0.9150901559454192\n",
      "Tuned CV Recall:  0.8143809523809523\n",
      "Tuned CV Gmean:  0.8755950175153128\n",
      "Tuned CV Specificity:  0.9602307084811141\n",
      "Tuned CV Sensitivity:  0.8143809523809523\n",
      "\n",
      "\n",
      "\n",
      "\n",
      "4\n",
      "Tuned CV Accuracy:  0.6467921138279051\n",
      "Tuned CV F1:  0.5981494245827752\n",
      "Tuned CV Precision:  0.573436348664956\n",
      "Tuned CV Recall:  0.7072106511923957\n",
      "Tuned CV Gmean:  0.6433231367350392\n",
      "Tuned CV Specificity:  0.6420518226260139\n",
      "Tuned CV Sensitivity:  0.7072106511923957\n",
      "\n",
      "\n",
      "\n",
      "\n"
     ],
     "output_type": "stream"
    }
   ],
   "source": [
    "max_depths = np.array([6,3,5,1,6])\n",
    "max_trees = np.array([41,56,1,1,1])\n",
    "for j in range(step_plusone):\n",
    "    print(j)\n",
    "    feat_list = final_features2[j][0]\n",
    "    X_tr = X_train[feat_list]\n",
    "    params = {\n",
    "    'max_depth': max_depths[j], \n",
    "    'n_estimators': max_trees[j]\n",
    "     }\n",
    "    modelxgbb = XGBClassifier(**params).fit(X_tr, y_train)\n",
    "    f1s = []\n",
    "    ps =[]\n",
    "    rs =[]\n",
    "    accs = []\n",
    "    gms =[]\n",
    "    spes =[]\n",
    "    sens = []\n",
    "    for i, (train_index, val_index) in enumerate(cv.split(X_tr, y_train, train_subjects)):\n",
    "        X_train_tr, X_val = X_tr.iloc[train_index,:], X_tr.iloc[val_index,:]\n",
    "        y_train_tr, y_val = y_train.iloc[train_index], y_train.iloc[val_index]\n",
    "        modelxgbb.fit(X_train_tr, y_train_tr)\n",
    "        y_proba = modelxgbb.predict_proba(X_val)[:, 1]\n",
    "        y_pred = modelxgbb.predict(X_val)\n",
    "        acc = accuracy_score(y_val, y_pred)\n",
    "        f1 = fbeta_score(y_val, y_pred, beta=1)\n",
    "        p = precision_score(y_val, y_pred)\n",
    "        r = recall_score(y_val, y_pred)\n",
    "        \n",
    "        gm = geometric_mean_score(y_val, y_pred)\n",
    "        spe = specificity_score(y_val, y_pred)\n",
    "        sen = sensitivity_score(y_val, y_pred)\n",
    "    \n",
    "        accs.append(acc)\n",
    "        f1s.append(f1)\n",
    "        ps.append(p)\n",
    "        rs.append(r)\n",
    "        gms.append(gm)\n",
    "        spes.append(spe)\n",
    "        sens.append(sen)\n",
    "    mean_f1 = np.mean(f1s, axis =0)\n",
    "    mean_p = np.mean(ps, axis =0)\n",
    "    mean_r = np.mean(rs, axis =0)\n",
    "    mean_acc = np.mean(accs, axis =0)\n",
    "    mean_gm = np.mean(gms, axis =0)\n",
    "    mean_spe = np.mean(spes, axis =0)\n",
    "    mean_sen = np.mean(sens, axis =0)\n",
    "\n",
    "    print('Tuned CV Accuracy: ',mean_acc)\n",
    "    print('Tuned CV F1: ',mean_f1)\n",
    "    print('Tuned CV Precision: ',mean_p)\n",
    "    print('Tuned CV Recall: ',mean_r)\n",
    "    \n",
    "    print('Tuned CV Gmean: ',mean_gm)\n",
    "    print('Tuned CV Specificity: ',mean_spe)\n",
    "    print('Tuned CV Sensitivity: ',mean_sen)\n",
    "    print(\"\\n\")\n",
    "    print(\"\\n\")"
   ],
   "metadata": {
    "collapsed": false,
    "pycharm": {
     "name": "#%% cv tuned \n",
     "is_executing": false
    }
   }
  },
  {
   "cell_type": "code",
   "execution_count": 24,
   "outputs": [
    {
     "name": "stdout",
     "text": [
      "0\n",
      "Acc training set: 1.0000\n",
      "test Accuracy:  0.8947368421052632\n",
      "test F1:  0.8108108108108109\n",
      "test Precision:  0.8333333333333334\n",
      "test Recall:  0.7894736842105263\n",
      "test Gmean:  0.8600070862299048\n",
      "test Specificity:  0.9368421052631579\n",
      "test Sensitivity:  0.7894736842105263\n",
      "\n",
      "\n",
      "\n",
      "\n",
      "1\n",
      "Acc training set: 1.0000\n",
      "test Accuracy:  0.8571428571428571\n",
      "test F1:  0.7466666666666667\n",
      "test Precision:  0.7567567567567568\n",
      "test Recall:  0.7368421052631579\n",
      "test Gmean:  0.8167227259482451\n",
      "test Specificity:  0.9052631578947369\n",
      "test Sensitivity:  0.7368421052631579\n",
      "\n",
      "\n",
      "\n",
      "\n",
      "2\n",
      "Acc training set: 0.9645\n",
      "test Accuracy:  0.9097744360902256\n",
      "test F1:  0.8421052631578947\n",
      "test Precision:  0.8421052631578947\n",
      "test Recall:  0.8421052631578947\n",
      "test Gmean:  0.8882114993570099\n",
      "test Specificity:  0.9368421052631579\n",
      "test Sensitivity:  0.8421052631578947\n",
      "\n",
      "\n",
      "\n",
      "\n",
      "3\n",
      "Acc training set: 0.8759\n",
      "test Accuracy:  0.8270676691729323\n",
      "test F1:  0.6933333333333334\n",
      "test Precision:  0.7027027027027027\n",
      "test Recall:  0.6842105263157895\n",
      "test Gmean:  0.7778085558699438\n",
      "test Specificity:  0.8842105263157894\n",
      "test Sensitivity:  0.6842105263157895\n",
      "\n",
      "\n",
      "\n",
      "\n",
      "4\n",
      "Acc training set: 0.7624\n",
      "test Accuracy:  0.6390977443609023\n",
      "test F1:  0.46666666666666673\n",
      "test Precision:  0.40384615384615385\n",
      "test Recall:  0.5526315789473685\n",
      "test Gmean:  0.6101632314185027\n",
      "test Specificity:  0.6736842105263158\n",
      "test Sensitivity:  0.5526315789473685\n",
      "\n",
      "\n",
      "\n",
      "\n"
     ],
     "output_type": "stream"
    }
   ],
   "source": [
    "max_depths = np.array([6,3,5,1,6])\n",
    "max_trees = np.array([41,56,1,1,1])\n",
    "step_plusone =5\n",
    "tes_acc = np.ones(step_plusone)\n",
    "tes_f1 = np.ones(step_plusone)\n",
    "tes_p = np.ones(step_plusone)\n",
    "tes_r = np.ones(step_plusone)\n",
    "tes_gm = np.ones(step_plusone)\n",
    "tes_spe = np.ones(step_plusone)\n",
    "tes_sen = np.ones(step_plusone)\n",
    "for j in range(step_plusone):\n",
    "    print(j)\n",
    "    feat_list = final_features2[j][0]\n",
    "    X_tr = X_train[feat_list]\n",
    "    X_te = X_test[feat_list]\n",
    "    params = {\n",
    "    'max_depth': max_depths[j], \n",
    "    'n_estimators': max_trees[j]\n",
    "     }\n",
    "    model = XGBClassifier(**params).fit(X_tr, y_train)\n",
    "    print('Acc training set: {:.4f}'\n",
    "         .format(model.score(X_tr, y_train)))\n",
    "    y_pred = model.predict(X_te)\n",
    "    tes_acc[j] = accuracy_score(y_test, y_pred)\n",
    "    tes_f1[j] = fbeta_score(y_test, y_pred, beta=1)\n",
    "    tes_p[j] = precision_score(y_test, y_pred)\n",
    "    tes_r[j] = recall_score(y_test, y_pred)\n",
    "    tes_gm[j] = geometric_mean_score(y_test, y_pred)\n",
    "    tes_spe[j] = specificity_score(y_test, y_pred)\n",
    "    tes_sen[j] = sensitivity_score(y_test, y_pred)\n",
    "    print('test Accuracy: ',tes_acc[j])\n",
    "    print('test F1: ',tes_f1[j])\n",
    "    print('test Precision: ',tes_p[j])\n",
    "    print('test Recall: ',tes_r[j])\n",
    "    print('test Gmean: ',tes_gm[j])\n",
    "    print('test Specificity: ',tes_spe[j])\n",
    "    print('test Sensitivity: ',tes_sen[j])\n",
    "    print(\"\\n\")\n",
    "    print(\"\\n\")"
   ],
   "metadata": {
    "collapsed": false,
    "pycharm": {
     "name": "#%% test tune\n",
     "is_executing": false
    }
   }
  },
  {
   "cell_type": "code",
   "execution_count": 25,
   "outputs": [],
   "source": [
    "def adjusted_classes(y_scores, t):\n",
    "    return [1 if y >= t else 0 for y in y_scores]"
   ],
   "metadata": {
    "collapsed": false,
    "pycharm": {
     "name": "#%%\n",
     "is_executing": false
    }
   }
  },
  {
   "cell_type": "code",
   "execution_count": 93,
   "outputs": [],
   "source": [
    "fl1 = ['ECG_RR_mean' ,'ECG_RR_SDNN' ,'ECG_RR_SDSD', 'ECG_RR_L' ,'ECG_RR_L2',\n",
    " 'ECG_RR_LoT_2', 'ECG_RR_Log10LT_2', 'RSP_RATE_std', 'RSP_Pk', 'RSP_HF',\n",
    " 'RSP_HF_gaussF1', 'RSP_ecgHF_pF2n' ,'PPG_PP_CSI_modified', 'PPG_PRT_SDNN',\n",
    " 'SCL_mean', 'SCL_std']\n",
    "\n",
    "fl2= ['ECG_RR_mean', 'ECG_RR_SDNN', 'ECG_RR_SDSD', 'ECG_RR_L2', 'RSP_HF',\n",
    " 'RSP_ecgHF_pF2n', 'SCL_mean']\n",
    "\n",
    "fl3= ['ECG_RR_mean', 'ECG_RR_SDSD', 'ECG_RR_PNN50', 'ECG_RR_L', 'ECG_RR_CVI',\n",
    " 'ECG_RR_LoT_2', 'SCL_mean', 'SCL_gradient']\n",
    "fl4 =['ECG_RR_mean']\n",
    "# fl4 =['ECG_RR_mean', 'ECG_RR_SDNN', 'ECG_RR_SDSD', 'ECG_RR_PNN50', 'ECG_RR_L2',\n",
    "#  'ECG_RR_LoT_2']\n",
    "fl5 =['SCL_mean']\n",
    "params1 = {\n",
    "    'max_depth': 6, #4\n",
    "    'n_estimators': 41 # 83\n",
    "     }\n",
    "\n",
    "params2 = {\n",
    "    'max_depth': 3, \n",
    "    'n_estimators': 56\n",
    "     }\n",
    "params3 = {\n",
    "    'max_depth': 5, \n",
    "    'n_estimators': 1\n",
    "     }\n",
    "params4 = {\n",
    "    'max_depth': 1, #1\n",
    "    'n_estimators': 1 #1\n",
    "     }\n",
    "params5 = {\n",
    "    'max_depth': 1, # 6\n",
    "    'n_estimators': 1\n",
    "     }"
   ],
   "metadata": {
    "collapsed": false,
    "pycharm": {
     "name": "#%% tuned\n",
     "is_executing": false
    }
   }
  },
  {
   "cell_type": "code",
   "execution_count": 104,
   "outputs": [
    {
     "data": {
      "text/plain": "XGBClassifier(base_score=0.5, booster=None, colsample_bylevel=1,\n              colsample_bynode=1, colsample_bytree=1, gamma=0, gpu_id=-1,\n              importance_type='gain', interaction_constraints=None,\n              learning_rate=0.300000012, max_delta_step=0, max_depth=1,\n              min_child_weight=1, missing=nan, monotone_constraints=None,\n              n_estimators=1, n_jobs=0, num_parallel_tree=1,\n              objective='binary:logistic', random_state=0, reg_alpha=0,\n              reg_lambda=1, scale_pos_weight=1, subsample=1, tree_method=None,\n              validate_parameters=False, verbosity=None)"
     },
     "metadata": {},
     "output_type": "execute_result",
     "execution_count": 104
    },
    {
     "data": {
      "text/plain": "XGBClassifier(base_score=0.5, booster=None, colsample_bylevel=1,\n              colsample_bynode=1, colsample_bytree=1, gamma=0, gpu_id=-1,\n              importance_type='gain', interaction_constraints=None,\n              learning_rate=0.300000012, max_delta_step=0, max_depth=1,\n              min_child_weight=1, missing=nan, monotone_constraints=None,\n              n_estimators=1, n_jobs=0, num_parallel_tree=1,\n              objective='binary:logistic', random_state=0, reg_alpha=0,\n              reg_lambda=1, scale_pos_weight=1, subsample=1, tree_method=None,\n              validate_parameters=False, verbosity=None)"
     },
     "metadata": {},
     "output_type": "execute_result",
     "execution_count": 104
    },
    {
     "data": {
      "text/plain": "XGBClassifier(base_score=0.5, booster=None, colsample_bylevel=1,\n              colsample_bynode=1, colsample_bytree=1, gamma=0, gpu_id=-1,\n              importance_type='gain', interaction_constraints=None,\n              learning_rate=0.300000012, max_delta_step=0, max_depth=5,\n              min_child_weight=1, missing=nan, monotone_constraints=None,\n              n_estimators=1, n_jobs=0, num_parallel_tree=1,\n              objective='binary:logistic', random_state=0, reg_alpha=0,\n              reg_lambda=1, scale_pos_weight=1, subsample=1, tree_method=None,\n              validate_parameters=False, verbosity=None)"
     },
     "metadata": {},
     "output_type": "execute_result",
     "execution_count": 104
    },
    {
     "data": {
      "text/plain": "XGBClassifier(base_score=0.5, booster=None, colsample_bylevel=1,\n              colsample_bynode=1, colsample_bytree=1, gamma=0, gpu_id=-1,\n              importance_type='gain', interaction_constraints=None,\n              learning_rate=0.300000012, max_delta_step=0, max_depth=3,\n              min_child_weight=1, missing=nan, monotone_constraints=None,\n              n_estimators=56, n_jobs=0, num_parallel_tree=1,\n              objective='binary:logistic', random_state=0, reg_alpha=0,\n              reg_lambda=1, scale_pos_weight=1, subsample=1, tree_method=None,\n              validate_parameters=False, verbosity=None)"
     },
     "metadata": {},
     "output_type": "execute_result",
     "execution_count": 104
    },
    {
     "data": {
      "text/plain": "XGBClassifier(base_score=0.5, booster=None, colsample_bylevel=1,\n              colsample_bynode=1, colsample_bytree=1, gamma=0, gpu_id=-1,\n              importance_type='gain', interaction_constraints=None,\n              learning_rate=0.300000012, max_delta_step=0, max_depth=6,\n              min_child_weight=1, missing=nan, monotone_constraints=None,\n              n_estimators=41, n_jobs=0, num_parallel_tree=1,\n              objective='binary:logistic', random_state=0, reg_alpha=0,\n              reg_lambda=1, scale_pos_weight=1, subsample=1, tree_method=None,\n              validate_parameters=False, verbosity=None)"
     },
     "metadata": {},
     "output_type": "execute_result",
     "execution_count": 104
    },
    {
     "data": {
      "text/plain": "XGBClassifier(base_score=0.5, booster=None, colsample_bylevel=1,\n              colsample_bynode=1, colsample_bytree=1, gamma=0, gpu_id=-1,\n              importance_type='gain', interaction_constraints=None,\n              learning_rate=0.300000012, max_delta_step=0, max_depth=1,\n              min_child_weight=1, missing=nan, monotone_constraints=None,\n              n_estimators=1, n_jobs=0, num_parallel_tree=1,\n              objective='binary:logistic', random_state=0, reg_alpha=0,\n              reg_lambda=1, scale_pos_weight=1, subsample=1, tree_method=None,\n              validate_parameters=False, verbosity=None)"
     },
     "metadata": {},
     "output_type": "execute_result",
     "execution_count": 104
    },
    {
     "data": {
      "text/plain": "XGBClassifier(base_score=0.5, booster=None, colsample_bylevel=1,\n              colsample_bynode=1, colsample_bytree=1, gamma=0, gpu_id=-1,\n              importance_type='gain', interaction_constraints=None,\n              learning_rate=0.300000012, max_delta_step=0, max_depth=1,\n              min_child_weight=1, missing=nan, monotone_constraints=None,\n              n_estimators=1, n_jobs=0, num_parallel_tree=1,\n              objective='binary:logistic', random_state=0, reg_alpha=0,\n              reg_lambda=1, scale_pos_weight=1, subsample=1, tree_method=None,\n              validate_parameters=False, verbosity=None)"
     },
     "metadata": {},
     "output_type": "execute_result",
     "execution_count": 104
    },
    {
     "data": {
      "text/plain": "XGBClassifier(base_score=0.5, booster=None, colsample_bylevel=1,\n              colsample_bynode=1, colsample_bytree=1, gamma=0, gpu_id=-1,\n              importance_type='gain', interaction_constraints=None,\n              learning_rate=0.300000012, max_delta_step=0, max_depth=5,\n              min_child_weight=1, missing=nan, monotone_constraints=None,\n              n_estimators=1, n_jobs=0, num_parallel_tree=1,\n              objective='binary:logistic', random_state=0, reg_alpha=0,\n              reg_lambda=1, scale_pos_weight=1, subsample=1, tree_method=None,\n              validate_parameters=False, verbosity=None)"
     },
     "metadata": {},
     "output_type": "execute_result",
     "execution_count": 104
    },
    {
     "data": {
      "text/plain": "XGBClassifier(base_score=0.5, booster=None, colsample_bylevel=1,\n              colsample_bynode=1, colsample_bytree=1, gamma=0, gpu_id=-1,\n              importance_type='gain', interaction_constraints=None,\n              learning_rate=0.300000012, max_delta_step=0, max_depth=3,\n              min_child_weight=1, missing=nan, monotone_constraints=None,\n              n_estimators=56, n_jobs=0, num_parallel_tree=1,\n              objective='binary:logistic', random_state=0, reg_alpha=0,\n              reg_lambda=1, scale_pos_weight=1, subsample=1, tree_method=None,\n              validate_parameters=False, verbosity=None)"
     },
     "metadata": {},
     "output_type": "execute_result",
     "execution_count": 104
    },
    {
     "data": {
      "text/plain": "XGBClassifier(base_score=0.5, booster=None, colsample_bylevel=1,\n              colsample_bynode=1, colsample_bytree=1, gamma=0, gpu_id=-1,\n              importance_type='gain', interaction_constraints=None,\n              learning_rate=0.300000012, max_delta_step=0, max_depth=6,\n              min_child_weight=1, missing=nan, monotone_constraints=None,\n              n_estimators=41, n_jobs=0, num_parallel_tree=1,\n              objective='binary:logistic', random_state=0, reg_alpha=0,\n              reg_lambda=1, scale_pos_weight=1, subsample=1, tree_method=None,\n              validate_parameters=False, verbosity=None)"
     },
     "metadata": {},
     "output_type": "execute_result",
     "execution_count": 104
    },
    {
     "data": {
      "text/plain": "XGBClassifier(base_score=0.5, booster=None, colsample_bylevel=1,\n              colsample_bynode=1, colsample_bytree=1, gamma=0, gpu_id=-1,\n              importance_type='gain', interaction_constraints=None,\n              learning_rate=0.300000012, max_delta_step=0, max_depth=1,\n              min_child_weight=1, missing=nan, monotone_constraints=None,\n              n_estimators=1, n_jobs=0, num_parallel_tree=1,\n              objective='binary:logistic', random_state=0, reg_alpha=0,\n              reg_lambda=1, scale_pos_weight=1, subsample=1, tree_method=None,\n              validate_parameters=False, verbosity=None)"
     },
     "metadata": {},
     "output_type": "execute_result",
     "execution_count": 104
    },
    {
     "data": {
      "text/plain": "XGBClassifier(base_score=0.5, booster=None, colsample_bylevel=1,\n              colsample_bynode=1, colsample_bytree=1, gamma=0, gpu_id=-1,\n              importance_type='gain', interaction_constraints=None,\n              learning_rate=0.300000012, max_delta_step=0, max_depth=1,\n              min_child_weight=1, missing=nan, monotone_constraints=None,\n              n_estimators=1, n_jobs=0, num_parallel_tree=1,\n              objective='binary:logistic', random_state=0, reg_alpha=0,\n              reg_lambda=1, scale_pos_weight=1, subsample=1, tree_method=None,\n              validate_parameters=False, verbosity=None)"
     },
     "metadata": {},
     "output_type": "execute_result",
     "execution_count": 104
    },
    {
     "data": {
      "text/plain": "XGBClassifier(base_score=0.5, booster=None, colsample_bylevel=1,\n              colsample_bynode=1, colsample_bytree=1, gamma=0, gpu_id=-1,\n              importance_type='gain', interaction_constraints=None,\n              learning_rate=0.300000012, max_delta_step=0, max_depth=5,\n              min_child_weight=1, missing=nan, monotone_constraints=None,\n              n_estimators=1, n_jobs=0, num_parallel_tree=1,\n              objective='binary:logistic', random_state=0, reg_alpha=0,\n              reg_lambda=1, scale_pos_weight=1, subsample=1, tree_method=None,\n              validate_parameters=False, verbosity=None)"
     },
     "metadata": {},
     "output_type": "execute_result",
     "execution_count": 104
    },
    {
     "data": {
      "text/plain": "XGBClassifier(base_score=0.5, booster=None, colsample_bylevel=1,\n              colsample_bynode=1, colsample_bytree=1, gamma=0, gpu_id=-1,\n              importance_type='gain', interaction_constraints=None,\n              learning_rate=0.300000012, max_delta_step=0, max_depth=3,\n              min_child_weight=1, missing=nan, monotone_constraints=None,\n              n_estimators=56, n_jobs=0, num_parallel_tree=1,\n              objective='binary:logistic', random_state=0, reg_alpha=0,\n              reg_lambda=1, scale_pos_weight=1, subsample=1, tree_method=None,\n              validate_parameters=False, verbosity=None)"
     },
     "metadata": {},
     "output_type": "execute_result",
     "execution_count": 104
    },
    {
     "data": {
      "text/plain": "XGBClassifier(base_score=0.5, booster=None, colsample_bylevel=1,\n              colsample_bynode=1, colsample_bytree=1, gamma=0, gpu_id=-1,\n              importance_type='gain', interaction_constraints=None,\n              learning_rate=0.300000012, max_delta_step=0, max_depth=6,\n              min_child_weight=1, missing=nan, monotone_constraints=None,\n              n_estimators=41, n_jobs=0, num_parallel_tree=1,\n              objective='binary:logistic', random_state=0, reg_alpha=0,\n              reg_lambda=1, scale_pos_weight=1, subsample=1, tree_method=None,\n              validate_parameters=False, verbosity=None)"
     },
     "metadata": {},
     "output_type": "execute_result",
     "execution_count": 104
    },
    {
     "data": {
      "text/plain": "XGBClassifier(base_score=0.5, booster=None, colsample_bylevel=1,\n              colsample_bynode=1, colsample_bytree=1, gamma=0, gpu_id=-1,\n              importance_type='gain', interaction_constraints=None,\n              learning_rate=0.300000012, max_delta_step=0, max_depth=1,\n              min_child_weight=1, missing=nan, monotone_constraints=None,\n              n_estimators=1, n_jobs=0, num_parallel_tree=1,\n              objective='binary:logistic', random_state=0, reg_alpha=0,\n              reg_lambda=1, scale_pos_weight=1, subsample=1, tree_method=None,\n              validate_parameters=False, verbosity=None)"
     },
     "metadata": {},
     "output_type": "execute_result",
     "execution_count": 104
    },
    {
     "data": {
      "text/plain": "XGBClassifier(base_score=0.5, booster=None, colsample_bylevel=1,\n              colsample_bynode=1, colsample_bytree=1, gamma=0, gpu_id=-1,\n              importance_type='gain', interaction_constraints=None,\n              learning_rate=0.300000012, max_delta_step=0, max_depth=1,\n              min_child_weight=1, missing=nan, monotone_constraints=None,\n              n_estimators=1, n_jobs=0, num_parallel_tree=1,\n              objective='binary:logistic', random_state=0, reg_alpha=0,\n              reg_lambda=1, scale_pos_weight=1, subsample=1, tree_method=None,\n              validate_parameters=False, verbosity=None)"
     },
     "metadata": {},
     "output_type": "execute_result",
     "execution_count": 104
    },
    {
     "data": {
      "text/plain": "XGBClassifier(base_score=0.5, booster=None, colsample_bylevel=1,\n              colsample_bynode=1, colsample_bytree=1, gamma=0, gpu_id=-1,\n              importance_type='gain', interaction_constraints=None,\n              learning_rate=0.300000012, max_delta_step=0, max_depth=5,\n              min_child_weight=1, missing=nan, monotone_constraints=None,\n              n_estimators=1, n_jobs=0, num_parallel_tree=1,\n              objective='binary:logistic', random_state=0, reg_alpha=0,\n              reg_lambda=1, scale_pos_weight=1, subsample=1, tree_method=None,\n              validate_parameters=False, verbosity=None)"
     },
     "metadata": {},
     "output_type": "execute_result",
     "execution_count": 104
    },
    {
     "data": {
      "text/plain": "XGBClassifier(base_score=0.5, booster=None, colsample_bylevel=1,\n              colsample_bynode=1, colsample_bytree=1, gamma=0, gpu_id=-1,\n              importance_type='gain', interaction_constraints=None,\n              learning_rate=0.300000012, max_delta_step=0, max_depth=3,\n              min_child_weight=1, missing=nan, monotone_constraints=None,\n              n_estimators=56, n_jobs=0, num_parallel_tree=1,\n              objective='binary:logistic', random_state=0, reg_alpha=0,\n              reg_lambda=1, scale_pos_weight=1, subsample=1, tree_method=None,\n              validate_parameters=False, verbosity=None)"
     },
     "metadata": {},
     "output_type": "execute_result",
     "execution_count": 104
    },
    {
     "data": {
      "text/plain": "XGBClassifier(base_score=0.5, booster=None, colsample_bylevel=1,\n              colsample_bynode=1, colsample_bytree=1, gamma=0, gpu_id=-1,\n              importance_type='gain', interaction_constraints=None,\n              learning_rate=0.300000012, max_delta_step=0, max_depth=6,\n              min_child_weight=1, missing=nan, monotone_constraints=None,\n              n_estimators=41, n_jobs=0, num_parallel_tree=1,\n              objective='binary:logistic', random_state=0, reg_alpha=0,\n              reg_lambda=1, scale_pos_weight=1, subsample=1, tree_method=None,\n              validate_parameters=False, verbosity=None)"
     },
     "metadata": {},
     "output_type": "execute_result",
     "execution_count": 104
    },
    {
     "data": {
      "text/plain": "XGBClassifier(base_score=0.5, booster=None, colsample_bylevel=1,\n              colsample_bynode=1, colsample_bytree=1, gamma=0, gpu_id=-1,\n              importance_type='gain', interaction_constraints=None,\n              learning_rate=0.300000012, max_delta_step=0, max_depth=1,\n              min_child_weight=1, missing=nan, monotone_constraints=None,\n              n_estimators=1, n_jobs=0, num_parallel_tree=1,\n              objective='binary:logistic', random_state=0, reg_alpha=0,\n              reg_lambda=1, scale_pos_weight=1, subsample=1, tree_method=None,\n              validate_parameters=False, verbosity=None)"
     },
     "metadata": {},
     "output_type": "execute_result",
     "execution_count": 104
    },
    {
     "data": {
      "text/plain": "XGBClassifier(base_score=0.5, booster=None, colsample_bylevel=1,\n              colsample_bynode=1, colsample_bytree=1, gamma=0, gpu_id=-1,\n              importance_type='gain', interaction_constraints=None,\n              learning_rate=0.300000012, max_delta_step=0, max_depth=1,\n              min_child_weight=1, missing=nan, monotone_constraints=None,\n              n_estimators=1, n_jobs=0, num_parallel_tree=1,\n              objective='binary:logistic', random_state=0, reg_alpha=0,\n              reg_lambda=1, scale_pos_weight=1, subsample=1, tree_method=None,\n              validate_parameters=False, verbosity=None)"
     },
     "metadata": {},
     "output_type": "execute_result",
     "execution_count": 104
    },
    {
     "data": {
      "text/plain": "XGBClassifier(base_score=0.5, booster=None, colsample_bylevel=1,\n              colsample_bynode=1, colsample_bytree=1, gamma=0, gpu_id=-1,\n              importance_type='gain', interaction_constraints=None,\n              learning_rate=0.300000012, max_delta_step=0, max_depth=5,\n              min_child_weight=1, missing=nan, monotone_constraints=None,\n              n_estimators=1, n_jobs=0, num_parallel_tree=1,\n              objective='binary:logistic', random_state=0, reg_alpha=0,\n              reg_lambda=1, scale_pos_weight=1, subsample=1, tree_method=None,\n              validate_parameters=False, verbosity=None)"
     },
     "metadata": {},
     "output_type": "execute_result",
     "execution_count": 104
    },
    {
     "data": {
      "text/plain": "XGBClassifier(base_score=0.5, booster=None, colsample_bylevel=1,\n              colsample_bynode=1, colsample_bytree=1, gamma=0, gpu_id=-1,\n              importance_type='gain', interaction_constraints=None,\n              learning_rate=0.300000012, max_delta_step=0, max_depth=3,\n              min_child_weight=1, missing=nan, monotone_constraints=None,\n              n_estimators=56, n_jobs=0, num_parallel_tree=1,\n              objective='binary:logistic', random_state=0, reg_alpha=0,\n              reg_lambda=1, scale_pos_weight=1, subsample=1, tree_method=None,\n              validate_parameters=False, verbosity=None)"
     },
     "metadata": {},
     "output_type": "execute_result",
     "execution_count": 104
    },
    {
     "data": {
      "text/plain": "XGBClassifier(base_score=0.5, booster=None, colsample_bylevel=1,\n              colsample_bynode=1, colsample_bytree=1, gamma=0, gpu_id=-1,\n              importance_type='gain', interaction_constraints=None,\n              learning_rate=0.300000012, max_delta_step=0, max_depth=6,\n              min_child_weight=1, missing=nan, monotone_constraints=None,\n              n_estimators=41, n_jobs=0, num_parallel_tree=1,\n              objective='binary:logistic', random_state=0, reg_alpha=0,\n              reg_lambda=1, scale_pos_weight=1, subsample=1, tree_method=None,\n              validate_parameters=False, verbosity=None)"
     },
     "metadata": {},
     "output_type": "execute_result",
     "execution_count": 104
    },
    {
     "data": {
      "text/plain": "XGBClassifier(base_score=0.5, booster=None, colsample_bylevel=1,\n              colsample_bynode=1, colsample_bytree=1, gamma=0, gpu_id=-1,\n              importance_type='gain', interaction_constraints=None,\n              learning_rate=0.300000012, max_delta_step=0, max_depth=1,\n              min_child_weight=1, missing=nan, monotone_constraints=None,\n              n_estimators=1, n_jobs=0, num_parallel_tree=1,\n              objective='binary:logistic', random_state=0, reg_alpha=0,\n              reg_lambda=1, scale_pos_weight=1, subsample=1, tree_method=None,\n              validate_parameters=False, verbosity=None)"
     },
     "metadata": {},
     "output_type": "execute_result",
     "execution_count": 104
    },
    {
     "data": {
      "text/plain": "XGBClassifier(base_score=0.5, booster=None, colsample_bylevel=1,\n              colsample_bynode=1, colsample_bytree=1, gamma=0, gpu_id=-1,\n              importance_type='gain', interaction_constraints=None,\n              learning_rate=0.300000012, max_delta_step=0, max_depth=1,\n              min_child_weight=1, missing=nan, monotone_constraints=None,\n              n_estimators=1, n_jobs=0, num_parallel_tree=1,\n              objective='binary:logistic', random_state=0, reg_alpha=0,\n              reg_lambda=1, scale_pos_weight=1, subsample=1, tree_method=None,\n              validate_parameters=False, verbosity=None)"
     },
     "metadata": {},
     "output_type": "execute_result",
     "execution_count": 104
    },
    {
     "data": {
      "text/plain": "XGBClassifier(base_score=0.5, booster=None, colsample_bylevel=1,\n              colsample_bynode=1, colsample_bytree=1, gamma=0, gpu_id=-1,\n              importance_type='gain', interaction_constraints=None,\n              learning_rate=0.300000012, max_delta_step=0, max_depth=5,\n              min_child_weight=1, missing=nan, monotone_constraints=None,\n              n_estimators=1, n_jobs=0, num_parallel_tree=1,\n              objective='binary:logistic', random_state=0, reg_alpha=0,\n              reg_lambda=1, scale_pos_weight=1, subsample=1, tree_method=None,\n              validate_parameters=False, verbosity=None)"
     },
     "metadata": {},
     "output_type": "execute_result",
     "execution_count": 104
    },
    {
     "data": {
      "text/plain": "XGBClassifier(base_score=0.5, booster=None, colsample_bylevel=1,\n              colsample_bynode=1, colsample_bytree=1, gamma=0, gpu_id=-1,\n              importance_type='gain', interaction_constraints=None,\n              learning_rate=0.300000012, max_delta_step=0, max_depth=3,\n              min_child_weight=1, missing=nan, monotone_constraints=None,\n              n_estimators=56, n_jobs=0, num_parallel_tree=1,\n              objective='binary:logistic', random_state=0, reg_alpha=0,\n              reg_lambda=1, scale_pos_weight=1, subsample=1, tree_method=None,\n              validate_parameters=False, verbosity=None)"
     },
     "metadata": {},
     "output_type": "execute_result",
     "execution_count": 104
    },
    {
     "data": {
      "text/plain": "XGBClassifier(base_score=0.5, booster=None, colsample_bylevel=1,\n              colsample_bynode=1, colsample_bytree=1, gamma=0, gpu_id=-1,\n              importance_type='gain', interaction_constraints=None,\n              learning_rate=0.300000012, max_delta_step=0, max_depth=6,\n              min_child_weight=1, missing=nan, monotone_constraints=None,\n              n_estimators=41, n_jobs=0, num_parallel_tree=1,\n              objective='binary:logistic', random_state=0, reg_alpha=0,\n              reg_lambda=1, scale_pos_weight=1, subsample=1, tree_method=None,\n              validate_parameters=False, verbosity=None)"
     },
     "metadata": {},
     "output_type": "execute_result",
     "execution_count": 104
    },
    {
     "data": {
      "text/plain": "XGBClassifier(base_score=0.5, booster=None, colsample_bylevel=1,\n              colsample_bynode=1, colsample_bytree=1, gamma=0, gpu_id=-1,\n              importance_type='gain', interaction_constraints=None,\n              learning_rate=0.300000012, max_delta_step=0, max_depth=1,\n              min_child_weight=1, missing=nan, monotone_constraints=None,\n              n_estimators=1, n_jobs=0, num_parallel_tree=1,\n              objective='binary:logistic', random_state=0, reg_alpha=0,\n              reg_lambda=1, scale_pos_weight=1, subsample=1, tree_method=None,\n              validate_parameters=False, verbosity=None)"
     },
     "metadata": {},
     "output_type": "execute_result",
     "execution_count": 104
    },
    {
     "data": {
      "text/plain": "XGBClassifier(base_score=0.5, booster=None, colsample_bylevel=1,\n              colsample_bynode=1, colsample_bytree=1, gamma=0, gpu_id=-1,\n              importance_type='gain', interaction_constraints=None,\n              learning_rate=0.300000012, max_delta_step=0, max_depth=1,\n              min_child_weight=1, missing=nan, monotone_constraints=None,\n              n_estimators=1, n_jobs=0, num_parallel_tree=1,\n              objective='binary:logistic', random_state=0, reg_alpha=0,\n              reg_lambda=1, scale_pos_weight=1, subsample=1, tree_method=None,\n              validate_parameters=False, verbosity=None)"
     },
     "metadata": {},
     "output_type": "execute_result",
     "execution_count": 104
    },
    {
     "data": {
      "text/plain": "XGBClassifier(base_score=0.5, booster=None, colsample_bylevel=1,\n              colsample_bynode=1, colsample_bytree=1, gamma=0, gpu_id=-1,\n              importance_type='gain', interaction_constraints=None,\n              learning_rate=0.300000012, max_delta_step=0, max_depth=5,\n              min_child_weight=1, missing=nan, monotone_constraints=None,\n              n_estimators=1, n_jobs=0, num_parallel_tree=1,\n              objective='binary:logistic', random_state=0, reg_alpha=0,\n              reg_lambda=1, scale_pos_weight=1, subsample=1, tree_method=None,\n              validate_parameters=False, verbosity=None)"
     },
     "metadata": {},
     "output_type": "execute_result",
     "execution_count": 104
    },
    {
     "data": {
      "text/plain": "XGBClassifier(base_score=0.5, booster=None, colsample_bylevel=1,\n              colsample_bynode=1, colsample_bytree=1, gamma=0, gpu_id=-1,\n              importance_type='gain', interaction_constraints=None,\n              learning_rate=0.300000012, max_delta_step=0, max_depth=3,\n              min_child_weight=1, missing=nan, monotone_constraints=None,\n              n_estimators=56, n_jobs=0, num_parallel_tree=1,\n              objective='binary:logistic', random_state=0, reg_alpha=0,\n              reg_lambda=1, scale_pos_weight=1, subsample=1, tree_method=None,\n              validate_parameters=False, verbosity=None)"
     },
     "metadata": {},
     "output_type": "execute_result",
     "execution_count": 104
    },
    {
     "data": {
      "text/plain": "XGBClassifier(base_score=0.5, booster=None, colsample_bylevel=1,\n              colsample_bynode=1, colsample_bytree=1, gamma=0, gpu_id=-1,\n              importance_type='gain', interaction_constraints=None,\n              learning_rate=0.300000012, max_delta_step=0, max_depth=6,\n              min_child_weight=1, missing=nan, monotone_constraints=None,\n              n_estimators=41, n_jobs=0, num_parallel_tree=1,\n              objective='binary:logistic', random_state=0, reg_alpha=0,\n              reg_lambda=1, scale_pos_weight=1, subsample=1, tree_method=None,\n              validate_parameters=False, verbosity=None)"
     },
     "metadata": {},
     "output_type": "execute_result",
     "execution_count": 104
    },
    {
     "data": {
      "text/plain": "XGBClassifier(base_score=0.5, booster=None, colsample_bylevel=1,\n              colsample_bynode=1, colsample_bytree=1, gamma=0, gpu_id=-1,\n              importance_type='gain', interaction_constraints=None,\n              learning_rate=0.300000012, max_delta_step=0, max_depth=1,\n              min_child_weight=1, missing=nan, monotone_constraints=None,\n              n_estimators=1, n_jobs=0, num_parallel_tree=1,\n              objective='binary:logistic', random_state=0, reg_alpha=0,\n              reg_lambda=1, scale_pos_weight=1, subsample=1, tree_method=None,\n              validate_parameters=False, verbosity=None)"
     },
     "metadata": {},
     "output_type": "execute_result",
     "execution_count": 104
    },
    {
     "data": {
      "text/plain": "XGBClassifier(base_score=0.5, booster=None, colsample_bylevel=1,\n              colsample_bynode=1, colsample_bytree=1, gamma=0, gpu_id=-1,\n              importance_type='gain', interaction_constraints=None,\n              learning_rate=0.300000012, max_delta_step=0, max_depth=1,\n              min_child_weight=1, missing=nan, monotone_constraints=None,\n              n_estimators=1, n_jobs=0, num_parallel_tree=1,\n              objective='binary:logistic', random_state=0, reg_alpha=0,\n              reg_lambda=1, scale_pos_weight=1, subsample=1, tree_method=None,\n              validate_parameters=False, verbosity=None)"
     },
     "metadata": {},
     "output_type": "execute_result",
     "execution_count": 104
    },
    {
     "data": {
      "text/plain": "XGBClassifier(base_score=0.5, booster=None, colsample_bylevel=1,\n              colsample_bynode=1, colsample_bytree=1, gamma=0, gpu_id=-1,\n              importance_type='gain', interaction_constraints=None,\n              learning_rate=0.300000012, max_delta_step=0, max_depth=5,\n              min_child_weight=1, missing=nan, monotone_constraints=None,\n              n_estimators=1, n_jobs=0, num_parallel_tree=1,\n              objective='binary:logistic', random_state=0, reg_alpha=0,\n              reg_lambda=1, scale_pos_weight=1, subsample=1, tree_method=None,\n              validate_parameters=False, verbosity=None)"
     },
     "metadata": {},
     "output_type": "execute_result",
     "execution_count": 104
    },
    {
     "data": {
      "text/plain": "XGBClassifier(base_score=0.5, booster=None, colsample_bylevel=1,\n              colsample_bynode=1, colsample_bytree=1, gamma=0, gpu_id=-1,\n              importance_type='gain', interaction_constraints=None,\n              learning_rate=0.300000012, max_delta_step=0, max_depth=3,\n              min_child_weight=1, missing=nan, monotone_constraints=None,\n              n_estimators=56, n_jobs=0, num_parallel_tree=1,\n              objective='binary:logistic', random_state=0, reg_alpha=0,\n              reg_lambda=1, scale_pos_weight=1, subsample=1, tree_method=None,\n              validate_parameters=False, verbosity=None)"
     },
     "metadata": {},
     "output_type": "execute_result",
     "execution_count": 104
    },
    {
     "data": {
      "text/plain": "XGBClassifier(base_score=0.5, booster=None, colsample_bylevel=1,\n              colsample_bynode=1, colsample_bytree=1, gamma=0, gpu_id=-1,\n              importance_type='gain', interaction_constraints=None,\n              learning_rate=0.300000012, max_delta_step=0, max_depth=6,\n              min_child_weight=1, missing=nan, monotone_constraints=None,\n              n_estimators=41, n_jobs=0, num_parallel_tree=1,\n              objective='binary:logistic', random_state=0, reg_alpha=0,\n              reg_lambda=1, scale_pos_weight=1, subsample=1, tree_method=None,\n              validate_parameters=False, verbosity=None)"
     },
     "metadata": {},
     "output_type": "execute_result",
     "execution_count": 104
    },
    {
     "data": {
      "text/plain": "XGBClassifier(base_score=0.5, booster=None, colsample_bylevel=1,\n              colsample_bynode=1, colsample_bytree=1, gamma=0, gpu_id=-1,\n              importance_type='gain', interaction_constraints=None,\n              learning_rate=0.300000012, max_delta_step=0, max_depth=1,\n              min_child_weight=1, missing=nan, monotone_constraints=None,\n              n_estimators=1, n_jobs=0, num_parallel_tree=1,\n              objective='binary:logistic', random_state=0, reg_alpha=0,\n              reg_lambda=1, scale_pos_weight=1, subsample=1, tree_method=None,\n              validate_parameters=False, verbosity=None)"
     },
     "metadata": {},
     "output_type": "execute_result",
     "execution_count": 104
    },
    {
     "data": {
      "text/plain": "XGBClassifier(base_score=0.5, booster=None, colsample_bylevel=1,\n              colsample_bynode=1, colsample_bytree=1, gamma=0, gpu_id=-1,\n              importance_type='gain', interaction_constraints=None,\n              learning_rate=0.300000012, max_delta_step=0, max_depth=1,\n              min_child_weight=1, missing=nan, monotone_constraints=None,\n              n_estimators=1, n_jobs=0, num_parallel_tree=1,\n              objective='binary:logistic', random_state=0, reg_alpha=0,\n              reg_lambda=1, scale_pos_weight=1, subsample=1, tree_method=None,\n              validate_parameters=False, verbosity=None)"
     },
     "metadata": {},
     "output_type": "execute_result",
     "execution_count": 104
    },
    {
     "data": {
      "text/plain": "XGBClassifier(base_score=0.5, booster=None, colsample_bylevel=1,\n              colsample_bynode=1, colsample_bytree=1, gamma=0, gpu_id=-1,\n              importance_type='gain', interaction_constraints=None,\n              learning_rate=0.300000012, max_delta_step=0, max_depth=5,\n              min_child_weight=1, missing=nan, monotone_constraints=None,\n              n_estimators=1, n_jobs=0, num_parallel_tree=1,\n              objective='binary:logistic', random_state=0, reg_alpha=0,\n              reg_lambda=1, scale_pos_weight=1, subsample=1, tree_method=None,\n              validate_parameters=False, verbosity=None)"
     },
     "metadata": {},
     "output_type": "execute_result",
     "execution_count": 104
    },
    {
     "data": {
      "text/plain": "XGBClassifier(base_score=0.5, booster=None, colsample_bylevel=1,\n              colsample_bynode=1, colsample_bytree=1, gamma=0, gpu_id=-1,\n              importance_type='gain', interaction_constraints=None,\n              learning_rate=0.300000012, max_delta_step=0, max_depth=3,\n              min_child_weight=1, missing=nan, monotone_constraints=None,\n              n_estimators=56, n_jobs=0, num_parallel_tree=1,\n              objective='binary:logistic', random_state=0, reg_alpha=0,\n              reg_lambda=1, scale_pos_weight=1, subsample=1, tree_method=None,\n              validate_parameters=False, verbosity=None)"
     },
     "metadata": {},
     "output_type": "execute_result",
     "execution_count": 104
    },
    {
     "data": {
      "text/plain": "XGBClassifier(base_score=0.5, booster=None, colsample_bylevel=1,\n              colsample_bynode=1, colsample_bytree=1, gamma=0, gpu_id=-1,\n              importance_type='gain', interaction_constraints=None,\n              learning_rate=0.300000012, max_delta_step=0, max_depth=6,\n              min_child_weight=1, missing=nan, monotone_constraints=None,\n              n_estimators=41, n_jobs=0, num_parallel_tree=1,\n              objective='binary:logistic', random_state=0, reg_alpha=0,\n              reg_lambda=1, scale_pos_weight=1, subsample=1, tree_method=None,\n              validate_parameters=False, verbosity=None)"
     },
     "metadata": {},
     "output_type": "execute_result",
     "execution_count": 104
    },
    {
     "data": {
      "text/plain": "XGBClassifier(base_score=0.5, booster=None, colsample_bylevel=1,\n              colsample_bynode=1, colsample_bytree=1, gamma=0, gpu_id=-1,\n              importance_type='gain', interaction_constraints=None,\n              learning_rate=0.300000012, max_delta_step=0, max_depth=1,\n              min_child_weight=1, missing=nan, monotone_constraints=None,\n              n_estimators=1, n_jobs=0, num_parallel_tree=1,\n              objective='binary:logistic', random_state=0, reg_alpha=0,\n              reg_lambda=1, scale_pos_weight=1, subsample=1, tree_method=None,\n              validate_parameters=False, verbosity=None)"
     },
     "metadata": {},
     "output_type": "execute_result",
     "execution_count": 104
    },
    {
     "data": {
      "text/plain": "XGBClassifier(base_score=0.5, booster=None, colsample_bylevel=1,\n              colsample_bynode=1, colsample_bytree=1, gamma=0, gpu_id=-1,\n              importance_type='gain', interaction_constraints=None,\n              learning_rate=0.300000012, max_delta_step=0, max_depth=1,\n              min_child_weight=1, missing=nan, monotone_constraints=None,\n              n_estimators=1, n_jobs=0, num_parallel_tree=1,\n              objective='binary:logistic', random_state=0, reg_alpha=0,\n              reg_lambda=1, scale_pos_weight=1, subsample=1, tree_method=None,\n              validate_parameters=False, verbosity=None)"
     },
     "metadata": {},
     "output_type": "execute_result",
     "execution_count": 104
    },
    {
     "data": {
      "text/plain": "XGBClassifier(base_score=0.5, booster=None, colsample_bylevel=1,\n              colsample_bynode=1, colsample_bytree=1, gamma=0, gpu_id=-1,\n              importance_type='gain', interaction_constraints=None,\n              learning_rate=0.300000012, max_delta_step=0, max_depth=5,\n              min_child_weight=1, missing=nan, monotone_constraints=None,\n              n_estimators=1, n_jobs=0, num_parallel_tree=1,\n              objective='binary:logistic', random_state=0, reg_alpha=0,\n              reg_lambda=1, scale_pos_weight=1, subsample=1, tree_method=None,\n              validate_parameters=False, verbosity=None)"
     },
     "metadata": {},
     "output_type": "execute_result",
     "execution_count": 104
    },
    {
     "data": {
      "text/plain": "XGBClassifier(base_score=0.5, booster=None, colsample_bylevel=1,\n              colsample_bynode=1, colsample_bytree=1, gamma=0, gpu_id=-1,\n              importance_type='gain', interaction_constraints=None,\n              learning_rate=0.300000012, max_delta_step=0, max_depth=3,\n              min_child_weight=1, missing=nan, monotone_constraints=None,\n              n_estimators=56, n_jobs=0, num_parallel_tree=1,\n              objective='binary:logistic', random_state=0, reg_alpha=0,\n              reg_lambda=1, scale_pos_weight=1, subsample=1, tree_method=None,\n              validate_parameters=False, verbosity=None)"
     },
     "metadata": {},
     "output_type": "execute_result",
     "execution_count": 104
    },
    {
     "data": {
      "text/plain": "XGBClassifier(base_score=0.5, booster=None, colsample_bylevel=1,\n              colsample_bynode=1, colsample_bytree=1, gamma=0, gpu_id=-1,\n              importance_type='gain', interaction_constraints=None,\n              learning_rate=0.300000012, max_delta_step=0, max_depth=6,\n              min_child_weight=1, missing=nan, monotone_constraints=None,\n              n_estimators=41, n_jobs=0, num_parallel_tree=1,\n              objective='binary:logistic', random_state=0, reg_alpha=0,\n              reg_lambda=1, scale_pos_weight=1, subsample=1, tree_method=None,\n              validate_parameters=False, verbosity=None)"
     },
     "metadata": {},
     "output_type": "execute_result",
     "execution_count": 104
    }
   ],
   "source": [
    "X_train5 = X_train[fl5]\n",
    "X_test5 = X_test[fl5]\n",
    "modelxgb5 = XGBClassifier(**params5)\n",
    "X_train4 = X_train[fl4]\n",
    "X_test4 = X_test[fl4]\n",
    "modelxgb4 = XGBClassifier(**params4)\n",
    "X_train3 = X_train[fl3]\n",
    "X_test3 = X_test[fl3]\n",
    "modelxgb3 = XGBClassifier(**params3)\n",
    "X_train2 = X_train[fl2]\n",
    "X_test2 = X_test[fl2]\n",
    "modelxgb2 = XGBClassifier(**params2)\n",
    "X_train1 = X_train[fl1]\n",
    "X_test1 = X_test[fl1]\n",
    "modelxgb1 = XGBClassifier(**params1)\n",
    "f1s = []\n",
    "ps =[]\n",
    "rs =[]\n",
    "accs = []\n",
    "accs3 = []\n",
    "accs4 = []\n",
    "accs5 = []\n",
    "accs1 = []\n",
    "accs2 = []\n",
    "p_1s =[]\n",
    "pps = []\n",
    "gms =[]\n",
    "spes =[]\n",
    "es =[]\n",
    "thresholds = np.linspace(0.03, 0.99, 60)\n",
    "for i, (train_index, val_index) in enumerate(cv.split(X_train5, y_train, train_subjects)):\n",
    "    X_train_tr5, X_val5 = X_train5.iloc[train_index,:], X_train5.iloc[val_index,:]\n",
    "    X_train_tr4, X_val4 = X_train4.iloc[train_index,:], X_train4.iloc[val_index,:]\n",
    "    X_train_tr3, X_val3 = X_train3.iloc[train_index,:], X_train3.iloc[val_index,:]\n",
    "    X_train_tr2, X_val2 = X_train2.iloc[train_index,:], X_train2.iloc[val_index,:]\n",
    "    X_train_tr1, X_val1 = X_train1.iloc[train_index,:], X_train1.iloc[val_index,:]\n",
    "    y_train_tr, y_val = y_train.iloc[train_index], y_train.iloc[val_index]\n",
    "\n",
    "    modelxgb5.fit(X_train_tr5, y_train_tr)\n",
    "    modelxgb4.fit(X_train_tr4, y_train_tr)\n",
    "    modelxgb3.fit(X_train_tr3, y_train_tr)\n",
    "    modelxgb2.fit(X_train_tr2, y_train_tr)\n",
    "    modelxgb1.fit(X_train_tr1, y_train_tr)\n",
    "    proba_xgb5 = modelxgb5.predict_proba(X_val5)[:, 1]\n",
    "    pred_xgb5 = modelxgb5.predict(X_val5)\n",
    "    proba_xgb4 = modelxgb4.predict_proba(X_val4)[:, 1]\n",
    "    pred_xgb4 = modelxgb4.predict(X_val4)\n",
    "    proba_xgb3 = modelxgb3.predict_proba(X_val3)[:, 1]\n",
    "    pred_xgb3 = modelxgb3.predict(X_val3)\n",
    "    proba_xgb2 = modelxgb2.predict_proba(X_val2)[:, 1]\n",
    "    pred_xgb2 = modelxgb2.predict(X_val2)\n",
    "    proba_xgb1 = modelxgb1.predict_proba(X_val1)[:, 1]\n",
    "    pred_xgb1 = modelxgb1.predict(X_val1)\n",
    "    f1 = np.ones(len(thresholds))\n",
    "    acc = np.ones(len(thresholds))\n",
    "    p = np.ones(len(thresholds))\n",
    "    r = np.ones(len(thresholds))\n",
    "    y_pred_adj= np.ones(len(proba_xgb4))\n",
    "    acc1 = np.ones(len(thresholds))\n",
    "    acc5 = np.ones(len(thresholds))\n",
    "    gm = np.ones(len(thresholds))\n",
    "    spe = np.ones(len(thresholds))\n",
    "    e = np.ones(len(thresholds))\n",
    "    p_1_percent = np.ones(len(thresholds))\n",
    "    p_percent = np.ones(len(thresholds))\n",
    "    for jj in range(len(thresholds)):\n",
    "        th = thresholds[jj] \n",
    "        n = len(proba_xgb3)\n",
    "        p_1 = 0\n",
    "        for i in range(len(proba_xgb3)): \n",
    "            if proba_xgb3[i] >th:\n",
    "                y_pred_adj[i] = 1\n",
    "            elif proba_xgb3[i] <=1-th:\n",
    "                y_pred_adj[i] = 0\n",
    "            else:\n",
    "                p_1 = p_1 + 1\n",
    "                y_pred_adj[i] = pred_xgb1[i]\n",
    "        p_1_percent[jj] = p_1/n\n",
    "        p_percent[jj] = 1-p_1_percent[jj]\n",
    "        # y_pred_adj = adjusted_classes(proba_xgb, t=th)\n",
    "        acc[jj] = accuracy_score(y_val, y_pred_adj)\n",
    "        f1[jj] = fbeta_score(y_val, y_pred_adj, beta=1)\n",
    "        p[jj] = precision_score(y_val, y_pred_adj)\n",
    "        r[jj] = recall_score(y_val, y_pred_adj)\n",
    "        gm[jj] = geometric_mean_score(y_val, y_pred_adj)\n",
    "        spe[jj] = specificity_score(y_val, y_pred_adj)\n",
    "        # y_pred_adj4 = adjusted_classes(proba_xgb4, t=th)\n",
    "        # y_pred_adj1 = adjusted_classes(proba_xgb1, t=th)\n",
    "        acc5[jj] = accuracy_score(y_val, pred_xgb5)\n",
    "        # acc1[jj] = accuracy_score(y_val, y_pred_adj1)\n",
    "        # acc3[jj] = accuracy_score(y_val, pred_xgb3)\n",
    "        # e[jj] = 3.86 +(1-p_percent[jj])*6.84\n",
    "        e[jj] = 10.68 +(1-p_percent[jj])*38.35\n",
    "    \n",
    "    f1s.append(f1)\n",
    "    ps.append(p)\n",
    "    rs.append(r)\n",
    "    accs.append(acc)\n",
    "    # accs1.append(acc1)\n",
    "    accs5.append(acc5)\n",
    "    p_1s.append(p_1_percent)\n",
    "    pps.append(p_percent)\n",
    "    gms.append(gm)\n",
    "    spes.append(spe)\n",
    "    es.append(e)\n",
    "\n",
    "mean_f1 = np.mean(f1s, axis =0)\n",
    "mean_p = np.mean(ps, axis =0)\n",
    "mean_r = np.mean(rs, axis =0)\n",
    "mean_acc = np.mean(accs, axis =0)\n",
    "mean_acc5 = np.mean(accs5, axis =0)\n",
    "# mean_acc1 = np.mean(accs1, axis =0)\n",
    "mean_p_1 = np.mean(p_1s, axis =0)\n",
    "mean_pp = np.mean(pps, axis =0)\n",
    "mean_gm = np.mean(gms, axis=0)\n",
    "mean_spe = np.mean(spes, axis=0)\n",
    "mean_e = np.mean(es, axis=0)\n",
    "\n",
    "std_f1 = np.std(f1s, axis =0)\n",
    "std_p = np.std(ps, axis =0)\n",
    "std_r = np.std(rs, axis =0)\n",
    "std_acc = np.std(accs, axis =0)\n",
    "# std_acc1 = np.std(accs1, axis =0)\n",
    "# std_acc4 = np.std(accs4, axis =0)\n",
    "std_p_1 = np.std(p_1s, axis =0)\n",
    "std_pp = np.std(pps, axis =0)\n",
    "std_gm = np.std(gms, axis =0)\n",
    "std_spe = np.std(spes, axis =0)\n",
    "std_e = np.std(es, axis =0)"
   ],
   "metadata": {
    "collapsed": false,
    "pycharm": {
     "name": "#%%\n",
     "is_executing": false
    }
   }
  },
  {
   "cell_type": "code",
   "execution_count": 119,
   "outputs": [
    {
     "data": {
      "text/plain": "XGBClassifier(base_score=0.5, booster=None, colsample_bylevel=1,\n              colsample_bynode=1, colsample_bytree=1, gamma=0, gpu_id=-1,\n              importance_type='gain', interaction_constraints=None,\n              learning_rate=0.300000012, max_delta_step=0, max_depth=1,\n              min_child_weight=1, missing=nan, monotone_constraints=None,\n              n_estimators=1, n_jobs=0, num_parallel_tree=1,\n              objective='binary:logistic', random_state=0, reg_alpha=0,\n              reg_lambda=1, scale_pos_weight=1, subsample=1, tree_method=None,\n              validate_parameters=False, verbosity=None)"
     },
     "metadata": {},
     "output_type": "execute_result",
     "execution_count": 119
    },
    {
     "data": {
      "text/plain": "XGBClassifier(base_score=0.5, booster=None, colsample_bylevel=1,\n              colsample_bynode=1, colsample_bytree=1, gamma=0, gpu_id=-1,\n              importance_type='gain', interaction_constraints=None,\n              learning_rate=0.300000012, max_delta_step=0, max_depth=5,\n              min_child_weight=1, missing=nan, monotone_constraints=None,\n              n_estimators=1, n_jobs=0, num_parallel_tree=1,\n              objective='binary:logistic', random_state=0, reg_alpha=0,\n              reg_lambda=1, scale_pos_weight=1, subsample=1, tree_method=None,\n              validate_parameters=False, verbosity=None)"
     },
     "metadata": {},
     "output_type": "execute_result",
     "execution_count": 119
    },
    {
     "data": {
      "text/plain": "XGBClassifier(base_score=0.5, booster=None, colsample_bylevel=1,\n              colsample_bynode=1, colsample_bytree=1, gamma=0, gpu_id=-1,\n              importance_type='gain', interaction_constraints=None,\n              learning_rate=0.300000012, max_delta_step=0, max_depth=6,\n              min_child_weight=1, missing=nan, monotone_constraints=None,\n              n_estimators=41, n_jobs=0, num_parallel_tree=1,\n              objective='binary:logistic', random_state=0, reg_alpha=0,\n              reg_lambda=1, scale_pos_weight=1, subsample=1, tree_method=None,\n              validate_parameters=False, verbosity=None)"
     },
     "metadata": {},
     "output_type": "execute_result",
     "execution_count": 119
    },
    {
     "name": "stdout",
     "text": [
      "test Accuracy:  0.9022556390977443\n",
      "test F1:  0.8219178082191781\n",
      "test Precision:  0.8571428571428571\n",
      "test Recall:  0.7894736842105263\n",
      "test Gmean:  0.8648250907976307\n",
      "test Specificity:  0.9473684210526315\n",
      "test Probaibility:  0.7894736842105263\n",
      "test Probaibility 3:  0.6390977443609023\n",
      "test Energy:  5.3\n",
      "\n",
      "\n",
      "\n",
      "\n"
     ],
     "output_type": "stream"
    }
   ],
   "source": [
    "modelxgb5.fit(X_train5, y_train)\n",
    "modelxgb3.fit(X_train3, y_train)\n",
    "modelxgb1.fit(X_train1, y_train)\n",
    "proba_xgb5 = modelxgb5.predict_proba(X_test5)[:, 1]\n",
    "pred_xgb5 = modelxgb5.predict(X_test5)\n",
    "proba_xgb3 = modelxgb3.predict_proba(X_test3)[:, 1]\n",
    "pred_xgb3 = modelxgb3.predict(X_test3)\n",
    "proba_xgb1 = modelxgb1.predict_proba(X_test1)[:, 1]\n",
    "pred_xgb1 = modelxgb1.predict(X_test1)\n",
    "n = len(proba_xgb5)\n",
    "p_3_1 = 0\n",
    "p_3_2 = 0\n",
    "p_1 = 0\n",
    "y_pred_adj= np.ones(len(proba_xgb5))\n",
    "for i in range(len(proba_xgb5)): \n",
    "    if proba_xgb5[i] >0.6:\n",
    "        y_pred_adj[i] = 1\n",
    "    elif proba_xgb5[i] <=1-0.6:\n",
    "        y_pred_adj[i] = 0\n",
    "    elif proba_xgb3[i] >0.63:\n",
    "        p_3_1 = p_3_1 +1\n",
    "        y_pred_adj[i] = 1\n",
    "    elif proba_xgb3[i] <=1-0.63:\n",
    "        p_3_2 = p_3_2 +1\n",
    "        y_pred_adj[i] = 0\n",
    "    else:\n",
    "        p_1 = p_1 + 1\n",
    "        y_pred_adj[i] = pred_xgb1[i]\n",
    "    # for i in range(len(proba_xgb5)): \n",
    "    #     if proba_xgb5[i] >0.6:\n",
    "    #         y_pred_adj[i] = 1\n",
    "    #     elif proba_xgb5[i] <=1-0.6:\n",
    "    #         y_pred_adj[i] = 0\n",
    "    #     else:\n",
    "    #         p_1 = p_1 + 1\n",
    "    #         y_pred_adj[i] = pred_xgb1[i]\n",
    "p_3_percent = (p_3_2+p_3_1)/n\n",
    "p_1_percent = p_1/n\n",
    "p_percent = 1-p_1_percent\n",
    "acc = accuracy_score(y_test, y_pred_adj)\n",
    "f1 = fbeta_score(y_test, y_pred_adj, beta=1)\n",
    "p = precision_score(y_test, y_pred_adj)\n",
    "r = recall_score(y_test, y_pred_adj)\n",
    "gm = geometric_mean_score(y_test, y_pred_adj)\n",
    "spe = specificity_score(y_test, y_pred_adj)\n",
    "e = 3.86 +(1-p_percent)*6.84\n",
    "\n",
    "print('test Accuracy: ',acc)\n",
    "print('test F1: ',f1)\n",
    "print('test Precision: ',p)\n",
    "print('test Recall: ',r)\n",
    "print('test Gmean: ',gm)\n",
    "print('test Specificity: ',spe)\n",
    "print('test Probaibility: ',p_percent)\n",
    "print('test Probaibility 3: ',p_3_percent)\n",
    "print('test Energy: ',e)\n",
    "print(\"\\n\")\n",
    "print(\"\\n\")"
   ],
   "metadata": {
    "collapsed": false,
    "pycharm": {
     "name": "#%%test mode 5 -3 -1 ghalate\n",
     "is_executing": false
    }
   }
  },
  {
   "cell_type": "code",
   "execution_count": 116,
   "outputs": [
    {
     "data": {
      "text/plain": "<Figure size 576x576 with 0 Axes>"
     },
     "metadata": {},
     "output_type": "execute_result",
     "execution_count": 116
    },
    {
     "data": {
      "text/plain": "(0.45, 1)"
     },
     "metadata": {},
     "output_type": "execute_result",
     "execution_count": 116
    },
    {
     "data": {
      "text/plain": "Text(0.5, 1.0, 'Detection Performance and Probability vs Confidence Threshold')"
     },
     "metadata": {},
     "output_type": "execute_result",
     "execution_count": 116
    },
    {
     "data": {
      "text/plain": "[<matplotlib.lines.Line2D at 0x18ea4f25108>]",
      "text/html": "[<matplotlib.lines.Line2D object at 0x0000018EA4F25108>]"
     },
     "metadata": {},
     "output_type": "execute_result",
     "execution_count": 116
    },
    {
     "data": {
      "text/plain": "[<matplotlib.lines.Line2D at 0x18ea3703148>]",
      "text/html": "[<matplotlib.lines.Line2D object at 0x0000018EA3703148>]"
     },
     "metadata": {},
     "output_type": "execute_result",
     "execution_count": 116
    },
    {
     "data": {
      "text/plain": "[<matplotlib.lines.Line2D at 0x18ea4ed14c8>]",
      "text/html": "[<matplotlib.lines.Line2D object at 0x0000018EA4ED14C8>]"
     },
     "metadata": {},
     "output_type": "execute_result",
     "execution_count": 116
    },
    {
     "data": {
      "text/plain": "[<matplotlib.lines.Line2D at 0x18ea3a43988>]",
      "text/html": "[<matplotlib.lines.Line2D object at 0x0000018EA3A43988>]"
     },
     "metadata": {},
     "output_type": "execute_result",
     "execution_count": 116
    },
    {
     "data": {
      "text/plain": "Text(0, 0.5, 'Detection performance')"
     },
     "metadata": {},
     "output_type": "execute_result",
     "execution_count": 116
    },
    {
     "data": {
      "text/plain": "Text(0.5, 0, 'Decision Threshold')"
     },
     "metadata": {},
     "output_type": "execute_result",
     "execution_count": 116
    },
    {
     "data": {
      "text/plain": "[<matplotlib.axis.YTick at 0x18ea4df5ac8>,\n <matplotlib.axis.YTick at 0x18ea4df2d08>,\n <matplotlib.axis.YTick at 0x18ea5c3c0c8>,\n <matplotlib.axis.YTick at 0x18ea3d3c8c8>,\n <matplotlib.axis.YTick at 0x18ea3c348c8>,\n <matplotlib.axis.YTick at 0x18ea3be8408>,\n <matplotlib.axis.YTick at 0x18ea3bfea48>,\n <matplotlib.axis.YTick at 0x18ea4e62788>,\n <matplotlib.axis.YTick at 0x18ea5c4a288>,\n <matplotlib.axis.YTick at 0x18ea5c4a748>,\n <matplotlib.axis.YTick at 0x18ea3b5d248>]",
      "text/html": "[<matplotlib.axis.YTick object at 0x0000018EA4DF5AC8>, <matplotlib.axis.YTick object at 0x0000018EA4DF2D08>, <matplotlib.axis.YTick object at 0x0000018EA5C3C0C8>, <matplotlib.axis.YTick object at 0x0000018EA3D3C8C8>, <matplotlib.axis.YTick object at 0x0000018EA3C348C8>, <matplotlib.axis.YTick object at 0x0000018EA3BE8408>, <matplotlib.axis.YTick object at 0x0000018EA3BFEA48>, <matplotlib.axis.YTick object at 0x0000018EA4E62788>, <matplotlib.axis.YTick object at 0x0000018EA5C4A288>, <matplotlib.axis.YTick object at 0x0000018EA5C4A748>, <matplotlib.axis.YTick object at 0x0000018EA3B5D248>]"
     },
     "metadata": {},
     "output_type": "execute_result",
     "execution_count": 116
    },
    {
     "data": {
      "text/plain": "[<matplotlib.axis.YTick at 0x18ea5c35188>,\n <matplotlib.axis.YTick at 0x18ea5c38808>,\n <matplotlib.axis.YTick at 0x18ea5c4ad08>,\n <matplotlib.axis.YTick at 0x18ea3be8788>,\n <matplotlib.axis.YTick at 0x18ea4ec4b08>,\n <matplotlib.axis.YTick at 0x18ea4ec4288>,\n <matplotlib.axis.YTick at 0x18ea3c145c8>,\n <matplotlib.axis.YTick at 0x18ea3c14088>,\n <matplotlib.axis.YTick at 0x18ea4eadb08>,\n <matplotlib.axis.YTick at 0x18ea5c328c8>,\n <matplotlib.axis.YTick at 0x18ea4eca488>,\n <matplotlib.axis.YTick at 0x18ea4eca048>,\n <matplotlib.axis.YTick at 0x18ea3d46b08>,\n <matplotlib.axis.YTick at 0x18ea4e66d88>,\n <matplotlib.axis.YTick at 0x18ea4eb2488>,\n <matplotlib.axis.YTick at 0x18ea3beac48>,\n <matplotlib.axis.YTick at 0x18ea3c26ec8>,\n <matplotlib.axis.YTick at 0x18ea4f0d0c8>,\n <matplotlib.axis.YTick at 0x18ea3c42048>,\n <matplotlib.axis.YTick at 0x18ea3c40248>]",
      "text/html": "[<matplotlib.axis.YTick object at 0x0000018EA5C35188>, <matplotlib.axis.YTick object at 0x0000018EA5C38808>, <matplotlib.axis.YTick object at 0x0000018EA5C4AD08>, <matplotlib.axis.YTick object at 0x0000018EA3BE8788>, <matplotlib.axis.YTick object at 0x0000018EA4EC4B08>, <matplotlib.axis.YTick object at 0x0000018EA4EC4288>, <matplotlib.axis.YTick object at 0x0000018EA3C145C8>, <matplotlib.axis.YTick object at 0x0000018EA3C14088>, <matplotlib.axis.YTick object at 0x0000018EA4EADB08>, <matplotlib.axis.YTick object at 0x0000018EA5C328C8>, <matplotlib.axis.YTick object at 0x0000018EA4ECA488>, <matplotlib.axis.YTick object at 0x0000018EA4ECA048>, <matplotlib.axis.YTick object at 0x0000018EA3D46B08>, <matplotlib.axis.YTick object at 0x0000018EA4E66D88>, <matplotlib.axis.YTick object at 0x0000018EA4EB2488>, <matplotlib.axis.YTick object at 0x0000018EA3BEAC48>, <matplotlib.axis.YTick object at 0x0000018EA3C26EC8>, <matplotlib.axis.YTick object at 0x0000018EA4F0D0C8>, <matplotlib.axis.YTick object at 0x0000018EA3C42048>, <matplotlib.axis.YTick object at 0x0000018EA3C40248>]"
     },
     "metadata": {},
     "output_type": "execute_result",
     "execution_count": 116
    },
    {
     "data": {
      "text/plain": "[<matplotlib.axis.XTick at 0x18ea4ed71c8>,\n <matplotlib.axis.XTick at 0x18ea4ed7a48>,\n <matplotlib.axis.XTick at 0x18ea5c3c048>,\n <matplotlib.axis.XTick at 0x18ea4e09388>,\n <matplotlib.axis.XTick at 0x18ea3c406c8>,\n <matplotlib.axis.XTick at 0x18ea4eafdc8>]",
      "text/html": "[<matplotlib.axis.XTick object at 0x0000018EA4ED71C8>, <matplotlib.axis.XTick object at 0x0000018EA4ED7A48>, <matplotlib.axis.XTick object at 0x0000018EA5C3C048>, <matplotlib.axis.XTick object at 0x0000018EA4E09388>, <matplotlib.axis.XTick object at 0x0000018EA3C406C8>, <matplotlib.axis.XTick object at 0x0000018EA4EAFDC8>]"
     },
     "metadata": {},
     "output_type": "execute_result",
     "execution_count": 116
    },
    {
     "data": {
      "text/plain": "[<matplotlib.axis.XTick at 0x18ea4e29ac8>,\n <matplotlib.axis.XTick at 0x18ea5c38f48>,\n <matplotlib.axis.XTick at 0x18ea3c3e4c8>,\n <matplotlib.axis.XTick at 0x18ea3c1c3c8>,\n <matplotlib.axis.XTick at 0x18ea4f32d48>,\n <matplotlib.axis.XTick at 0x18ea10b59c8>,\n <matplotlib.axis.XTick at 0x18ea3b74088>,\n <matplotlib.axis.XTick at 0x18ea3b74e08>,\n <matplotlib.axis.XTick at 0x18ea3c388c8>,\n <matplotlib.axis.XTick at 0x18ea3b5f088>]",
      "text/html": "[<matplotlib.axis.XTick object at 0x0000018EA4E29AC8>, <matplotlib.axis.XTick object at 0x0000018EA5C38F48>, <matplotlib.axis.XTick object at 0x0000018EA3C3E4C8>, <matplotlib.axis.XTick object at 0x0000018EA3C1C3C8>, <matplotlib.axis.XTick object at 0x0000018EA4F32D48>, <matplotlib.axis.XTick object at 0x0000018EA10B59C8>, <matplotlib.axis.XTick object at 0x0000018EA3B74088>, <matplotlib.axis.XTick object at 0x0000018EA3B74E08>, <matplotlib.axis.XTick object at 0x0000018EA3C388C8>, <matplotlib.axis.XTick object at 0x0000018EA3B5F088>]"
     },
     "metadata": {},
     "output_type": "execute_result",
     "execution_count": 116
    },
    {
     "data": {
      "text/plain": "<matplotlib.legend.Legend at 0x18ea3c3ef88>"
     },
     "metadata": {},
     "output_type": "execute_result",
     "execution_count": 116
    },
    {
     "data": {
      "text/plain": "<matplotlib.collections.PolyCollection at 0x18ea3b66ec8>"
     },
     "metadata": {},
     "output_type": "execute_result",
     "execution_count": 116
    },
    {
     "data": {
      "text/plain": "<matplotlib.collections.PolyCollection at 0x18ea3b74288>"
     },
     "metadata": {},
     "output_type": "execute_result",
     "execution_count": 116
    },
    {
     "data": {
      "text/plain": "(array([0.5, 0.6, 0.7, 0.8, 0.9, 1. ]), <a list of 6 Text xticklabel objects>)"
     },
     "metadata": {},
     "output_type": "execute_result",
     "execution_count": 116
    },
    {
     "data": {
      "text/plain": "(array([0. , 0.1, 0.2, 0.3, 0.4, 0.5, 0.6, 0.7, 0.8, 0.9, 1. ]),\n <a list of 11 Text yticklabel objects>)"
     },
     "metadata": {},
     "output_type": "execute_result",
     "execution_count": 116
    },
    {
     "data": {
      "text/plain": "Text(0, 0.5, 'Energy consumption (mj)')"
     },
     "metadata": {},
     "output_type": "execute_result",
     "execution_count": 116
    },
    {
     "data": {
      "text/plain": "[<matplotlib.lines.Line2D at 0x18ea5c435c8>]",
      "text/html": "[<matplotlib.lines.Line2D object at 0x0000018EA5C435C8>]"
     },
     "metadata": {},
     "output_type": "execute_result",
     "execution_count": 116
    },
    {
     "data": {
      "text/plain": "<matplotlib.collections.PolyCollection at 0x18e9ab35ec8>"
     },
     "metadata": {},
     "output_type": "execute_result",
     "execution_count": 116
    },
    {
     "data": {
      "text/plain": "<matplotlib.legend.Legend at 0x18ea5c746c8>"
     },
     "metadata": {},
     "output_type": "execute_result",
     "execution_count": 116
    },
    {
     "data": {
      "text/plain": "(array([0.5, 0.6, 0.7, 0.8, 0.9, 1. ]), <a list of 6 Text xticklabel objects>)"
     },
     "metadata": {},
     "output_type": "execute_result",
     "execution_count": 116
    },
    {
     "data": {
      "text/plain": "(array([ 5., 10., 15., 20., 25., 30., 35., 40., 45., 50., 55.]),\n <a list of 11 Text yticklabel objects>)"
     },
     "metadata": {},
     "output_type": "execute_result",
     "execution_count": 116
    },
    {
     "data": {
      "text/plain": "<Figure size 576x576 with 2 Axes>",
      "image/png": "[encoded data removed]"
     },
     "metadata": {
      "needs_background": "light"
     },
     "output_type": "display_data"
    }
   ],
   "source": [
    "import matplotlib.ticker as mtick\n",
    "plt.figure(figsize=(8, 8))\n",
    "plt.xlim(0.45,1)\n",
    "plt.title(\"Detection Performance and Probability vs Confidence Threshold\", fontsize=15)\n",
    "plt.plot(thresholds, mean_p, \"y--\", label=\"Precision\")\n",
    "plt.plot(thresholds, mean_r, \"m--\", label=\"Recall\")\n",
    "# plt.plot(thresholds, mean_acc, \"r-\", label=\"Accuracy\")\n",
    "# plt.plot(thresholds, mean_f1, \"y-\", label=\"F1\")\n",
    "plt.plot(thresholds, mean_gm, \"r-\", label=\"Gmean\")\n",
    "plt.plot(thresholds, mean_pp, \"b-\", label=\"P\")\n",
    "# plt.plot(thresholds, mean_acc3, \"g-\", label=\"Acc3\")\n",
    "# plt.plot(thresholds, mean_acc5, \"y-\", label=\"Accu5\")\n",
    "\n",
    "\n",
    "plt.ylabel(\"Detection performance\",size = 15)\n",
    "plt.xlabel(\"Decision Threshold\",size = 15)\n",
    "major_ticks = np.arange(0, 1.05, 0.1)\n",
    "minor_ticks = np.arange(0, 1, 0.05)\n",
    "major_ticksx = np.arange(0.5, 1.05, 0.1)\n",
    "minor_ticksx = np.arange(0.5, 1, 0.05)\n",
    "plt.gca().set_yticks(major_ticks)\n",
    "plt.gca().set_yticks(minor_ticks, minor=True)\n",
    "plt.gca().set_xticks(major_ticksx)\n",
    "plt.gca().set_xticks(minor_ticksx, minor=True)\n",
    "plt.grid(which='major',linestyle='-', alpha=0.8) # which = 'both'\n",
    "plt.grid(which='minor',linestyle='--', alpha=0.4)\n",
    "plt.legend(loc='best', fontsize= 'x-large')\n",
    "plt.fill_between(thresholds, mean_pp - std_pp,mean_pp + std_pp, alpha=0.1, color=\"b\")\n",
    "# plt.fill_between(thresholds, mean_p - std_p, mean_p + std_p, alpha=0.1, color=\"b\")\n",
    "# plt.fill_between(thresholds, mean_r - std_r, mean_r + std_r, alpha=0.1, color=\"g\")\n",
    "plt.fill_between(thresholds, mean_acc - std_acc, mean_acc + std_acc, alpha=0.1, color=\"r\")\n",
    "plt.xticks(size = 15)\n",
    "plt.yticks(size = 15)\n",
    "ax2 = plt.gca().twinx()\n",
    "ax2.set_ylabel('Energy consumption (mj)',size = 15)\n",
    "ax2.plot(thresholds, mean_e, \"g-\", label=\"Energy\")\n",
    "ax2.fill_between(thresholds, mean_e - std_e, mean_e + std_e, alpha=0.1, color=\"g\")\n",
    "ax2.legend(loc='upper left', fontsize= 'x-large')\n",
    "plt.xticks(size = 15)\n",
    "plt.yticks(size = 15)\n",
    "plt.tight_layout()\n",
    "# plt.savefig(\"selfawaress_1_3_d1_th0.6.pdf\")\n",
    "# plt.savefig(\"selfawaress_1_3_5_d1_th0.6.png\")\n",
    "plt.show()"
   ],
   "metadata": {
    "collapsed": false,
    "pycharm": {
     "name": "#%% Plot\n",
     "is_executing": false
    }
   }
  },
  {
   "cell_type": "code",
   "execution_count": 117,
   "outputs": [
    {
     "data": {
      "text/html": "        <script type=\"text/javascript\">\n        window.PlotlyConfig = {MathJaxConfig: 'local'};\n        if (window.MathJax) {MathJax.Hub.Config({SVG: {font: \"STIX-Web\"}});}\n        if (typeof require !== 'undefined') {\n        require.undef(\"plotly\");\n        requirejs.config({\n            paths: {\n                'plotly': ['https://cdn.plot.ly/plotly-latest.min']\n            }\n        });\n        require(['plotly'], function(Plotly) {\n            window._Plotly = Plotly;\n        });\n        }\n        </script>\n        "
     },
     "metadata": {},
     "output_type": "display_data"
    },
    {
     "data": {
      "application/vnd.plotly.v1+json": {
       "config": {
        "linkText": "Export to plot.ly",
        "plotlyServerURL": "https://plot.ly",
        "showLink": true
       },
       "data": [
        {
         "line": {
          "color": "rgba(255, 153, 51, 1.0)",
          "dash": "solid",
          "shape": "linear",
          "width": 1.3
         },
         "mode": "lines",
         "name": "P",
         "text": "",
         "type": "scatter",
         "x": [
          0.03,
          0.046271186440677965,
          0.06254237288135593,
          0.0788135593220339,
          0.09508474576271186,
          0.11135593220338982,
          0.12762711864406778,
          0.14389830508474577,
          0.16016949152542373,
          0.1764406779661017,
          0.19271186440677965,
          0.20898305084745764,
          0.2252542372881356,
          0.24152542372881355,
          0.2577966101694915,
          0.2740677966101695,
          0.2903389830508475,
          0.3066101694915254,
          0.32288135593220335,
          0.3391525423728814,
          0.3554237288135593,
          0.37169491525423726,
          0.3879661016949153,
          0.40423728813559323,
          0.42050847457627116,
          0.4367796610169492,
          0.45305084745762714,
          0.46932203389830507,
          0.4855932203389831,
          0.501864406779661,
          0.518135593220339,
          0.534406779661017,
          0.550677966101695,
          0.5669491525423729,
          0.5832203389830509,
          0.5994915254237289,
          0.6157627118644068,
          0.6320338983050848,
          0.6483050847457628,
          0.6645762711864407,
          0.6808474576271186,
          0.6971186440677967,
          0.7133898305084746,
          0.7296610169491525,
          0.7459322033898306,
          0.7622033898305085,
          0.7784745762711864,
          0.7947457627118645,
          0.8110169491525424,
          0.8272881355932203,
          0.8435593220338984,
          0.8598305084745763,
          0.8761016949152542,
          0.8923728813559323,
          0.9086440677966102,
          0.9249152542372882,
          0.9411864406779662,
          0.9574576271186441,
          0.9737288135593221,
          0.99
         ],
         "y": [
          1.0,
          1.0,
          1.0,
          1.0,
          1.0,
          1.0,
          1.0,
          1.0,
          1.0,
          1.0,
          1.0,
          1.0,
          1.0,
          1.0,
          1.0,
          1.0,
          1.0,
          1.0,
          1.0,
          1.0,
          1.0,
          1.0,
          1.0,
          1.0,
          1.0,
          1.0,
          1.0,
          1.0,
          1.0,
          0.948741136692765,
          0.9395866582044551,
          0.9356650895770041,
          0.9108651623773568,
          0.9023905861061703,
          0.8837293284996794,
          0.8539254024074177,
          0.8366524405911123,
          0.8004213878328716,
          0.03807650324887406,
          0.03807650324887406,
          0.03807650324887406,
          0.03807650324887406,
          0.03807650324887406,
          0.03807650324887406,
          0.03807650324887406,
          0.03807650324887406,
          0.03807650324887406,
          0.03807650324887406,
          0.03807650324887406,
          0.03807650324887406,
          0.03807650324887406,
          0.03807650324887406,
          0.03807650324887406,
          0.03807650324887406,
          0.03807650324887406,
          0.03807650324887406,
          0.03807650324887406,
          0.03807650324887406,
          0.03807650324887406,
          0.03807650324887406
         ]
        },
        {
         "line": {
          "color": "rgba(55, 128, 191, 1.0)",
          "dash": "solid",
          "shape": "linear",
          "width": 1.3
         },
         "mode": "lines",
         "name": "Gmean",
         "text": "",
         "type": "scatter",
         "x": [
          0.03,
          0.046271186440677965,
          0.06254237288135593,
          0.0788135593220339,
          0.09508474576271186,
          0.11135593220338982,
          0.12762711864406778,
          0.14389830508474577,
          0.16016949152542373,
          0.1764406779661017,
          0.19271186440677965,
          0.20898305084745764,
          0.2252542372881356,
          0.24152542372881355,
          0.2577966101694915,
          0.2740677966101695,
          0.2903389830508475,
          0.3066101694915254,
          0.32288135593220335,
          0.3391525423728814,
          0.3554237288135593,
          0.37169491525423726,
          0.3879661016949153,
          0.40423728813559323,
          0.42050847457627116,
          0.4367796610169492,
          0.45305084745762714,
          0.46932203389830507,
          0.4855932203389831,
          0.501864406779661,
          0.518135593220339,
          0.534406779661017,
          0.550677966101695,
          0.5669491525423729,
          0.5832203389830509,
          0.5994915254237289,
          0.6157627118644068,
          0.6320338983050848,
          0.6483050847457628,
          0.6645762711864407,
          0.6808474576271186,
          0.6971186440677967,
          0.7133898305084746,
          0.7296610169491525,
          0.7459322033898306,
          0.7622033898305085,
          0.7784745762711864,
          0.7947457627118645,
          0.8110169491525424,
          0.8272881355932203,
          0.8435593220338984,
          0.8598305084745763,
          0.8761016949152542,
          0.8923728813559323,
          0.9086440677966102,
          0.9249152542372882,
          0.9411864406779662,
          0.9574576271186441,
          0.9737288135593221,
          0.99
         ],
         "y": [
          0.14704868871096777,
          0.14704868871096777,
          0.14704868871096777,
          0.14704868871096777,
          0.14704868871096777,
          0.14704868871096777,
          0.14704868871096777,
          0.14704868871096777,
          0.14704868871096777,
          0.14704868871096777,
          0.14704868871096777,
          0.14704868871096777,
          0.14704868871096777,
          0.14704868871096777,
          0.14704868871096777,
          0.14704868871096777,
          0.14704868871096777,
          0.14704868871096777,
          0.14704868871096777,
          0.14704868871096777,
          0.14704868871096777,
          0.8094544898955641,
          0.8162793970742278,
          0.8146721316779632,
          0.8320614561336332,
          0.832605174180381,
          0.8454292936330564,
          0.8466350480796008,
          0.84749734900297,
          0.8754106331289939,
          0.8763189409583265,
          0.8738443300860425,
          0.8786673219237437,
          0.8786673219237437,
          0.8786673219237437,
          0.8840217140586761,
          0.8857625625615544,
          0.8921116264256865,
          0.8957880251700843,
          0.8957880251700843,
          0.8957880251700843,
          0.8957880251700843,
          0.8957880251700843,
          0.8957880251700843,
          0.8957880251700843,
          0.8957880251700843,
          0.8957880251700843,
          0.8957880251700843,
          0.8957880251700843,
          0.8957880251700843,
          0.8957880251700843,
          0.8957880251700843,
          0.8957880251700843,
          0.8957880251700843,
          0.8957880251700843,
          0.8957880251700843,
          0.8957880251700843,
          0.8957880251700843,
          0.8957880251700843,
          0.8957880251700843
         ]
        },
        {
         "line": {
          "color": "rgba(50, 171, 96, 1.0)",
          "dash": "solid",
          "shape": "linear",
          "width": 1.3
         },
         "mode": "lines",
         "name": "Recall",
         "text": "",
         "type": "scatter",
         "x": [
          0.03,
          0.046271186440677965,
          0.06254237288135593,
          0.0788135593220339,
          0.09508474576271186,
          0.11135593220338982,
          0.12762711864406778,
          0.14389830508474577,
          0.16016949152542373,
          0.1764406779661017,
          0.19271186440677965,
          0.20898305084745764,
          0.2252542372881356,
          0.24152542372881355,
          0.2577966101694915,
          0.2740677966101695,
          0.2903389830508475,
          0.3066101694915254,
          0.32288135593220335,
          0.3391525423728814,
          0.3554237288135593,
          0.37169491525423726,
          0.3879661016949153,
          0.40423728813559323,
          0.42050847457627116,
          0.4367796610169492,
          0.45305084745762714,
          0.46932203389830507,
          0.4855932203389831,
          0.501864406779661,
          0.518135593220339,
          0.534406779661017,
          0.550677966101695,
          0.5669491525423729,
          0.5832203389830509,
          0.5994915254237289,
          0.6157627118644068,
          0.6320338983050848,
          0.6483050847457628,
          0.6645762711864407,
          0.6808474576271186,
          0.6971186440677967,
          0.7133898305084746,
          0.7296610169491525,
          0.7459322033898306,
          0.7622033898305085,
          0.7784745762711864,
          0.7947457627118645,
          0.8110169491525424,
          0.8272881355932203,
          0.8435593220338984,
          0.8598305084745763,
          0.8761016949152542,
          0.8923728813559323,
          0.9086440677966102,
          0.9249152542372882,
          0.9411864406779662,
          0.9574576271186441,
          0.9737288135593221,
          0.99
         ],
         "y": [
          0.9797159376571141,
          0.9797159376571141,
          0.9797159376571141,
          0.9797159376571141,
          0.9797159376571141,
          0.9797159376571141,
          0.9797159376571141,
          0.9797159376571141,
          0.9797159376571141,
          0.9797159376571141,
          0.9797159376571141,
          0.9797159376571141,
          0.9797159376571141,
          0.9797159376571141,
          0.9797159376571141,
          0.9797159376571141,
          0.9797159376571141,
          0.9797159376571141,
          0.9797159376571141,
          0.9797159376571141,
          0.9797159376571141,
          0.8884082453494218,
          0.8834082453494219,
          0.8557891977303742,
          0.8557891977303742,
          0.8519430438842204,
          0.8519430438842204,
          0.8452763772175537,
          0.8405144724556489,
          0.8405144724556489,
          0.8452763772175537,
          0.8405144724556489,
          0.8471811391223156,
          0.8471811391223156,
          0.8471811391223156,
          0.8505144724556489,
          0.8538478057889822,
          0.8538478057889822,
          0.8588478057889823,
          0.8588478057889823,
          0.8588478057889823,
          0.8588478057889823,
          0.8588478057889823,
          0.8588478057889823,
          0.8588478057889823,
          0.8588478057889823,
          0.8588478057889823,
          0.8588478057889823,
          0.8588478057889823,
          0.8588478057889823,
          0.8588478057889823,
          0.8588478057889823,
          0.8588478057889823,
          0.8588478057889823,
          0.8588478057889823,
          0.8588478057889823,
          0.8588478057889823,
          0.8588478057889823,
          0.8588478057889823,
          0.8588478057889823
         ]
        },
        {
         "line": {
          "color": "rgba(128, 0, 128, 1.0)",
          "dash": "solid",
          "shape": "linear",
          "width": 1.3
         },
         "mode": "lines",
         "name": "Precision",
         "text": "",
         "type": "scatter",
         "x": [
          0.03,
          0.046271186440677965,
          0.06254237288135593,
          0.0788135593220339,
          0.09508474576271186,
          0.11135593220338982,
          0.12762711864406778,
          0.14389830508474577,
          0.16016949152542373,
          0.1764406779661017,
          0.19271186440677965,
          0.20898305084745764,
          0.2252542372881356,
          0.24152542372881355,
          0.2577966101694915,
          0.2740677966101695,
          0.2903389830508475,
          0.3066101694915254,
          0.32288135593220335,
          0.3391525423728814,
          0.3554237288135593,
          0.37169491525423726,
          0.3879661016949153,
          0.40423728813559323,
          0.42050847457627116,
          0.4367796610169492,
          0.45305084745762714,
          0.46932203389830507,
          0.4855932203389831,
          0.501864406779661,
          0.518135593220339,
          0.534406779661017,
          0.550677966101695,
          0.5669491525423729,
          0.5832203389830509,
          0.5994915254237289,
          0.6157627118644068,
          0.6320338983050848,
          0.6483050847457628,
          0.6645762711864407,
          0.6808474576271186,
          0.6971186440677967,
          0.7133898305084746,
          0.7296610169491525,
          0.7459322033898306,
          0.7622033898305085,
          0.7784745762711864,
          0.7947457627118645,
          0.8110169491525424,
          0.8272881355932203,
          0.8435593220338984,
          0.8598305084745763,
          0.8761016949152542,
          0.8923728813559323,
          0.9086440677966102,
          0.9249152542372882,
          0.9411864406779662,
          0.9574576271186441,
          0.9737288135593221,
          0.99
         ],
         "y": [
          0.41055266926846884,
          0.41055266926846884,
          0.41055266926846884,
          0.41055266926846884,
          0.41055266926846884,
          0.41055266926846884,
          0.41055266926846884,
          0.41055266926846884,
          0.41055266926846884,
          0.41055266926846884,
          0.41055266926846884,
          0.41055266926846884,
          0.41055266926846884,
          0.41055266926846884,
          0.41055266926846884,
          0.41055266926846884,
          0.41055266926846884,
          0.41055266926846884,
          0.41055266926846884,
          0.41055266926846884,
          0.41055266926846884,
          0.6878812393617332,
          0.699583509255623,
          0.708764155694334,
          0.7369026838328621,
          0.7426124486386146,
          0.7706055427607409,
          0.7797371954218053,
          0.7866148734879383,
          0.8580676364112897,
          0.8543082379150491,
          0.8535939522007633,
          0.8583733639654693,
          0.8583733639654693,
          0.8583733639654693,
          0.867042094615624,
          0.867042094615624,
          0.889159246469618,
          0.8952901988505703,
          0.8952901988505703,
          0.8952901988505703,
          0.8952901988505703,
          0.8952901988505703,
          0.8952901988505703,
          0.8952901988505703,
          0.8952901988505703,
          0.8952901988505703,
          0.8952901988505703,
          0.8952901988505703,
          0.8952901988505703,
          0.8952901988505703,
          0.8952901988505703,
          0.8952901988505703,
          0.8952901988505703,
          0.8952901988505703,
          0.8952901988505703,
          0.8952901988505703,
          0.8952901988505703,
          0.8952901988505703,
          0.8952901988505703
         ]
        }
       ],
       "layout": {
        "legend": {
         "bgcolor": "#F5F6F9",
         "font": {
          "color": "#4D5663"
         }
        },
        "paper_bgcolor": "#F5F6F9",
        "plot_bgcolor": "#F5F6F9",
        "template": {
         "data": {
          "bar": [
           {
            "error_x": {
             "color": "#2a3f5f"
            },
            "error_y": {
             "color": "#2a3f5f"
            },
            "marker": {
             "line": {
              "color": "#E5ECF6",
              "width": 0.5
             }
            },
            "type": "bar"
           }
          ],
          "barpolar": [
           {
            "marker": {
             "line": {
              "color": "#E5ECF6",
              "width": 0.5
             }
            },
            "type": "barpolar"
           }
          ],
          "carpet": [
           {
            "aaxis": {
             "endlinecolor": "#2a3f5f",
             "gridcolor": "white",
             "linecolor": "white",
             "minorgridcolor": "white",
             "startlinecolor": "#2a3f5f"
            },
            "baxis": {
             "endlinecolor": "#2a3f5f",
             "gridcolor": "white",
             "linecolor": "white",
             "minorgridcolor": "white",
             "startlinecolor": "#2a3f5f"
            },
            "type": "carpet"
           }
          ],
          "choropleth": [
           {
            "colorbar": {
             "outlinewidth": 0,
             "ticks": ""
            },
            "type": "choropleth"
           }
          ],
          "contour": [
           {
            "colorbar": {
             "outlinewidth": 0,
             "ticks": ""
            },
            "colorscale": [
             [
              0.0,
              "#0d0887"
             ],
             [
              0.1111111111111111,
              "#46039f"
             ],
             [
              0.2222222222222222,
              "#7201a8"
             ],
             [
              0.3333333333333333,
              "#9c179e"
             ],
             [
              0.4444444444444444,
              "#bd3786"
             ],
             [
              0.5555555555555556,
              "#d8576b"
             ],
             [
              0.6666666666666666,
              "#ed7953"
             ],
             [
              0.7777777777777778,
              "#fb9f3a"
             ],
             [
              0.8888888888888888,
              "#fdca26"
             ],
             [
              1.0,
              "#f0f921"
             ]
            ],
            "type": "contour"
           }
          ],
          "contourcarpet": [
           {
            "colorbar": {
             "outlinewidth": 0,
             "ticks": ""
            },
            "type": "contourcarpet"
           }
          ],
          "heatmap": [
           {
            "colorbar": {
             "outlinewidth": 0,
             "ticks": ""
            },
            "colorscale": [
             [
              0.0,
              "#0d0887"
             ],
             [
              0.1111111111111111,
              "#46039f"
             ],
             [
              0.2222222222222222,
              "#7201a8"
             ],
             [
              0.3333333333333333,
              "#9c179e"
             ],
             [
              0.4444444444444444,
              "#bd3786"
             ],
             [
              0.5555555555555556,
              "#d8576b"
             ],
             [
              0.6666666666666666,
              "#ed7953"
             ],
             [
              0.7777777777777778,
              "#fb9f3a"
             ],
             [
              0.8888888888888888,
              "#fdca26"
             ],
             [
              1.0,
              "#f0f921"
             ]
            ],
            "type": "heatmap"
           }
          ],
          "heatmapgl": [
           {
            "colorbar": {
             "outlinewidth": 0,
             "ticks": ""
            },
            "colorscale": [
             [
              0.0,
              "#0d0887"
             ],
             [
              0.1111111111111111,
              "#46039f"
             ],
             [
              0.2222222222222222,
              "#7201a8"
             ],
             [
              0.3333333333333333,
              "#9c179e"
             ],
             [
              0.4444444444444444,
              "#bd3786"
             ],
             [
              0.5555555555555556,
              "#d8576b"
             ],
             [
              0.6666666666666666,
              "#ed7953"
             ],
             [
              0.7777777777777778,
              "#fb9f3a"
             ],
             [
              0.8888888888888888,
              "#fdca26"
             ],
             [
              1.0,
              "#f0f921"
             ]
            ],
            "type": "heatmapgl"
           }
          ],
          "histogram": [
           {
            "marker": {
             "colorbar": {
              "outlinewidth": 0,
              "ticks": ""
             }
            },
            "type": "histogram"
           }
          ],
          "histogram2d": [
           {
            "colorbar": {
             "outlinewidth": 0,
             "ticks": ""
            },
            "colorscale": [
             [
              0.0,
              "#0d0887"
             ],
             [
              0.1111111111111111,
              "#46039f"
             ],
             [
              0.2222222222222222,
              "#7201a8"
             ],
             [
              0.3333333333333333,
              "#9c179e"
             ],
             [
              0.4444444444444444,
              "#bd3786"
             ],
             [
              0.5555555555555556,
              "#d8576b"
             ],
             [
              0.6666666666666666,
              "#ed7953"
             ],
             [
              0.7777777777777778,
              "#fb9f3a"
             ],
             [
              0.8888888888888888,
              "#fdca26"
             ],
             [
              1.0,
              "#f0f921"
             ]
            ],
            "type": "histogram2d"
           }
          ],
          "histogram2dcontour": [
           {
            "colorbar": {
             "outlinewidth": 0,
             "ticks": ""
            },
            "colorscale": [
             [
              0.0,
              "#0d0887"
             ],
             [
              0.1111111111111111,
              "#46039f"
             ],
             [
              0.2222222222222222,
              "#7201a8"
             ],
             [
              0.3333333333333333,
              "#9c179e"
             ],
             [
              0.4444444444444444,
              "#bd3786"
             ],
             [
              0.5555555555555556,
              "#d8576b"
             ],
             [
              0.6666666666666666,
              "#ed7953"
             ],
             [
              0.7777777777777778,
              "#fb9f3a"
             ],
             [
              0.8888888888888888,
              "#fdca26"
             ],
             [
              1.0,
              "#f0f921"
             ]
            ],
            "type": "histogram2dcontour"
           }
          ],
          "mesh3d": [
           {
            "colorbar": {
             "outlinewidth": 0,
             "ticks": ""
            },
            "type": "mesh3d"
           }
          ],
          "parcoords": [
           {
            "line": {
             "colorbar": {
              "outlinewidth": 0,
              "ticks": ""
             }
            },
            "type": "parcoords"
           }
          ],
          "pie": [
           {
            "automargin": true,
            "type": "pie"
           }
          ],
          "scatter": [
           {
            "marker": {
             "colorbar": {
              "outlinewidth": 0,
              "ticks": ""
             }
            },
            "type": "scatter"
           }
          ],
          "scatter3d": [
           {
            "line": {
             "colorbar": {
              "outlinewidth": 0,
              "ticks": ""
             }
            },
            "marker": {
             "colorbar": {
              "outlinewidth": 0,
              "ticks": ""
             }
            },
            "type": "scatter3d"
           }
          ],
          "scattercarpet": [
           {
            "marker": {
             "colorbar": {
              "outlinewidth": 0,
              "ticks": ""
             }
            },
            "type": "scattercarpet"
           }
          ],
          "scattergeo": [
           {
            "marker": {
             "colorbar": {
              "outlinewidth": 0,
              "ticks": ""
             }
            },
            "type": "scattergeo"
           }
          ],
          "scattergl": [
           {
            "marker": {
             "colorbar": {
              "outlinewidth": 0,
              "ticks": ""
             }
            },
            "type": "scattergl"
           }
          ],
          "scattermapbox": [
           {
            "marker": {
             "colorbar": {
              "outlinewidth": 0,
              "ticks": ""
             }
            },
            "type": "scattermapbox"
           }
          ],
          "scatterpolar": [
           {
            "marker": {
             "colorbar": {
              "outlinewidth": 0,
              "ticks": ""
             }
            },
            "type": "scatterpolar"
           }
          ],
          "scatterpolargl": [
           {
            "marker": {
             "colorbar": {
              "outlinewidth": 0,
              "ticks": ""
             }
            },
            "type": "scatterpolargl"
           }
          ],
          "scatterternary": [
           {
            "marker": {
             "colorbar": {
              "outlinewidth": 0,
              "ticks": ""
             }
            },
            "type": "scatterternary"
           }
          ],
          "surface": [
           {
            "colorbar": {
             "outlinewidth": 0,
             "ticks": ""
            },
            "colorscale": [
             [
              0.0,
              "#0d0887"
             ],
             [
              0.1111111111111111,
              "#46039f"
             ],
             [
              0.2222222222222222,
              "#7201a8"
             ],
             [
              0.3333333333333333,
              "#9c179e"
             ],
             [
              0.4444444444444444,
              "#bd3786"
             ],
             [
              0.5555555555555556,
              "#d8576b"
             ],
             [
              0.6666666666666666,
              "#ed7953"
             ],
             [
              0.7777777777777778,
              "#fb9f3a"
             ],
             [
              0.8888888888888888,
              "#fdca26"
             ],
             [
              1.0,
              "#f0f921"
             ]
            ],
            "type": "surface"
           }
          ],
          "table": [
           {
            "cells": {
             "fill": {
              "color": "#EBF0F8"
             },
             "line": {
              "color": "white"
             }
            },
            "header": {
             "fill": {
              "color": "#C8D4E3"
             },
             "line": {
              "color": "white"
             }
            },
            "type": "table"
           }
          ]
         },
         "layout": {
          "annotationdefaults": {
           "arrowcolor": "#2a3f5f",
           "arrowhead": 0,
           "arrowwidth": 1
          },
          "coloraxis": {
           "colorbar": {
            "outlinewidth": 0,
            "ticks": ""
           }
          },
          "colorscale": {
           "diverging": [
            [
             0,
             "#8e0152"
            ],
            [
             0.1,
             "#c51b7d"
            ],
            [
             0.2,
             "#de77ae"
            ],
            [
             0.3,
             "#f1b6da"
            ],
            [
             0.4,
             "#fde0ef"
            ],
            [
             0.5,
             "#f7f7f7"
            ],
            [
             0.6,
             "#e6f5d0"
            ],
            [
             0.7,
             "#b8e186"
            ],
            [
             0.8,
             "#7fbc41"
            ],
            [
             0.9,
             "#4d9221"
            ],
            [
             1,
             "#276419"
            ]
           ],
           "sequential": [
            [
             0.0,
             "#0d0887"
            ],
            [
             0.1111111111111111,
             "#46039f"
            ],
            [
             0.2222222222222222,
             "#7201a8"
            ],
            [
             0.3333333333333333,
             "#9c179e"
            ],
            [
             0.4444444444444444,
             "#bd3786"
            ],
            [
             0.5555555555555556,
             "#d8576b"
            ],
            [
             0.6666666666666666,
             "#ed7953"
            ],
            [
             0.7777777777777778,
             "#fb9f3a"
            ],
            [
             0.8888888888888888,
             "#fdca26"
            ],
            [
             1.0,
             "#f0f921"
            ]
           ],
           "sequentialminus": [
            [
             0.0,
             "#0d0887"
            ],
            [
             0.1111111111111111,
             "#46039f"
            ],
            [
             0.2222222222222222,
             "#7201a8"
            ],
            [
             0.3333333333333333,
             "#9c179e"
            ],
            [
             0.4444444444444444,
             "#bd3786"
            ],
            [
             0.5555555555555556,
             "#d8576b"
            ],
            [
             0.6666666666666666,
             "#ed7953"
            ],
            [
             0.7777777777777778,
             "#fb9f3a"
            ],
            [
             0.8888888888888888,
             "#fdca26"
            ],
            [
             1.0,
             "#f0f921"
            ]
           ]
          },
          "colorway": [
           "#636efa",
           "#EF553B",
           "#00cc96",
           "#ab63fa",
           "#FFA15A",
           "#19d3f3",
           "#FF6692",
           "#B6E880",
           "#FF97FF",
           "#FECB52"
          ],
          "font": {
           "color": "#2a3f5f"
          },
          "geo": {
           "bgcolor": "white",
           "lakecolor": "white",
           "landcolor": "#E5ECF6",
           "showlakes": true,
           "showland": true,
           "subunitcolor": "white"
          },
          "hoverlabel": {
           "align": "left"
          },
          "hovermode": "closest",
          "mapbox": {
           "style": "light"
          },
          "paper_bgcolor": "white",
          "plot_bgcolor": "#E5ECF6",
          "polar": {
           "angularaxis": {
            "gridcolor": "white",
            "linecolor": "white",
            "ticks": ""
           },
           "bgcolor": "#E5ECF6",
           "radialaxis": {
            "gridcolor": "white",
            "linecolor": "white",
            "ticks": ""
           }
          },
          "scene": {
           "xaxis": {
            "backgroundcolor": "#E5ECF6",
            "gridcolor": "white",
            "gridwidth": 2,
            "linecolor": "white",
            "showbackground": true,
            "ticks": "",
            "zerolinecolor": "white"
           },
           "yaxis": {
            "backgroundcolor": "#E5ECF6",
            "gridcolor": "white",
            "gridwidth": 2,
            "linecolor": "white",
            "showbackground": true,
            "ticks": "",
            "zerolinecolor": "white"
           },
           "zaxis": {
            "backgroundcolor": "#E5ECF6",
            "gridcolor": "white",
            "gridwidth": 2,
            "linecolor": "white",
            "showbackground": true,
            "ticks": "",
            "zerolinecolor": "white"
           }
          },
          "shapedefaults": {
           "line": {
            "color": "#2a3f5f"
           }
          },
          "ternary": {
           "aaxis": {
            "gridcolor": "white",
            "linecolor": "white",
            "ticks": ""
           },
           "baxis": {
            "gridcolor": "white",
            "linecolor": "white",
            "ticks": ""
           },
           "bgcolor": "#E5ECF6",
           "caxis": {
            "gridcolor": "white",
            "linecolor": "white",
            "ticks": ""
           }
          },
          "title": {
           "x": 0.05
          },
          "xaxis": {
           "automargin": true,
           "gridcolor": "white",
           "linecolor": "white",
           "ticks": "",
           "title": {
            "standoff": 15
           },
           "zerolinecolor": "white",
           "zerolinewidth": 2
          },
          "yaxis": {
           "automargin": true,
           "gridcolor": "white",
           "linecolor": "white",
           "ticks": "",
           "title": {
            "standoff": 15
           },
           "zerolinecolor": "white",
           "zerolinewidth": 2
          }
         }
        },
        "title": {
         "font": {
          "color": "#4D5663"
         },
         "text": "Precision/Recall Tradeoff"
        },
        "xaxis": {
         "gridcolor": "#E1E5ED",
         "showgrid": true,
         "tickfont": {
          "color": "#4D5663"
         },
         "title": {
          "font": {
           "color": "#4D5663"
          },
          "text": "Decision Threshold"
         },
         "zerolinecolor": "#E1E5ED"
        },
        "yaxis": {
         "gridcolor": "#E1E5ED",
         "showgrid": true,
         "tickfont": {
          "color": "#4D5663"
         },
         "title": {
          "font": {
           "color": "#4D5663"
          },
          "text": "Score"
         },
         "zerolinecolor": "#E1E5ED"
        }
       }
      },
      "text/html": "<div>\n        \n        \n            <div id=\"a1452a62-4175-4b94-b735-ce7642565607\" class=\"plotly-graph-div\" style=\"height:525px; width:100%;\"></div>\n            <script type=\"text/javascript\">\n                require([\"plotly\"], function(Plotly) {\n                    window.PLOTLYENV=window.PLOTLYENV || {};\n                    window.PLOTLYENV.BASE_URL='https://plot.ly';\n                    \n                if (document.getElementById(\"a1452a62-4175-4b94-b735-ce7642565607\")) {\n                    Plotly.newPlot(\n                        'a1452a62-4175-4b94-b735-ce7642565607',\n                        [{\"line\": {\"color\": \"rgba(255, 153, 51, 1.0)\", \"dash\": \"solid\", \"shape\": \"linear\", \"width\": 1.3}, \"mode\": \"lines\", \"name\": \"P\", \"text\": \"\", \"type\": \"scatter\", \"x\": [0.03, 0.046271186440677965, 0.06254237288135593, 0.0788135593220339, 0.09508474576271186, 0.11135593220338982, 0.12762711864406778, 0.14389830508474577, 0.16016949152542373, 0.1764406779661017, 0.19271186440677965, 0.20898305084745764, 0.2252542372881356, 0.24152542372881355, 0.2577966101694915, 0.2740677966101695, 0.2903389830508475, 0.3066101694915254, 0.32288135593220335, 0.3391525423728814, 0.3554237288135593, 0.37169491525423726, 0.3879661016949153, 0.40423728813559323, 0.42050847457627116, 0.4367796610169492, 0.45305084745762714, 0.46932203389830507, 0.4855932203389831, 0.501864406779661, 0.518135593220339, 0.534406779661017, 0.550677966101695, 0.5669491525423729, 0.5832203389830509, 0.5994915254237289, 0.6157627118644068, 0.6320338983050848, 0.6483050847457628, 0.6645762711864407, 0.6808474576271186, 0.6971186440677967, 0.7133898305084746, 0.7296610169491525, 0.7459322033898306, 0.7622033898305085, 0.7784745762711864, 0.7947457627118645, 0.8110169491525424, 0.8272881355932203, 0.8435593220338984, 0.8598305084745763, 0.8761016949152542, 0.8923728813559323, 0.9086440677966102, 0.9249152542372882, 0.9411864406779662, 0.9574576271186441, 0.9737288135593221, 0.99], \"y\": [1.0, 1.0, 1.0, 1.0, 1.0, 1.0, 1.0, 1.0, 1.0, 1.0, 1.0, 1.0, 1.0, 1.0, 1.0, 1.0, 1.0, 1.0, 1.0, 1.0, 1.0, 1.0, 1.0, 1.0, 1.0, 1.0, 1.0, 1.0, 1.0, 0.948741136692765, 0.9395866582044551, 0.9356650895770041, 0.9108651623773568, 0.9023905861061703, 0.8837293284996794, 0.8539254024074177, 0.8366524405911123, 0.8004213878328716, 0.03807650324887406, 0.03807650324887406, 0.03807650324887406, 0.03807650324887406, 0.03807650324887406, 0.03807650324887406, 0.03807650324887406, 0.03807650324887406, 0.03807650324887406, 0.03807650324887406, 0.03807650324887406, 0.03807650324887406, 0.03807650324887406, 0.03807650324887406, 0.03807650324887406, 0.03807650324887406, 0.03807650324887406, 0.03807650324887406, 0.03807650324887406, 0.03807650324887406, 0.03807650324887406, 0.03807650324887406]}, {\"line\": {\"color\": \"rgba(55, 128, 191, 1.0)\", \"dash\": \"solid\", \"shape\": \"linear\", \"width\": 1.3}, \"mode\": \"lines\", \"name\": \"Gmean\", \"text\": \"\", \"type\": \"scatter\", \"x\": [0.03, 0.046271186440677965, 0.06254237288135593, 0.0788135593220339, 0.09508474576271186, 0.11135593220338982, 0.12762711864406778, 0.14389830508474577, 0.16016949152542373, 0.1764406779661017, 0.19271186440677965, 0.20898305084745764, 0.2252542372881356, 0.24152542372881355, 0.2577966101694915, 0.2740677966101695, 0.2903389830508475, 0.3066101694915254, 0.32288135593220335, 0.3391525423728814, 0.3554237288135593, 0.37169491525423726, 0.3879661016949153, 0.40423728813559323, 0.42050847457627116, 0.4367796610169492, 0.45305084745762714, 0.46932203389830507, 0.4855932203389831, 0.501864406779661, 0.518135593220339, 0.534406779661017, 0.550677966101695, 0.5669491525423729, 0.5832203389830509, 0.5994915254237289, 0.6157627118644068, 0.6320338983050848, 0.6483050847457628, 0.6645762711864407, 0.6808474576271186, 0.6971186440677967, 0.7133898305084746, 0.7296610169491525, 0.7459322033898306, 0.7622033898305085, 0.7784745762711864, 0.7947457627118645, 0.8110169491525424, 0.8272881355932203, 0.8435593220338984, 0.8598305084745763, 0.8761016949152542, 0.8923728813559323, 0.9086440677966102, 0.9249152542372882, 0.9411864406779662, 0.9574576271186441, 0.9737288135593221, 0.99], \"y\": [0.14704868871096777, 0.14704868871096777, 0.14704868871096777, 0.14704868871096777, 0.14704868871096777, 0.14704868871096777, 0.14704868871096777, 0.14704868871096777, 0.14704868871096777, 0.14704868871096777, 0.14704868871096777, 0.14704868871096777, 0.14704868871096777, 0.14704868871096777, 0.14704868871096777, 0.14704868871096777, 0.14704868871096777, 0.14704868871096777, 0.14704868871096777, 0.14704868871096777, 0.14704868871096777, 0.8094544898955641, 0.8162793970742278, 0.8146721316779632, 0.8320614561336332, 0.832605174180381, 0.8454292936330564, 0.8466350480796008, 0.84749734900297, 0.8754106331289939, 0.8763189409583265, 0.8738443300860425, 0.8786673219237437, 0.8786673219237437, 0.8786673219237437, 0.8840217140586761, 0.8857625625615544, 0.8921116264256865, 0.8957880251700843, 0.8957880251700843, 0.8957880251700843, 0.8957880251700843, 0.8957880251700843, 0.8957880251700843, 0.8957880251700843, 0.8957880251700843, 0.8957880251700843, 0.8957880251700843, 0.8957880251700843, 0.8957880251700843, 0.8957880251700843, 0.8957880251700843, 0.8957880251700843, 0.8957880251700843, 0.8957880251700843, 0.8957880251700843, 0.8957880251700843, 0.8957880251700843, 0.8957880251700843, 0.8957880251700843]}, {\"line\": {\"color\": \"rgba(50, 171, 96, 1.0)\", \"dash\": \"solid\", \"shape\": \"linear\", \"width\": 1.3}, \"mode\": \"lines\", \"name\": \"Recall\", \"text\": \"\", \"type\": \"scatter\", \"x\": [0.03, 0.046271186440677965, 0.06254237288135593, 0.0788135593220339, 0.09508474576271186, 0.11135593220338982, 0.12762711864406778, 0.14389830508474577, 0.16016949152542373, 0.1764406779661017, 0.19271186440677965, 0.20898305084745764, 0.2252542372881356, 0.24152542372881355, 0.2577966101694915, 0.2740677966101695, 0.2903389830508475, 0.3066101694915254, 0.32288135593220335, 0.3391525423728814, 0.3554237288135593, 0.37169491525423726, 0.3879661016949153, 0.40423728813559323, 0.42050847457627116, 0.4367796610169492, 0.45305084745762714, 0.46932203389830507, 0.4855932203389831, 0.501864406779661, 0.518135593220339, 0.534406779661017, 0.550677966101695, 0.5669491525423729, 0.5832203389830509, 0.5994915254237289, 0.6157627118644068, 0.6320338983050848, 0.6483050847457628, 0.6645762711864407, 0.6808474576271186, 0.6971186440677967, 0.7133898305084746, 0.7296610169491525, 0.7459322033898306, 0.7622033898305085, 0.7784745762711864, 0.7947457627118645, 0.8110169491525424, 0.8272881355932203, 0.8435593220338984, 0.8598305084745763, 0.8761016949152542, 0.8923728813559323, 0.9086440677966102, 0.9249152542372882, 0.9411864406779662, 0.9574576271186441, 0.9737288135593221, 0.99], \"y\": [0.9797159376571141, 0.9797159376571141, 0.9797159376571141, 0.9797159376571141, 0.9797159376571141, 0.9797159376571141, 0.9797159376571141, 0.9797159376571141, 0.9797159376571141, 0.9797159376571141, 0.9797159376571141, 0.9797159376571141, 0.9797159376571141, 0.9797159376571141, 0.9797159376571141, 0.9797159376571141, 0.9797159376571141, 0.9797159376571141, 0.9797159376571141, 0.9797159376571141, 0.9797159376571141, 0.8884082453494218, 0.8834082453494219, 0.8557891977303742, 0.8557891977303742, 0.8519430438842204, 0.8519430438842204, 0.8452763772175537, 0.8405144724556489, 0.8405144724556489, 0.8452763772175537, 0.8405144724556489, 0.8471811391223156, 0.8471811391223156, 0.8471811391223156, 0.8505144724556489, 0.8538478057889822, 0.8538478057889822, 0.8588478057889823, 0.8588478057889823, 0.8588478057889823, 0.8588478057889823, 0.8588478057889823, 0.8588478057889823, 0.8588478057889823, 0.8588478057889823, 0.8588478057889823, 0.8588478057889823, 0.8588478057889823, 0.8588478057889823, 0.8588478057889823, 0.8588478057889823, 0.8588478057889823, 0.8588478057889823, 0.8588478057889823, 0.8588478057889823, 0.8588478057889823, 0.8588478057889823, 0.8588478057889823, 0.8588478057889823]}, {\"line\": {\"color\": \"rgba(128, 0, 128, 1.0)\", \"dash\": \"solid\", \"shape\": \"linear\", \"width\": 1.3}, \"mode\": \"lines\", \"name\": \"Precision\", \"text\": \"\", \"type\": \"scatter\", \"x\": [0.03, 0.046271186440677965, 0.06254237288135593, 0.0788135593220339, 0.09508474576271186, 0.11135593220338982, 0.12762711864406778, 0.14389830508474577, 0.16016949152542373, 0.1764406779661017, 0.19271186440677965, 0.20898305084745764, 0.2252542372881356, 0.24152542372881355, 0.2577966101694915, 0.2740677966101695, 0.2903389830508475, 0.3066101694915254, 0.32288135593220335, 0.3391525423728814, 0.3554237288135593, 0.37169491525423726, 0.3879661016949153, 0.40423728813559323, 0.42050847457627116, 0.4367796610169492, 0.45305084745762714, 0.46932203389830507, 0.4855932203389831, 0.501864406779661, 0.518135593220339, 0.534406779661017, 0.550677966101695, 0.5669491525423729, 0.5832203389830509, 0.5994915254237289, 0.6157627118644068, 0.6320338983050848, 0.6483050847457628, 0.6645762711864407, 0.6808474576271186, 0.6971186440677967, 0.7133898305084746, 0.7296610169491525, 0.7459322033898306, 0.7622033898305085, 0.7784745762711864, 0.7947457627118645, 0.8110169491525424, 0.8272881355932203, 0.8435593220338984, 0.8598305084745763, 0.8761016949152542, 0.8923728813559323, 0.9086440677966102, 0.9249152542372882, 0.9411864406779662, 0.9574576271186441, 0.9737288135593221, 0.99], \"y\": [0.41055266926846884, 0.41055266926846884, 0.41055266926846884, 0.41055266926846884, 0.41055266926846884, 0.41055266926846884, 0.41055266926846884, 0.41055266926846884, 0.41055266926846884, 0.41055266926846884, 0.41055266926846884, 0.41055266926846884, 0.41055266926846884, 0.41055266926846884, 0.41055266926846884, 0.41055266926846884, 0.41055266926846884, 0.41055266926846884, 0.41055266926846884, 0.41055266926846884, 0.41055266926846884, 0.6878812393617332, 0.699583509255623, 0.708764155694334, 0.7369026838328621, 0.7426124486386146, 0.7706055427607409, 0.7797371954218053, 0.7866148734879383, 0.8580676364112897, 0.8543082379150491, 0.8535939522007633, 0.8583733639654693, 0.8583733639654693, 0.8583733639654693, 0.867042094615624, 0.867042094615624, 0.889159246469618, 0.8952901988505703, 0.8952901988505703, 0.8952901988505703, 0.8952901988505703, 0.8952901988505703, 0.8952901988505703, 0.8952901988505703, 0.8952901988505703, 0.8952901988505703, 0.8952901988505703, 0.8952901988505703, 0.8952901988505703, 0.8952901988505703, 0.8952901988505703, 0.8952901988505703, 0.8952901988505703, 0.8952901988505703, 0.8952901988505703, 0.8952901988505703, 0.8952901988505703, 0.8952901988505703, 0.8952901988505703]}],\n                        {\"legend\": {\"bgcolor\": \"#F5F6F9\", \"font\": {\"color\": \"#4D5663\"}}, \"paper_bgcolor\": \"#F5F6F9\", \"plot_bgcolor\": \"#F5F6F9\", \"template\": {\"data\": {\"bar\": [{\"error_x\": {\"color\": \"#2a3f5f\"}, \"error_y\": {\"color\": \"#2a3f5f\"}, \"marker\": {\"line\": {\"color\": \"#E5ECF6\", \"width\": 0.5}}, \"type\": \"bar\"}], \"barpolar\": [{\"marker\": {\"line\": {\"color\": \"#E5ECF6\", \"width\": 0.5}}, \"type\": \"barpolar\"}], \"carpet\": [{\"aaxis\": {\"endlinecolor\": \"#2a3f5f\", \"gridcolor\": \"white\", \"linecolor\": \"white\", \"minorgridcolor\": \"white\", \"startlinecolor\": \"#2a3f5f\"}, \"baxis\": {\"endlinecolor\": \"#2a3f5f\", \"gridcolor\": \"white\", \"linecolor\": \"white\", \"minorgridcolor\": \"white\", \"startlinecolor\": \"#2a3f5f\"}, \"type\": \"carpet\"}], \"choropleth\": [{\"colorbar\": {\"outlinewidth\": 0, \"ticks\": \"\"}, \"type\": \"choropleth\"}], \"contour\": [{\"colorbar\": {\"outlinewidth\": 0, \"ticks\": \"\"}, \"colorscale\": [[0.0, \"#0d0887\"], [0.1111111111111111, \"#46039f\"], [0.2222222222222222, \"#7201a8\"], [0.3333333333333333, \"#9c179e\"], [0.4444444444444444, \"#bd3786\"], [0.5555555555555556, \"#d8576b\"], [0.6666666666666666, \"#ed7953\"], [0.7777777777777778, \"#fb9f3a\"], [0.8888888888888888, \"#fdca26\"], [1.0, \"#f0f921\"]], \"type\": \"contour\"}], \"contourcarpet\": [{\"colorbar\": {\"outlinewidth\": 0, \"ticks\": \"\"}, \"type\": \"contourcarpet\"}], \"heatmap\": [{\"colorbar\": {\"outlinewidth\": 0, \"ticks\": \"\"}, \"colorscale\": [[0.0, \"#0d0887\"], [0.1111111111111111, \"#46039f\"], [0.2222222222222222, \"#7201a8\"], [0.3333333333333333, \"#9c179e\"], [0.4444444444444444, \"#bd3786\"], [0.5555555555555556, \"#d8576b\"], [0.6666666666666666, \"#ed7953\"], [0.7777777777777778, \"#fb9f3a\"], [0.8888888888888888, \"#fdca26\"], [1.0, \"#f0f921\"]], \"type\": \"heatmap\"}], \"heatmapgl\": [{\"colorbar\": {\"outlinewidth\": 0, \"ticks\": \"\"}, \"colorscale\": [[0.0, \"#0d0887\"], [0.1111111111111111, \"#46039f\"], [0.2222222222222222, \"#7201a8\"], [0.3333333333333333, \"#9c179e\"], [0.4444444444444444, \"#bd3786\"], [0.5555555555555556, \"#d8576b\"], [0.6666666666666666, \"#ed7953\"], [0.7777777777777778, \"#fb9f3a\"], [0.8888888888888888, \"#fdca26\"], [1.0, \"#f0f921\"]], \"type\": \"heatmapgl\"}], \"histogram\": [{\"marker\": {\"colorbar\": {\"outlinewidth\": 0, \"ticks\": \"\"}}, \"type\": \"histogram\"}], \"histogram2d\": [{\"colorbar\": {\"outlinewidth\": 0, \"ticks\": \"\"}, \"colorscale\": [[0.0, \"#0d0887\"], [0.1111111111111111, \"#46039f\"], [0.2222222222222222, \"#7201a8\"], [0.3333333333333333, \"#9c179e\"], [0.4444444444444444, \"#bd3786\"], [0.5555555555555556, \"#d8576b\"], [0.6666666666666666, \"#ed7953\"], [0.7777777777777778, \"#fb9f3a\"], [0.8888888888888888, \"#fdca26\"], [1.0, \"#f0f921\"]], \"type\": \"histogram2d\"}], \"histogram2dcontour\": [{\"colorbar\": {\"outlinewidth\": 0, \"ticks\": \"\"}, \"colorscale\": [[0.0, \"#0d0887\"], [0.1111111111111111, \"#46039f\"], [0.2222222222222222, \"#7201a8\"], [0.3333333333333333, \"#9c179e\"], [0.4444444444444444, \"#bd3786\"], [0.5555555555555556, \"#d8576b\"], [0.6666666666666666, \"#ed7953\"], [0.7777777777777778, \"#fb9f3a\"], [0.8888888888888888, \"#fdca26\"], [1.0, \"#f0f921\"]], \"type\": \"histogram2dcontour\"}], \"mesh3d\": [{\"colorbar\": {\"outlinewidth\": 0, \"ticks\": \"\"}, \"type\": \"mesh3d\"}], \"parcoords\": [{\"line\": {\"colorbar\": {\"outlinewidth\": 0, \"ticks\": \"\"}}, \"type\": \"parcoords\"}], \"pie\": [{\"automargin\": true, \"type\": \"pie\"}], \"scatter\": [{\"marker\": {\"colorbar\": {\"outlinewidth\": 0, \"ticks\": \"\"}}, \"type\": \"scatter\"}], \"scatter3d\": [{\"line\": {\"colorbar\": {\"outlinewidth\": 0, \"ticks\": \"\"}}, \"marker\": {\"colorbar\": {\"outlinewidth\": 0, \"ticks\": \"\"}}, \"type\": \"scatter3d\"}], \"scattercarpet\": [{\"marker\": {\"colorbar\": {\"outlinewidth\": 0, \"ticks\": \"\"}}, \"type\": \"scattercarpet\"}], \"scattergeo\": [{\"marker\": {\"colorbar\": {\"outlinewidth\": 0, \"ticks\": \"\"}}, \"type\": \"scattergeo\"}], \"scattergl\": [{\"marker\": {\"colorbar\": {\"outlinewidth\": 0, \"ticks\": \"\"}}, \"type\": \"scattergl\"}], \"scattermapbox\": [{\"marker\": {\"colorbar\": {\"outlinewidth\": 0, \"ticks\": \"\"}}, \"type\": \"scattermapbox\"}], \"scatterpolar\": [{\"marker\": {\"colorbar\": {\"outlinewidth\": 0, \"ticks\": \"\"}}, \"type\": \"scatterpolar\"}], \"scatterpolargl\": [{\"marker\": {\"colorbar\": {\"outlinewidth\": 0, \"ticks\": \"\"}}, \"type\": \"scatterpolargl\"}], \"scatterternary\": [{\"marker\": {\"colorbar\": {\"outlinewidth\": 0, \"ticks\": \"\"}}, \"type\": \"scatterternary\"}], \"surface\": [{\"colorbar\": {\"outlinewidth\": 0, \"ticks\": \"\"}, \"colorscale\": [[0.0, \"#0d0887\"], [0.1111111111111111, \"#46039f\"], [0.2222222222222222, \"#7201a8\"], [0.3333333333333333, \"#9c179e\"], [0.4444444444444444, \"#bd3786\"], [0.5555555555555556, \"#d8576b\"], [0.6666666666666666, \"#ed7953\"], [0.7777777777777778, \"#fb9f3a\"], [0.8888888888888888, \"#fdca26\"], [1.0, \"#f0f921\"]], \"type\": \"surface\"}], \"table\": [{\"cells\": {\"fill\": {\"color\": \"#EBF0F8\"}, \"line\": {\"color\": \"white\"}}, \"header\": {\"fill\": {\"color\": \"#C8D4E3\"}, \"line\": {\"color\": \"white\"}}, \"type\": \"table\"}]}, \"layout\": {\"annotationdefaults\": {\"arrowcolor\": \"#2a3f5f\", \"arrowhead\": 0, \"arrowwidth\": 1}, \"coloraxis\": {\"colorbar\": {\"outlinewidth\": 0, \"ticks\": \"\"}}, \"colorscale\": {\"diverging\": [[0, \"#8e0152\"], [0.1, \"#c51b7d\"], [0.2, \"#de77ae\"], [0.3, \"#f1b6da\"], [0.4, \"#fde0ef\"], [0.5, \"#f7f7f7\"], [0.6, \"#e6f5d0\"], [0.7, \"#b8e186\"], [0.8, \"#7fbc41\"], [0.9, \"#4d9221\"], [1, \"#276419\"]], \"sequential\": [[0.0, \"#0d0887\"], [0.1111111111111111, \"#46039f\"], [0.2222222222222222, \"#7201a8\"], [0.3333333333333333, \"#9c179e\"], [0.4444444444444444, \"#bd3786\"], [0.5555555555555556, \"#d8576b\"], [0.6666666666666666, \"#ed7953\"], [0.7777777777777778, \"#fb9f3a\"], [0.8888888888888888, \"#fdca26\"], [1.0, \"#f0f921\"]], \"sequentialminus\": [[0.0, \"#0d0887\"], [0.1111111111111111, \"#46039f\"], [0.2222222222222222, \"#7201a8\"], [0.3333333333333333, \"#9c179e\"], [0.4444444444444444, \"#bd3786\"], [0.5555555555555556, \"#d8576b\"], [0.6666666666666666, \"#ed7953\"], [0.7777777777777778, \"#fb9f3a\"], [0.8888888888888888, \"#fdca26\"], [1.0, \"#f0f921\"]]}, \"colorway\": [\"#636efa\", \"#EF553B\", \"#00cc96\", \"#ab63fa\", \"#FFA15A\", \"#19d3f3\", \"#FF6692\", \"#B6E880\", \"#FF97FF\", \"#FECB52\"], \"font\": {\"color\": \"#2a3f5f\"}, \"geo\": {\"bgcolor\": \"white\", \"lakecolor\": \"white\", \"landcolor\": \"#E5ECF6\", \"showlakes\": true, \"showland\": true, \"subunitcolor\": \"white\"}, \"hoverlabel\": {\"align\": \"left\"}, \"hovermode\": \"closest\", \"mapbox\": {\"style\": \"light\"}, \"paper_bgcolor\": \"white\", \"plot_bgcolor\": \"#E5ECF6\", \"polar\": {\"angularaxis\": {\"gridcolor\": \"white\", \"linecolor\": \"white\", \"ticks\": \"\"}, \"bgcolor\": \"#E5ECF6\", \"radialaxis\": {\"gridcolor\": \"white\", \"linecolor\": \"white\", \"ticks\": \"\"}}, \"scene\": {\"xaxis\": {\"backgroundcolor\": \"#E5ECF6\", \"gridcolor\": \"white\", \"gridwidth\": 2, \"linecolor\": \"white\", \"showbackground\": true, \"ticks\": \"\", \"zerolinecolor\": \"white\"}, \"yaxis\": {\"backgroundcolor\": \"#E5ECF6\", \"gridcolor\": \"white\", \"gridwidth\": 2, \"linecolor\": \"white\", \"showbackground\": true, \"ticks\": \"\", \"zerolinecolor\": \"white\"}, \"zaxis\": {\"backgroundcolor\": \"#E5ECF6\", \"gridcolor\": \"white\", \"gridwidth\": 2, \"linecolor\": \"white\", \"showbackground\": true, \"ticks\": \"\", \"zerolinecolor\": \"white\"}}, \"shapedefaults\": {\"line\": {\"color\": \"#2a3f5f\"}}, \"ternary\": {\"aaxis\": {\"gridcolor\": \"white\", \"linecolor\": \"white\", \"ticks\": \"\"}, \"baxis\": {\"gridcolor\": \"white\", \"linecolor\": \"white\", \"ticks\": \"\"}, \"bgcolor\": \"#E5ECF6\", \"caxis\": {\"gridcolor\": \"white\", \"linecolor\": \"white\", \"ticks\": \"\"}}, \"title\": {\"x\": 0.05}, \"xaxis\": {\"automargin\": true, \"gridcolor\": \"white\", \"linecolor\": \"white\", \"ticks\": \"\", \"title\": {\"standoff\": 15}, \"zerolinecolor\": \"white\", \"zerolinewidth\": 2}, \"yaxis\": {\"automargin\": true, \"gridcolor\": \"white\", \"linecolor\": \"white\", \"ticks\": \"\", \"title\": {\"standoff\": 15}, \"zerolinecolor\": \"white\", \"zerolinewidth\": 2}}}, \"title\": {\"font\": {\"color\": \"#4D5663\"}, \"text\": \"Precision/Recall Tradeoff\"}, \"xaxis\": {\"gridcolor\": \"#E1E5ED\", \"showgrid\": true, \"tickfont\": {\"color\": \"#4D5663\"}, \"title\": {\"font\": {\"color\": \"#4D5663\"}, \"text\": \"Decision Threshold\"}, \"zerolinecolor\": \"#E1E5ED\"}, \"yaxis\": {\"gridcolor\": \"#E1E5ED\", \"showgrid\": true, \"tickfont\": {\"color\": \"#4D5663\"}, \"title\": {\"font\": {\"color\": \"#4D5663\"}, \"text\": \"Score\"}, \"zerolinecolor\": \"#E1E5ED\"}},\n                        {\"showLink\": true, \"linkText\": \"Export to plot.ly\", \"plotlyServerURL\": \"https://plot.ly\", \"responsive\": true}\n                    ).then(function(){\n                            \nvar gd = document.getElementById('a1452a62-4175-4b94-b735-ce7642565607');\nvar x = new MutationObserver(function (mutations, observer) {{\n        var display = window.getComputedStyle(gd).display;\n        if (!display || display === 'none') {{\n            console.log([gd, 'removed!']);\n            Plotly.purge(gd);\n            observer.disconnect();\n        }}\n}});\n\n// Listen for the removal of the full notebook cells\nvar notebookContainer = gd.closest('#notebook-container');\nif (notebookContainer) {{\n    x.observe(notebookContainer, {childList: true});\n}}\n\n// Listen for the clearing of the current output cell\nvar outputEl = gd.closest('.output');\nif (outputEl) {{\n    x.observe(outputEl, {childList: true});\n}}\n\n                        })\n                };\n                });\n            </script>\n        </div>"
     },
     "metadata": {},
     "output_type": "display_data"
    }
   ],
   "source": [
    "import cufflinks\n",
    "from IPython.core.interactiveshell import InteractiveShell\n",
    "InteractiveShell.ast_node_interactivity = 'all'\n",
    "\n",
    "cufflinks.go_offline()\n",
    "cufflinks.set_config_file(world_readable=True, theme='pearl')\n",
    "\n",
    "precision_recall = mean_pp, mean_gm, mean_r,mean_p, thresholds \n",
    "precision_recall = pd.DataFrame(precision_recall).T\n",
    "precision_recall.columns = ['P','Gmean', 'Recall', 'Precision','Thresholds']\n",
    "precision_recall.iplot(x='Thresholds', xTitle='Decision Threshold',yTitle='Score', title='Precision/Recall Tradeoff')"
   ],
   "metadata": {
    "collapsed": false,
    "pycharm": {
     "name": "#%%\n",
     "is_executing": false
    }
   }
  },
  {
   "cell_type": "code",
   "execution_count": 121,
   "outputs": [
    {
     "data": {
      "text/plain": "XGBClassifier(base_score=0.5, booster=None, colsample_bylevel=1,\n              colsample_bynode=1, colsample_bytree=1, gamma=0, gpu_id=-1,\n              importance_type='gain', interaction_constraints=None,\n              learning_rate=0.300000012, max_delta_step=0, max_depth=1,\n              min_child_weight=1, missing=nan, monotone_constraints=None,\n              n_estimators=1, n_jobs=0, num_parallel_tree=1,\n              objective='binary:logistic', random_state=0, reg_alpha=0,\n              reg_lambda=1, scale_pos_weight=1, subsample=1, tree_method=None,\n              validate_parameters=False, verbosity=None)"
     },
     "metadata": {},
     "output_type": "execute_result",
     "execution_count": 121
    },
    {
     "data": {
      "text/plain": "XGBClassifier(base_score=0.5, booster=None, colsample_bylevel=1,\n              colsample_bynode=1, colsample_bytree=1, gamma=0, gpu_id=-1,\n              importance_type='gain', interaction_constraints=None,\n              learning_rate=0.300000012, max_delta_step=0, max_depth=1,\n              min_child_weight=1, missing=nan, monotone_constraints=None,\n              n_estimators=1, n_jobs=0, num_parallel_tree=1,\n              objective='binary:logistic', random_state=0, reg_alpha=0,\n              reg_lambda=1, scale_pos_weight=1, subsample=1, tree_method=None,\n              validate_parameters=False, verbosity=None)"
     },
     "metadata": {},
     "output_type": "execute_result",
     "execution_count": 121
    },
    {
     "data": {
      "text/plain": "XGBClassifier(base_score=0.5, booster=None, colsample_bylevel=1,\n              colsample_bynode=1, colsample_bytree=1, gamma=0, gpu_id=-1,\n              importance_type='gain', interaction_constraints=None,\n              learning_rate=0.300000012, max_delta_step=0, max_depth=5,\n              min_child_weight=1, missing=nan, monotone_constraints=None,\n              n_estimators=1, n_jobs=0, num_parallel_tree=1,\n              objective='binary:logistic', random_state=0, reg_alpha=0,\n              reg_lambda=1, scale_pos_weight=1, subsample=1, tree_method=None,\n              validate_parameters=False, verbosity=None)"
     },
     "metadata": {},
     "output_type": "execute_result",
     "execution_count": 121
    },
    {
     "data": {
      "text/plain": "XGBClassifier(base_score=0.5, booster=None, colsample_bylevel=1,\n              colsample_bynode=1, colsample_bytree=1, gamma=0, gpu_id=-1,\n              importance_type='gain', interaction_constraints=None,\n              learning_rate=0.300000012, max_delta_step=0, max_depth=3,\n              min_child_weight=1, missing=nan, monotone_constraints=None,\n              n_estimators=56, n_jobs=0, num_parallel_tree=1,\n              objective='binary:logistic', random_state=0, reg_alpha=0,\n              reg_lambda=1, scale_pos_weight=1, subsample=1, tree_method=None,\n              validate_parameters=False, verbosity=None)"
     },
     "metadata": {},
     "output_type": "execute_result",
     "execution_count": 121
    },
    {
     "data": {
      "text/plain": "XGBClassifier(base_score=0.5, booster=None, colsample_bylevel=1,\n              colsample_bynode=1, colsample_bytree=1, gamma=0, gpu_id=-1,\n              importance_type='gain', interaction_constraints=None,\n              learning_rate=0.300000012, max_delta_step=0, max_depth=6,\n              min_child_weight=1, missing=nan, monotone_constraints=None,\n              n_estimators=41, n_jobs=0, num_parallel_tree=1,\n              objective='binary:logistic', random_state=0, reg_alpha=0,\n              reg_lambda=1, scale_pos_weight=1, subsample=1, tree_method=None,\n              validate_parameters=False, verbosity=None)"
     },
     "metadata": {},
     "output_type": "execute_result",
     "execution_count": 121
    },
    {
     "data": {
      "text/plain": "XGBClassifier(base_score=0.5, booster=None, colsample_bylevel=1,\n              colsample_bynode=1, colsample_bytree=1, gamma=0, gpu_id=-1,\n              importance_type='gain', interaction_constraints=None,\n              learning_rate=0.300000012, max_delta_step=0, max_depth=1,\n              min_child_weight=1, missing=nan, monotone_constraints=None,\n              n_estimators=1, n_jobs=0, num_parallel_tree=1,\n              objective='binary:logistic', random_state=0, reg_alpha=0,\n              reg_lambda=1, scale_pos_weight=1, subsample=1, tree_method=None,\n              validate_parameters=False, verbosity=None)"
     },
     "metadata": {},
     "output_type": "execute_result",
     "execution_count": 121
    },
    {
     "data": {
      "text/plain": "XGBClassifier(base_score=0.5, booster=None, colsample_bylevel=1,\n              colsample_bynode=1, colsample_bytree=1, gamma=0, gpu_id=-1,\n              importance_type='gain', interaction_constraints=None,\n              learning_rate=0.300000012, max_delta_step=0, max_depth=1,\n              min_child_weight=1, missing=nan, monotone_constraints=None,\n              n_estimators=1, n_jobs=0, num_parallel_tree=1,\n              objective='binary:logistic', random_state=0, reg_alpha=0,\n              reg_lambda=1, scale_pos_weight=1, subsample=1, tree_method=None,\n              validate_parameters=False, verbosity=None)"
     },
     "metadata": {},
     "output_type": "execute_result",
     "execution_count": 121
    },
    {
     "data": {
      "text/plain": "XGBClassifier(base_score=0.5, booster=None, colsample_bylevel=1,\n              colsample_bynode=1, colsample_bytree=1, gamma=0, gpu_id=-1,\n              importance_type='gain', interaction_constraints=None,\n              learning_rate=0.300000012, max_delta_step=0, max_depth=5,\n              min_child_weight=1, missing=nan, monotone_constraints=None,\n              n_estimators=1, n_jobs=0, num_parallel_tree=1,\n              objective='binary:logistic', random_state=0, reg_alpha=0,\n              reg_lambda=1, scale_pos_weight=1, subsample=1, tree_method=None,\n              validate_parameters=False, verbosity=None)"
     },
     "metadata": {},
     "output_type": "execute_result",
     "execution_count": 121
    },
    {
     "data": {
      "text/plain": "XGBClassifier(base_score=0.5, booster=None, colsample_bylevel=1,\n              colsample_bynode=1, colsample_bytree=1, gamma=0, gpu_id=-1,\n              importance_type='gain', interaction_constraints=None,\n              learning_rate=0.300000012, max_delta_step=0, max_depth=3,\n              min_child_weight=1, missing=nan, monotone_constraints=None,\n              n_estimators=56, n_jobs=0, num_parallel_tree=1,\n              objective='binary:logistic', random_state=0, reg_alpha=0,\n              reg_lambda=1, scale_pos_weight=1, subsample=1, tree_method=None,\n              validate_parameters=False, verbosity=None)"
     },
     "metadata": {},
     "output_type": "execute_result",
     "execution_count": 121
    },
    {
     "data": {
      "text/plain": "XGBClassifier(base_score=0.5, booster=None, colsample_bylevel=1,\n              colsample_bynode=1, colsample_bytree=1, gamma=0, gpu_id=-1,\n              importance_type='gain', interaction_constraints=None,\n              learning_rate=0.300000012, max_delta_step=0, max_depth=6,\n              min_child_weight=1, missing=nan, monotone_constraints=None,\n              n_estimators=41, n_jobs=0, num_parallel_tree=1,\n              objective='binary:logistic', random_state=0, reg_alpha=0,\n              reg_lambda=1, scale_pos_weight=1, subsample=1, tree_method=None,\n              validate_parameters=False, verbosity=None)"
     },
     "metadata": {},
     "output_type": "execute_result",
     "execution_count": 121
    },
    {
     "data": {
      "text/plain": "XGBClassifier(base_score=0.5, booster=None, colsample_bylevel=1,\n              colsample_bynode=1, colsample_bytree=1, gamma=0, gpu_id=-1,\n              importance_type='gain', interaction_constraints=None,\n              learning_rate=0.300000012, max_delta_step=0, max_depth=1,\n              min_child_weight=1, missing=nan, monotone_constraints=None,\n              n_estimators=1, n_jobs=0, num_parallel_tree=1,\n              objective='binary:logistic', random_state=0, reg_alpha=0,\n              reg_lambda=1, scale_pos_weight=1, subsample=1, tree_method=None,\n              validate_parameters=False, verbosity=None)"
     },
     "metadata": {},
     "output_type": "execute_result",
     "execution_count": 121
    },
    {
     "data": {
      "text/plain": "XGBClassifier(base_score=0.5, booster=None, colsample_bylevel=1,\n              colsample_bynode=1, colsample_bytree=1, gamma=0, gpu_id=-1,\n              importance_type='gain', interaction_constraints=None,\n              learning_rate=0.300000012, max_delta_step=0, max_depth=1,\n              min_child_weight=1, missing=nan, monotone_constraints=None,\n              n_estimators=1, n_jobs=0, num_parallel_tree=1,\n              objective='binary:logistic', random_state=0, reg_alpha=0,\n              reg_lambda=1, scale_pos_weight=1, subsample=1, tree_method=None,\n              validate_parameters=False, verbosity=None)"
     },
     "metadata": {},
     "output_type": "execute_result",
     "execution_count": 121
    },
    {
     "data": {
      "text/plain": "XGBClassifier(base_score=0.5, booster=None, colsample_bylevel=1,\n              colsample_bynode=1, colsample_bytree=1, gamma=0, gpu_id=-1,\n              importance_type='gain', interaction_constraints=None,\n              learning_rate=0.300000012, max_delta_step=0, max_depth=5,\n              min_child_weight=1, missing=nan, monotone_constraints=None,\n              n_estimators=1, n_jobs=0, num_parallel_tree=1,\n              objective='binary:logistic', random_state=0, reg_alpha=0,\n              reg_lambda=1, scale_pos_weight=1, subsample=1, tree_method=None,\n              validate_parameters=False, verbosity=None)"
     },
     "metadata": {},
     "output_type": "execute_result",
     "execution_count": 121
    },
    {
     "data": {
      "text/plain": "XGBClassifier(base_score=0.5, booster=None, colsample_bylevel=1,\n              colsample_bynode=1, colsample_bytree=1, gamma=0, gpu_id=-1,\n              importance_type='gain', interaction_constraints=None,\n              learning_rate=0.300000012, max_delta_step=0, max_depth=3,\n              min_child_weight=1, missing=nan, monotone_constraints=None,\n              n_estimators=56, n_jobs=0, num_parallel_tree=1,\n              objective='binary:logistic', random_state=0, reg_alpha=0,\n              reg_lambda=1, scale_pos_weight=1, subsample=1, tree_method=None,\n              validate_parameters=False, verbosity=None)"
     },
     "metadata": {},
     "output_type": "execute_result",
     "execution_count": 121
    },
    {
     "data": {
      "text/plain": "XGBClassifier(base_score=0.5, booster=None, colsample_bylevel=1,\n              colsample_bynode=1, colsample_bytree=1, gamma=0, gpu_id=-1,\n              importance_type='gain', interaction_constraints=None,\n              learning_rate=0.300000012, max_delta_step=0, max_depth=6,\n              min_child_weight=1, missing=nan, monotone_constraints=None,\n              n_estimators=41, n_jobs=0, num_parallel_tree=1,\n              objective='binary:logistic', random_state=0, reg_alpha=0,\n              reg_lambda=1, scale_pos_weight=1, subsample=1, tree_method=None,\n              validate_parameters=False, verbosity=None)"
     },
     "metadata": {},
     "output_type": "execute_result",
     "execution_count": 121
    },
    {
     "data": {
      "text/plain": "XGBClassifier(base_score=0.5, booster=None, colsample_bylevel=1,\n              colsample_bynode=1, colsample_bytree=1, gamma=0, gpu_id=-1,\n              importance_type='gain', interaction_constraints=None,\n              learning_rate=0.300000012, max_delta_step=0, max_depth=1,\n              min_child_weight=1, missing=nan, monotone_constraints=None,\n              n_estimators=1, n_jobs=0, num_parallel_tree=1,\n              objective='binary:logistic', random_state=0, reg_alpha=0,\n              reg_lambda=1, scale_pos_weight=1, subsample=1, tree_method=None,\n              validate_parameters=False, verbosity=None)"
     },
     "metadata": {},
     "output_type": "execute_result",
     "execution_count": 121
    },
    {
     "data": {
      "text/plain": "XGBClassifier(base_score=0.5, booster=None, colsample_bylevel=1,\n              colsample_bynode=1, colsample_bytree=1, gamma=0, gpu_id=-1,\n              importance_type='gain', interaction_constraints=None,\n              learning_rate=0.300000012, max_delta_step=0, max_depth=1,\n              min_child_weight=1, missing=nan, monotone_constraints=None,\n              n_estimators=1, n_jobs=0, num_parallel_tree=1,\n              objective='binary:logistic', random_state=0, reg_alpha=0,\n              reg_lambda=1, scale_pos_weight=1, subsample=1, tree_method=None,\n              validate_parameters=False, verbosity=None)"
     },
     "metadata": {},
     "output_type": "execute_result",
     "execution_count": 121
    },
    {
     "data": {
      "text/plain": "XGBClassifier(base_score=0.5, booster=None, colsample_bylevel=1,\n              colsample_bynode=1, colsample_bytree=1, gamma=0, gpu_id=-1,\n              importance_type='gain', interaction_constraints=None,\n              learning_rate=0.300000012, max_delta_step=0, max_depth=5,\n              min_child_weight=1, missing=nan, monotone_constraints=None,\n              n_estimators=1, n_jobs=0, num_parallel_tree=1,\n              objective='binary:logistic', random_state=0, reg_alpha=0,\n              reg_lambda=1, scale_pos_weight=1, subsample=1, tree_method=None,\n              validate_parameters=False, verbosity=None)"
     },
     "metadata": {},
     "output_type": "execute_result",
     "execution_count": 121
    },
    {
     "data": {
      "text/plain": "XGBClassifier(base_score=0.5, booster=None, colsample_bylevel=1,\n              colsample_bynode=1, colsample_bytree=1, gamma=0, gpu_id=-1,\n              importance_type='gain', interaction_constraints=None,\n              learning_rate=0.300000012, max_delta_step=0, max_depth=3,\n              min_child_weight=1, missing=nan, monotone_constraints=None,\n              n_estimators=56, n_jobs=0, num_parallel_tree=1,\n              objective='binary:logistic', random_state=0, reg_alpha=0,\n              reg_lambda=1, scale_pos_weight=1, subsample=1, tree_method=None,\n              validate_parameters=False, verbosity=None)"
     },
     "metadata": {},
     "output_type": "execute_result",
     "execution_count": 121
    },
    {
     "data": {
      "text/plain": "XGBClassifier(base_score=0.5, booster=None, colsample_bylevel=1,\n              colsample_bynode=1, colsample_bytree=1, gamma=0, gpu_id=-1,\n              importance_type='gain', interaction_constraints=None,\n              learning_rate=0.300000012, max_delta_step=0, max_depth=6,\n              min_child_weight=1, missing=nan, monotone_constraints=None,\n              n_estimators=41, n_jobs=0, num_parallel_tree=1,\n              objective='binary:logistic', random_state=0, reg_alpha=0,\n              reg_lambda=1, scale_pos_weight=1, subsample=1, tree_method=None,\n              validate_parameters=False, verbosity=None)"
     },
     "metadata": {},
     "output_type": "execute_result",
     "execution_count": 121
    },
    {
     "data": {
      "text/plain": "XGBClassifier(base_score=0.5, booster=None, colsample_bylevel=1,\n              colsample_bynode=1, colsample_bytree=1, gamma=0, gpu_id=-1,\n              importance_type='gain', interaction_constraints=None,\n              learning_rate=0.300000012, max_delta_step=0, max_depth=1,\n              min_child_weight=1, missing=nan, monotone_constraints=None,\n              n_estimators=1, n_jobs=0, num_parallel_tree=1,\n              objective='binary:logistic', random_state=0, reg_alpha=0,\n              reg_lambda=1, scale_pos_weight=1, subsample=1, tree_method=None,\n              validate_parameters=False, verbosity=None)"
     },
     "metadata": {},
     "output_type": "execute_result",
     "execution_count": 121
    },
    {
     "data": {
      "text/plain": "XGBClassifier(base_score=0.5, booster=None, colsample_bylevel=1,\n              colsample_bynode=1, colsample_bytree=1, gamma=0, gpu_id=-1,\n              importance_type='gain', interaction_constraints=None,\n              learning_rate=0.300000012, max_delta_step=0, max_depth=1,\n              min_child_weight=1, missing=nan, monotone_constraints=None,\n              n_estimators=1, n_jobs=0, num_parallel_tree=1,\n              objective='binary:logistic', random_state=0, reg_alpha=0,\n              reg_lambda=1, scale_pos_weight=1, subsample=1, tree_method=None,\n              validate_parameters=False, verbosity=None)"
     },
     "metadata": {},
     "output_type": "execute_result",
     "execution_count": 121
    },
    {
     "data": {
      "text/plain": "XGBClassifier(base_score=0.5, booster=None, colsample_bylevel=1,\n              colsample_bynode=1, colsample_bytree=1, gamma=0, gpu_id=-1,\n              importance_type='gain', interaction_constraints=None,\n              learning_rate=0.300000012, max_delta_step=0, max_depth=5,\n              min_child_weight=1, missing=nan, monotone_constraints=None,\n              n_estimators=1, n_jobs=0, num_parallel_tree=1,\n              objective='binary:logistic', random_state=0, reg_alpha=0,\n              reg_lambda=1, scale_pos_weight=1, subsample=1, tree_method=None,\n              validate_parameters=False, verbosity=None)"
     },
     "metadata": {},
     "output_type": "execute_result",
     "execution_count": 121
    },
    {
     "data": {
      "text/plain": "XGBClassifier(base_score=0.5, booster=None, colsample_bylevel=1,\n              colsample_bynode=1, colsample_bytree=1, gamma=0, gpu_id=-1,\n              importance_type='gain', interaction_constraints=None,\n              learning_rate=0.300000012, max_delta_step=0, max_depth=3,\n              min_child_weight=1, missing=nan, monotone_constraints=None,\n              n_estimators=56, n_jobs=0, num_parallel_tree=1,\n              objective='binary:logistic', random_state=0, reg_alpha=0,\n              reg_lambda=1, scale_pos_weight=1, subsample=1, tree_method=None,\n              validate_parameters=False, verbosity=None)"
     },
     "metadata": {},
     "output_type": "execute_result",
     "execution_count": 121
    },
    {
     "data": {
      "text/plain": "XGBClassifier(base_score=0.5, booster=None, colsample_bylevel=1,\n              colsample_bynode=1, colsample_bytree=1, gamma=0, gpu_id=-1,\n              importance_type='gain', interaction_constraints=None,\n              learning_rate=0.300000012, max_delta_step=0, max_depth=6,\n              min_child_weight=1, missing=nan, monotone_constraints=None,\n              n_estimators=41, n_jobs=0, num_parallel_tree=1,\n              objective='binary:logistic', random_state=0, reg_alpha=0,\n              reg_lambda=1, scale_pos_weight=1, subsample=1, tree_method=None,\n              validate_parameters=False, verbosity=None)"
     },
     "metadata": {},
     "output_type": "execute_result",
     "execution_count": 121
    },
    {
     "data": {
      "text/plain": "XGBClassifier(base_score=0.5, booster=None, colsample_bylevel=1,\n              colsample_bynode=1, colsample_bytree=1, gamma=0, gpu_id=-1,\n              importance_type='gain', interaction_constraints=None,\n              learning_rate=0.300000012, max_delta_step=0, max_depth=1,\n              min_child_weight=1, missing=nan, monotone_constraints=None,\n              n_estimators=1, n_jobs=0, num_parallel_tree=1,\n              objective='binary:logistic', random_state=0, reg_alpha=0,\n              reg_lambda=1, scale_pos_weight=1, subsample=1, tree_method=None,\n              validate_parameters=False, verbosity=None)"
     },
     "metadata": {},
     "output_type": "execute_result",
     "execution_count": 121
    },
    {
     "data": {
      "text/plain": "XGBClassifier(base_score=0.5, booster=None, colsample_bylevel=1,\n              colsample_bynode=1, colsample_bytree=1, gamma=0, gpu_id=-1,\n              importance_type='gain', interaction_constraints=None,\n              learning_rate=0.300000012, max_delta_step=0, max_depth=1,\n              min_child_weight=1, missing=nan, monotone_constraints=None,\n              n_estimators=1, n_jobs=0, num_parallel_tree=1,\n              objective='binary:logistic', random_state=0, reg_alpha=0,\n              reg_lambda=1, scale_pos_weight=1, subsample=1, tree_method=None,\n              validate_parameters=False, verbosity=None)"
     },
     "metadata": {},
     "output_type": "execute_result",
     "execution_count": 121
    },
    {
     "data": {
      "text/plain": "XGBClassifier(base_score=0.5, booster=None, colsample_bylevel=1,\n              colsample_bynode=1, colsample_bytree=1, gamma=0, gpu_id=-1,\n              importance_type='gain', interaction_constraints=None,\n              learning_rate=0.300000012, max_delta_step=0, max_depth=5,\n              min_child_weight=1, missing=nan, monotone_constraints=None,\n              n_estimators=1, n_jobs=0, num_parallel_tree=1,\n              objective='binary:logistic', random_state=0, reg_alpha=0,\n              reg_lambda=1, scale_pos_weight=1, subsample=1, tree_method=None,\n              validate_parameters=False, verbosity=None)"
     },
     "metadata": {},
     "output_type": "execute_result",
     "execution_count": 121
    },
    {
     "data": {
      "text/plain": "XGBClassifier(base_score=0.5, booster=None, colsample_bylevel=1,\n              colsample_bynode=1, colsample_bytree=1, gamma=0, gpu_id=-1,\n              importance_type='gain', interaction_constraints=None,\n              learning_rate=0.300000012, max_delta_step=0, max_depth=3,\n              min_child_weight=1, missing=nan, monotone_constraints=None,\n              n_estimators=56, n_jobs=0, num_parallel_tree=1,\n              objective='binary:logistic', random_state=0, reg_alpha=0,\n              reg_lambda=1, scale_pos_weight=1, subsample=1, tree_method=None,\n              validate_parameters=False, verbosity=None)"
     },
     "metadata": {},
     "output_type": "execute_result",
     "execution_count": 121
    },
    {
     "data": {
      "text/plain": "XGBClassifier(base_score=0.5, booster=None, colsample_bylevel=1,\n              colsample_bynode=1, colsample_bytree=1, gamma=0, gpu_id=-1,\n              importance_type='gain', interaction_constraints=None,\n              learning_rate=0.300000012, max_delta_step=0, max_depth=6,\n              min_child_weight=1, missing=nan, monotone_constraints=None,\n              n_estimators=41, n_jobs=0, num_parallel_tree=1,\n              objective='binary:logistic', random_state=0, reg_alpha=0,\n              reg_lambda=1, scale_pos_weight=1, subsample=1, tree_method=None,\n              validate_parameters=False, verbosity=None)"
     },
     "metadata": {},
     "output_type": "execute_result",
     "execution_count": 121
    },
    {
     "data": {
      "text/plain": "XGBClassifier(base_score=0.5, booster=None, colsample_bylevel=1,\n              colsample_bynode=1, colsample_bytree=1, gamma=0, gpu_id=-1,\n              importance_type='gain', interaction_constraints=None,\n              learning_rate=0.300000012, max_delta_step=0, max_depth=1,\n              min_child_weight=1, missing=nan, monotone_constraints=None,\n              n_estimators=1, n_jobs=0, num_parallel_tree=1,\n              objective='binary:logistic', random_state=0, reg_alpha=0,\n              reg_lambda=1, scale_pos_weight=1, subsample=1, tree_method=None,\n              validate_parameters=False, verbosity=None)"
     },
     "metadata": {},
     "output_type": "execute_result",
     "execution_count": 121
    },
    {
     "data": {
      "text/plain": "XGBClassifier(base_score=0.5, booster=None, colsample_bylevel=1,\n              colsample_bynode=1, colsample_bytree=1, gamma=0, gpu_id=-1,\n              importance_type='gain', interaction_constraints=None,\n              learning_rate=0.300000012, max_delta_step=0, max_depth=1,\n              min_child_weight=1, missing=nan, monotone_constraints=None,\n              n_estimators=1, n_jobs=0, num_parallel_tree=1,\n              objective='binary:logistic', random_state=0, reg_alpha=0,\n              reg_lambda=1, scale_pos_weight=1, subsample=1, tree_method=None,\n              validate_parameters=False, verbosity=None)"
     },
     "metadata": {},
     "output_type": "execute_result",
     "execution_count": 121
    },
    {
     "data": {
      "text/plain": "XGBClassifier(base_score=0.5, booster=None, colsample_bylevel=1,\n              colsample_bynode=1, colsample_bytree=1, gamma=0, gpu_id=-1,\n              importance_type='gain', interaction_constraints=None,\n              learning_rate=0.300000012, max_delta_step=0, max_depth=5,\n              min_child_weight=1, missing=nan, monotone_constraints=None,\n              n_estimators=1, n_jobs=0, num_parallel_tree=1,\n              objective='binary:logistic', random_state=0, reg_alpha=0,\n              reg_lambda=1, scale_pos_weight=1, subsample=1, tree_method=None,\n              validate_parameters=False, verbosity=None)"
     },
     "metadata": {},
     "output_type": "execute_result",
     "execution_count": 121
    },
    {
     "data": {
      "text/plain": "XGBClassifier(base_score=0.5, booster=None, colsample_bylevel=1,\n              colsample_bynode=1, colsample_bytree=1, gamma=0, gpu_id=-1,\n              importance_type='gain', interaction_constraints=None,\n              learning_rate=0.300000012, max_delta_step=0, max_depth=3,\n              min_child_weight=1, missing=nan, monotone_constraints=None,\n              n_estimators=56, n_jobs=0, num_parallel_tree=1,\n              objective='binary:logistic', random_state=0, reg_alpha=0,\n              reg_lambda=1, scale_pos_weight=1, subsample=1, tree_method=None,\n              validate_parameters=False, verbosity=None)"
     },
     "metadata": {},
     "output_type": "execute_result",
     "execution_count": 121
    },
    {
     "data": {
      "text/plain": "XGBClassifier(base_score=0.5, booster=None, colsample_bylevel=1,\n              colsample_bynode=1, colsample_bytree=1, gamma=0, gpu_id=-1,\n              importance_type='gain', interaction_constraints=None,\n              learning_rate=0.300000012, max_delta_step=0, max_depth=6,\n              min_child_weight=1, missing=nan, monotone_constraints=None,\n              n_estimators=41, n_jobs=0, num_parallel_tree=1,\n              objective='binary:logistic', random_state=0, reg_alpha=0,\n              reg_lambda=1, scale_pos_weight=1, subsample=1, tree_method=None,\n              validate_parameters=False, verbosity=None)"
     },
     "metadata": {},
     "output_type": "execute_result",
     "execution_count": 121
    },
    {
     "data": {
      "text/plain": "XGBClassifier(base_score=0.5, booster=None, colsample_bylevel=1,\n              colsample_bynode=1, colsample_bytree=1, gamma=0, gpu_id=-1,\n              importance_type='gain', interaction_constraints=None,\n              learning_rate=0.300000012, max_delta_step=0, max_depth=1,\n              min_child_weight=1, missing=nan, monotone_constraints=None,\n              n_estimators=1, n_jobs=0, num_parallel_tree=1,\n              objective='binary:logistic', random_state=0, reg_alpha=0,\n              reg_lambda=1, scale_pos_weight=1, subsample=1, tree_method=None,\n              validate_parameters=False, verbosity=None)"
     },
     "metadata": {},
     "output_type": "execute_result",
     "execution_count": 121
    },
    {
     "data": {
      "text/plain": "XGBClassifier(base_score=0.5, booster=None, colsample_bylevel=1,\n              colsample_bynode=1, colsample_bytree=1, gamma=0, gpu_id=-1,\n              importance_type='gain', interaction_constraints=None,\n              learning_rate=0.300000012, max_delta_step=0, max_depth=1,\n              min_child_weight=1, missing=nan, monotone_constraints=None,\n              n_estimators=1, n_jobs=0, num_parallel_tree=1,\n              objective='binary:logistic', random_state=0, reg_alpha=0,\n              reg_lambda=1, scale_pos_weight=1, subsample=1, tree_method=None,\n              validate_parameters=False, verbosity=None)"
     },
     "metadata": {},
     "output_type": "execute_result",
     "execution_count": 121
    },
    {
     "data": {
      "text/plain": "XGBClassifier(base_score=0.5, booster=None, colsample_bylevel=1,\n              colsample_bynode=1, colsample_bytree=1, gamma=0, gpu_id=-1,\n              importance_type='gain', interaction_constraints=None,\n              learning_rate=0.300000012, max_delta_step=0, max_depth=5,\n              min_child_weight=1, missing=nan, monotone_constraints=None,\n              n_estimators=1, n_jobs=0, num_parallel_tree=1,\n              objective='binary:logistic', random_state=0, reg_alpha=0,\n              reg_lambda=1, scale_pos_weight=1, subsample=1, tree_method=None,\n              validate_parameters=False, verbosity=None)"
     },
     "metadata": {},
     "output_type": "execute_result",
     "execution_count": 121
    },
    {
     "data": {
      "text/plain": "XGBClassifier(base_score=0.5, booster=None, colsample_bylevel=1,\n              colsample_bynode=1, colsample_bytree=1, gamma=0, gpu_id=-1,\n              importance_type='gain', interaction_constraints=None,\n              learning_rate=0.300000012, max_delta_step=0, max_depth=3,\n              min_child_weight=1, missing=nan, monotone_constraints=None,\n              n_estimators=56, n_jobs=0, num_parallel_tree=1,\n              objective='binary:logistic', random_state=0, reg_alpha=0,\n              reg_lambda=1, scale_pos_weight=1, subsample=1, tree_method=None,\n              validate_parameters=False, verbosity=None)"
     },
     "metadata": {},
     "output_type": "execute_result",
     "execution_count": 121
    },
    {
     "data": {
      "text/plain": "XGBClassifier(base_score=0.5, booster=None, colsample_bylevel=1,\n              colsample_bynode=1, colsample_bytree=1, gamma=0, gpu_id=-1,\n              importance_type='gain', interaction_constraints=None,\n              learning_rate=0.300000012, max_delta_step=0, max_depth=6,\n              min_child_weight=1, missing=nan, monotone_constraints=None,\n              n_estimators=41, n_jobs=0, num_parallel_tree=1,\n              objective='binary:logistic', random_state=0, reg_alpha=0,\n              reg_lambda=1, scale_pos_weight=1, subsample=1, tree_method=None,\n              validate_parameters=False, verbosity=None)"
     },
     "metadata": {},
     "output_type": "execute_result",
     "execution_count": 121
    },
    {
     "data": {
      "text/plain": "XGBClassifier(base_score=0.5, booster=None, colsample_bylevel=1,\n              colsample_bynode=1, colsample_bytree=1, gamma=0, gpu_id=-1,\n              importance_type='gain', interaction_constraints=None,\n              learning_rate=0.300000012, max_delta_step=0, max_depth=1,\n              min_child_weight=1, missing=nan, monotone_constraints=None,\n              n_estimators=1, n_jobs=0, num_parallel_tree=1,\n              objective='binary:logistic', random_state=0, reg_alpha=0,\n              reg_lambda=1, scale_pos_weight=1, subsample=1, tree_method=None,\n              validate_parameters=False, verbosity=None)"
     },
     "metadata": {},
     "output_type": "execute_result",
     "execution_count": 121
    },
    {
     "data": {
      "text/plain": "XGBClassifier(base_score=0.5, booster=None, colsample_bylevel=1,\n              colsample_bynode=1, colsample_bytree=1, gamma=0, gpu_id=-1,\n              importance_type='gain', interaction_constraints=None,\n              learning_rate=0.300000012, max_delta_step=0, max_depth=1,\n              min_child_weight=1, missing=nan, monotone_constraints=None,\n              n_estimators=1, n_jobs=0, num_parallel_tree=1,\n              objective='binary:logistic', random_state=0, reg_alpha=0,\n              reg_lambda=1, scale_pos_weight=1, subsample=1, tree_method=None,\n              validate_parameters=False, verbosity=None)"
     },
     "metadata": {},
     "output_type": "execute_result",
     "execution_count": 121
    },
    {
     "data": {
      "text/plain": "XGBClassifier(base_score=0.5, booster=None, colsample_bylevel=1,\n              colsample_bynode=1, colsample_bytree=1, gamma=0, gpu_id=-1,\n              importance_type='gain', interaction_constraints=None,\n              learning_rate=0.300000012, max_delta_step=0, max_depth=5,\n              min_child_weight=1, missing=nan, monotone_constraints=None,\n              n_estimators=1, n_jobs=0, num_parallel_tree=1,\n              objective='binary:logistic', random_state=0, reg_alpha=0,\n              reg_lambda=1, scale_pos_weight=1, subsample=1, tree_method=None,\n              validate_parameters=False, verbosity=None)"
     },
     "metadata": {},
     "output_type": "execute_result",
     "execution_count": 121
    },
    {
     "data": {
      "text/plain": "XGBClassifier(base_score=0.5, booster=None, colsample_bylevel=1,\n              colsample_bynode=1, colsample_bytree=1, gamma=0, gpu_id=-1,\n              importance_type='gain', interaction_constraints=None,\n              learning_rate=0.300000012, max_delta_step=0, max_depth=3,\n              min_child_weight=1, missing=nan, monotone_constraints=None,\n              n_estimators=56, n_jobs=0, num_parallel_tree=1,\n              objective='binary:logistic', random_state=0, reg_alpha=0,\n              reg_lambda=1, scale_pos_weight=1, subsample=1, tree_method=None,\n              validate_parameters=False, verbosity=None)"
     },
     "metadata": {},
     "output_type": "execute_result",
     "execution_count": 121
    },
    {
     "data": {
      "text/plain": "XGBClassifier(base_score=0.5, booster=None, colsample_bylevel=1,\n              colsample_bynode=1, colsample_bytree=1, gamma=0, gpu_id=-1,\n              importance_type='gain', interaction_constraints=None,\n              learning_rate=0.300000012, max_delta_step=0, max_depth=6,\n              min_child_weight=1, missing=nan, monotone_constraints=None,\n              n_estimators=41, n_jobs=0, num_parallel_tree=1,\n              objective='binary:logistic', random_state=0, reg_alpha=0,\n              reg_lambda=1, scale_pos_weight=1, subsample=1, tree_method=None,\n              validate_parameters=False, verbosity=None)"
     },
     "metadata": {},
     "output_type": "execute_result",
     "execution_count": 121
    },
    {
     "data": {
      "text/plain": "XGBClassifier(base_score=0.5, booster=None, colsample_bylevel=1,\n              colsample_bynode=1, colsample_bytree=1, gamma=0, gpu_id=-1,\n              importance_type='gain', interaction_constraints=None,\n              learning_rate=0.300000012, max_delta_step=0, max_depth=1,\n              min_child_weight=1, missing=nan, monotone_constraints=None,\n              n_estimators=1, n_jobs=0, num_parallel_tree=1,\n              objective='binary:logistic', random_state=0, reg_alpha=0,\n              reg_lambda=1, scale_pos_weight=1, subsample=1, tree_method=None,\n              validate_parameters=False, verbosity=None)"
     },
     "metadata": {},
     "output_type": "execute_result",
     "execution_count": 121
    },
    {
     "data": {
      "text/plain": "XGBClassifier(base_score=0.5, booster=None, colsample_bylevel=1,\n              colsample_bynode=1, colsample_bytree=1, gamma=0, gpu_id=-1,\n              importance_type='gain', interaction_constraints=None,\n              learning_rate=0.300000012, max_delta_step=0, max_depth=1,\n              min_child_weight=1, missing=nan, monotone_constraints=None,\n              n_estimators=1, n_jobs=0, num_parallel_tree=1,\n              objective='binary:logistic', random_state=0, reg_alpha=0,\n              reg_lambda=1, scale_pos_weight=1, subsample=1, tree_method=None,\n              validate_parameters=False, verbosity=None)"
     },
     "metadata": {},
     "output_type": "execute_result",
     "execution_count": 121
    },
    {
     "data": {
      "text/plain": "XGBClassifier(base_score=0.5, booster=None, colsample_bylevel=1,\n              colsample_bynode=1, colsample_bytree=1, gamma=0, gpu_id=-1,\n              importance_type='gain', interaction_constraints=None,\n              learning_rate=0.300000012, max_delta_step=0, max_depth=5,\n              min_child_weight=1, missing=nan, monotone_constraints=None,\n              n_estimators=1, n_jobs=0, num_parallel_tree=1,\n              objective='binary:logistic', random_state=0, reg_alpha=0,\n              reg_lambda=1, scale_pos_weight=1, subsample=1, tree_method=None,\n              validate_parameters=False, verbosity=None)"
     },
     "metadata": {},
     "output_type": "execute_result",
     "execution_count": 121
    },
    {
     "data": {
      "text/plain": "XGBClassifier(base_score=0.5, booster=None, colsample_bylevel=1,\n              colsample_bynode=1, colsample_bytree=1, gamma=0, gpu_id=-1,\n              importance_type='gain', interaction_constraints=None,\n              learning_rate=0.300000012, max_delta_step=0, max_depth=3,\n              min_child_weight=1, missing=nan, monotone_constraints=None,\n              n_estimators=56, n_jobs=0, num_parallel_tree=1,\n              objective='binary:logistic', random_state=0, reg_alpha=0,\n              reg_lambda=1, scale_pos_weight=1, subsample=1, tree_method=None,\n              validate_parameters=False, verbosity=None)"
     },
     "metadata": {},
     "output_type": "execute_result",
     "execution_count": 121
    },
    {
     "data": {
      "text/plain": "XGBClassifier(base_score=0.5, booster=None, colsample_bylevel=1,\n              colsample_bynode=1, colsample_bytree=1, gamma=0, gpu_id=-1,\n              importance_type='gain', interaction_constraints=None,\n              learning_rate=0.300000012, max_delta_step=0, max_depth=6,\n              min_child_weight=1, missing=nan, monotone_constraints=None,\n              n_estimators=41, n_jobs=0, num_parallel_tree=1,\n              objective='binary:logistic', random_state=0, reg_alpha=0,\n              reg_lambda=1, scale_pos_weight=1, subsample=1, tree_method=None,\n              validate_parameters=False, verbosity=None)"
     },
     "metadata": {},
     "output_type": "execute_result",
     "execution_count": 121
    }
   ],
   "source": [
    "f1s = []\n",
    "ps =[]\n",
    "rs =[]\n",
    "accs = []\n",
    "accs3 = []\n",
    "accs4 = []\n",
    "accs5 = []\n",
    "accs1 = []\n",
    "accs2 = []\n",
    "p_1s =[]\n",
    "p_3s =[]\n",
    "pps = []\n",
    "gms =[]\n",
    "spes =[]\n",
    "es =[]\n",
    "thresholds = np.linspace(0.03, 0.99, 60)\n",
    "for i, (train_index, val_index) in enumerate(cv.split(X_train5, y_train, train_subjects)):\n",
    "    X_train_tr5, X_val5 = X_train5.iloc[train_index,:], X_train5.iloc[val_index,:]\n",
    "    X_train_tr4, X_val4 = X_train4.iloc[train_index,:], X_train4.iloc[val_index,:]\n",
    "    X_train_tr3, X_val3 = X_train3.iloc[train_index,:], X_train3.iloc[val_index,:]\n",
    "    X_train_tr2, X_val2 = X_train2.iloc[train_index,:], X_train2.iloc[val_index,:]\n",
    "    X_train_tr1, X_val1 = X_train1.iloc[train_index,:], X_train1.iloc[val_index,:]\n",
    "    y_train_tr, y_val = y_train.iloc[train_index], y_train.iloc[val_index]\n",
    "\n",
    "    modelxgb5.fit(X_train_tr5, y_train_tr)\n",
    "    modelxgb4.fit(X_train_tr4, y_train_tr)\n",
    "    modelxgb3.fit(X_train_tr3, y_train_tr)\n",
    "    modelxgb2.fit(X_train_tr2, y_train_tr)\n",
    "    modelxgb1.fit(X_train_tr1, y_train_tr)\n",
    "    proba_xgb5 = modelxgb5.predict_proba(X_val5)[:, 1]\n",
    "    proba_xgb4 = modelxgb4.predict_proba(X_val4)[:, 1]\n",
    "    pred_xgb4 = modelxgb4.predict(X_val4)\n",
    "    proba_xgb3 = modelxgb3.predict_proba(X_val3)[:, 1]\n",
    "    pred_xgb3 = modelxgb3.predict(X_val3)\n",
    "    proba_xgb2 = modelxgb2.predict_proba(X_val2)[:, 1]\n",
    "    pred_xgb2 = modelxgb2.predict(X_val2)\n",
    "    proba_xgb1 = modelxgb1.predict_proba(X_val1)[:, 1]\n",
    "    pred_xgb1 = modelxgb1.predict(X_val1)\n",
    "    f1 = np.ones(len(thresholds))\n",
    "    acc = np.ones(len(thresholds))\n",
    "    p = np.ones(len(thresholds))\n",
    "    r = np.ones(len(thresholds))\n",
    "    y_pred_adj= np.ones(len(proba_xgb4))\n",
    "    acc1 = np.ones(len(thresholds))\n",
    "    acc4 = np.ones(len(thresholds))\n",
    "    gm = np.ones(len(thresholds))\n",
    "    spe = np.ones(len(thresholds))\n",
    "    e = np.ones(len(thresholds))\n",
    "    p_1_percent = np.ones(len(thresholds))\n",
    "    p_3_percent = np.ones(len(thresholds))\n",
    "    p_percent = np.ones(len(thresholds))\n",
    "    for jj in range(len(thresholds)):\n",
    "        th = thresholds[jj] \n",
    "        n = len(proba_xgb5)\n",
    "        p_1 = 0\n",
    "        p_3_1 = 0\n",
    "        p_3_2 = 0\n",
    "        for i in range(len(proba_xgb5)): \n",
    "            if proba_xgb5[i] >0.6:\n",
    "                y_pred_adj[i] = 1\n",
    "            elif proba_xgb5[i] <=1-0.6:\n",
    "                y_pred_adj[i] = 0\n",
    "            elif proba_xgb3[i] >th:\n",
    "                p_3_1 = p_3_1 +1\n",
    "                y_pred_adj[i] = 1\n",
    "            elif proba_xgb3[i] <=1-th:\n",
    "                p_3_2 = p_3_2 +1\n",
    "                y_pred_adj[i] = 0\n",
    "            else:\n",
    "                p_1 = p_1 + 1\n",
    "                y_pred_adj[i]= pred_xgb1[i]\n",
    "        p_3_percent[jj] = (p_3_1+p_3_2)/n\n",
    "        p_1_percent[jj] = p_1/n\n",
    "        p_percent[jj] = 1-p_1_percent[jj]\n",
    "        # y_pred_adj = adjusted_classes(proba_xgb, t=th)\n",
    "        acc[jj] = accuracy_score(y_val, y_pred_adj)\n",
    "        f1[jj] = fbeta_score(y_val, y_pred_adj, beta=1)\n",
    "        p[jj] = precision_score(y_val, y_pred_adj)\n",
    "        r[jj] = recall_score(y_val, y_pred_adj)\n",
    "        gm[jj] = geometric_mean_score(y_val, y_pred_adj)\n",
    "        spe[jj] = specificity_score(y_val, y_pred_adj)\n",
    "        # y_pred_adj4 = adjusted_classes(proba_xgb4, t=th)\n",
    "        # y_pred_adj1 = adjusted_classes(proba_xgb1, t=th)\n",
    "        # acc4[jj] = accuracy_score(y_val, y_pred_adj4)\n",
    "        # acc1[jj] = accuracy_score(y_val, y_pred_adj1)\n",
    "        # acc3[jj] = accuracy_score(y_val, pred_xgb3)\n",
    "        e[jj] = 10.68 +(1-p_percent[jj])*38.35\n",
    "    \n",
    "    f1s.append(f1)\n",
    "    ps.append(p)\n",
    "    rs.append(r)\n",
    "    accs.append(acc)\n",
    "    # accs1.append(acc1)\n",
    "    # accs4.append(acc4)\n",
    "    p_1s.append(p_1_percent)\n",
    "    p_3s.append(p_3_percent)\n",
    "    pps.append(p_percent)\n",
    "    gms.append(gm)\n",
    "    spes.append(spe)\n",
    "    es.append(e)\n",
    "\n",
    "mean_f1 = np.mean(f1s, axis =0)\n",
    "mean_p = np.mean(ps, axis =0)\n",
    "mean_r = np.mean(rs, axis =0)\n",
    "mean_acc = np.mean(accs, axis =0)\n",
    "# mean_acc4 = np.mean(accs4, axis =0)\n",
    "# mean_acc1 = np.mean(accs1, axis =0)\n",
    "mean_p_1 = np.mean(p_1s, axis =0)\n",
    "mean_pp = np.mean(pps, axis =0)\n",
    "mean_p_3 = np.mean(p_3s, axis =0)\n",
    "mean_gm = np.mean(gms, axis=0)\n",
    "mean_spe = np.mean(spes, axis=0)\n",
    "mean_e = np.mean(es, axis=0)\n",
    "\n",
    "std_f1 = np.std(f1s, axis =0)\n",
    "std_p = np.std(ps, axis =0)\n",
    "std_r = np.std(rs, axis =0)\n",
    "std_acc = np.std(accs, axis =0)\n",
    "# std_acc1 = np.std(accs1, axis =0)\n",
    "# std_acc4 = np.std(accs4, axis =0)\n",
    "std_p_1 = np.std(p_1s, axis =0)\n",
    "std_pp = np.std(pps, axis =0)\n",
    "std_gm = np.std(gms, axis =0)\n",
    "std_spe = np.std(spes, axis =0)\n",
    "std_e = np.std(es, axis =0)"
   ],
   "metadata": {
    "collapsed": false,
    "pycharm": {
     "name": "#%% mode par and 1\n",
     "is_executing": false
    }
   }
  },
  {
   "cell_type": "code",
   "execution_count": 129,
   "outputs": [
    {
     "data": {
      "text/plain": "<Figure size 600x400 with 0 Axes>"
     },
     "metadata": {},
     "output_type": "execute_result",
     "execution_count": 129
    },
    {
     "data": {
      "text/plain": "Text(0.5, 1.0, 'Performance vs Energy')"
     },
     "metadata": {},
     "output_type": "execute_result",
     "execution_count": 129
    },
    {
     "data": {
      "text/plain": "(0, 55)"
     },
     "metadata": {},
     "output_type": "execute_result",
     "execution_count": 129
    },
    {
     "data": {
      "text/plain": "(0.4, 1)"
     },
     "metadata": {},
     "output_type": "execute_result",
     "execution_count": 129
    },
    {
     "data": {
      "text/plain": "Text(0.5, 0, '$Energy (mJ)$')"
     },
     "metadata": {},
     "output_type": "execute_result",
     "execution_count": 129
    },
    {
     "data": {
      "text/plain": "Text(0, 0.5, '$Scores$')"
     },
     "metadata": {},
     "output_type": "execute_result",
     "execution_count": 129
    },
    {
     "data": {
      "text/plain": "[<matplotlib.axis.XTick at 0x18ea57d1288>,\n <matplotlib.axis.XTick at 0x18ea57ec208>,\n <matplotlib.axis.XTick at 0x18ea57ece88>,\n <matplotlib.axis.XTick at 0x18ea586c888>,\n <matplotlib.axis.XTick at 0x18ea5801b48>,\n <matplotlib.axis.XTick at 0x18ea6e7b9c8>]",
      "text/html": "[<matplotlib.axis.XTick object at 0x0000018EA57D1288>, <matplotlib.axis.XTick object at 0x0000018EA57EC208>, <matplotlib.axis.XTick object at 0x0000018EA57ECE88>, <matplotlib.axis.XTick object at 0x0000018EA586C888>, <matplotlib.axis.XTick object at 0x0000018EA5801B48>, <matplotlib.axis.XTick object at 0x0000018EA6E7B9C8>]"
     },
     "metadata": {},
     "output_type": "execute_result",
     "execution_count": 129
    },
    {
     "data": {
      "text/plain": "[<matplotlib.axis.XTick at 0x18ea67d9608>,\n <matplotlib.axis.XTick at 0x18ea57d5a48>,\n <matplotlib.axis.XTick at 0x18ea5851d88>,\n <matplotlib.axis.XTick at 0x18ea67c5908>,\n <matplotlib.axis.XTick at 0x18ea57e8bc8>,\n <matplotlib.axis.XTick at 0x18ea6dc1e08>,\n <matplotlib.axis.XTick at 0x18ea58f3048>,\n <matplotlib.axis.XTick at 0x18ea586c848>,\n <matplotlib.axis.XTick at 0x18ea58e9748>,\n <matplotlib.axis.XTick at 0x18ea58e9348>,\n <matplotlib.axis.XTick at 0x18ea6e73088>,\n <matplotlib.axis.XTick at 0x18ea58e9188>,\n <matplotlib.axis.XTick at 0x18ea58f3bc8>,\n <matplotlib.axis.XTick at 0x18ea57d7608>,\n <matplotlib.axis.XTick at 0x18ea57d6948>,\n <matplotlib.axis.XTick at 0x18ea67a34c8>,\n <matplotlib.axis.XTick at 0x18ea58e6448>,\n <matplotlib.axis.XTick at 0x18ea6de7748>,\n <matplotlib.axis.XTick at 0x18ea6c0d408>,\n <matplotlib.axis.XTick at 0x18ea5887ac8>,\n <matplotlib.axis.XTick at 0x18ea585db88>,\n <matplotlib.axis.XTick at 0x18ea6c0d0c8>,\n <matplotlib.axis.XTick at 0x18ea57d6a08>,\n <matplotlib.axis.XTick at 0x18ea587bfc8>,\n <matplotlib.axis.XTick at 0x18ea5884448>,\n <matplotlib.axis.XTick at 0x18ea5858708>,\n <matplotlib.axis.XTick at 0x18ea587f208>,\n <matplotlib.axis.XTick at 0x18ea587f608>]",
      "text/html": "[<matplotlib.axis.XTick object at 0x0000018EA67D9608>, <matplotlib.axis.XTick object at 0x0000018EA57D5A48>, <matplotlib.axis.XTick object at 0x0000018EA5851D88>, <matplotlib.axis.XTick object at 0x0000018EA67C5908>, <matplotlib.axis.XTick object at 0x0000018EA57E8BC8>, <matplotlib.axis.XTick object at 0x0000018EA6DC1E08>, <matplotlib.axis.XTick object at 0x0000018EA58F3048>, <matplotlib.axis.XTick object at 0x0000018EA586C848>, <matplotlib.axis.XTick object at 0x0000018EA58E9748>, <matplotlib.axis.XTick object at 0x0000018EA58E9348>, <matplotlib.axis.XTick object at 0x0000018EA6E73088>, <matplotlib.axis.XTick object at 0x0000018EA58E9188>, <matplotlib.axis.XTick object at 0x0000018EA58F3BC8>, <matplotlib.axis.XTick object at 0x0000018EA57D7608>, <matplotlib.axis.XTick object at 0x0000018EA57D6948>, <matplotlib.axis.XTick object at 0x0000018EA67A34C8>, <matplotlib.axis.XTick object at 0x0000018EA58E6448>, <matplotlib.axis.XTick object at 0x0000018EA6DE7748>, <matplotlib.axis.XTick object at 0x0000018EA6C0D408>, <matplotlib.axis.XTick object at 0x0000018EA5887AC8>, <matplotlib.axis.XTick object at 0x0000018EA585DB88>, <matplotlib.axis.XTick object at 0x0000018EA6C0D0C8>, <matplotlib.axis.XTick object at 0x0000018EA57D6A08>, <matplotlib.axis.XTick object at 0x0000018EA587BFC8>, <matplotlib.axis.XTick object at 0x0000018EA5884448>, <matplotlib.axis.XTick object at 0x0000018EA5858708>, <matplotlib.axis.XTick object at 0x0000018EA587F208>, <matplotlib.axis.XTick object at 0x0000018EA587F608>]"
     },
     "metadata": {},
     "output_type": "execute_result",
     "execution_count": 129
    },
    {
     "name": "stderr",
     "text": [
      "c:\\users\\niloo\\desktop\\project2019_20\\venv3701\\lib\\site-packages\\ipykernel_launcher.py:24: UserWarning:\n",
      "\n",
      "In Matplotlib 3.3 individual lines on a stem plot will be added as a LineCollection instead of individual lines. This significantly improves the performance of a stem plot. To remove this warning and switch to the new behaviour, set the \"use_line_collection\" keyword argument to True.\n",
      "\n",
      "c:\\users\\niloo\\desktop\\project2019_20\\venv3701\\lib\\site-packages\\ipykernel_launcher.py:25: UserWarning:\n",
      "\n",
      "In Matplotlib 3.3 individual lines on a stem plot will be added as a LineCollection instead of individual lines. This significantly improves the performance of a stem plot. To remove this warning and switch to the new behaviour, set the \"use_line_collection\" keyword argument to True.\n",
      "\n"
     ],
     "output_type": "stream"
    },
    {
     "data": {
      "text/plain": "<StemContainer object of 3 artists>"
     },
     "metadata": {},
     "output_type": "execute_result",
     "execution_count": 129
    },
    {
     "data": {
      "text/plain": "<StemContainer object of 3 artists>"
     },
     "metadata": {},
     "output_type": "execute_result",
     "execution_count": 129
    },
    {
     "data": {
      "text/plain": "Text(46, 0.93, 'ECG,PPG,RSP,EDA')"
     },
     "metadata": {},
     "output_type": "execute_result",
     "execution_count": 129
    },
    {
     "data": {
      "text/plain": "Text(28, 0.89, 'ECG,RSP,EDA')"
     },
     "metadata": {},
     "output_type": "execute_result",
     "execution_count": 129
    },
    {
     "data": {
      "text/plain": "Text(12, 0.95, 'ECG, EDA')"
     },
     "metadata": {},
     "output_type": "execute_result",
     "execution_count": 129
    },
    {
     "data": {
      "text/plain": "Text(7.2, 0.87, 'ECG')"
     },
     "metadata": {},
     "output_type": "execute_result",
     "execution_count": 129
    },
    {
     "data": {
      "text/plain": "Text(5.3, 0.94, 'S')"
     },
     "metadata": {},
     "output_type": "execute_result",
     "execution_count": 129
    },
    {
     "data": {
      "text/plain": "Text(3.7, 0.68, 'EDA')"
     },
     "metadata": {},
     "output_type": "execute_result",
     "execution_count": 129
    },
    {
     "data": {
      "text/plain": "<matplotlib.legend.Legend at 0x18ea5b78748>"
     },
     "metadata": {},
     "output_type": "execute_result",
     "execution_count": 129
    },
    {
     "data": {
      "text/plain": "[<matplotlib.axis.XTick at 0x18ea58129c8>,\n <matplotlib.axis.XTick at 0x18ea5b96bc8>,\n <matplotlib.axis.XTick at 0x18ea5b96988>,\n <matplotlib.axis.XTick at 0x18ea582b7c8>,\n <matplotlib.axis.XTick at 0x18ea58311c8>,\n <matplotlib.axis.XTick at 0x18ea5831b48>]",
      "text/html": "[<matplotlib.axis.XTick object at 0x0000018EA58129C8>, <matplotlib.axis.XTick object at 0x0000018EA5B96BC8>, <matplotlib.axis.XTick object at 0x0000018EA5B96988>, <matplotlib.axis.XTick object at 0x0000018EA582B7C8>, <matplotlib.axis.XTick object at 0x0000018EA58311C8>, <matplotlib.axis.XTick object at 0x0000018EA5831B48>]"
     },
     "metadata": {},
     "output_type": "execute_result",
     "execution_count": 129
    },
    {
     "data": {
      "text/plain": "[Text(0, 1, '1'),\n Text(0, 1, '2'),\n Text(0, 1, '3'),\n Text(0, 1, '4'),\n Text(0, 1, 'S'),\n Text(0, 1, '5')]",
      "text/html": "[Text(0, 1, '1'), Text(0, 1, '2'), Text(0, 1, '3'), Text(0, 1, '4'), Text(0, 1, 'S'), Text(0, 1, '5')]"
     },
     "metadata": {},
     "output_type": "execute_result",
     "execution_count": 129
    },
    {
     "data": {
      "text/plain": "Text(0.5, 0, 'Mode')"
     },
     "metadata": {},
     "output_type": "execute_result",
     "execution_count": 129
    },
    {
     "data": {
      "text/plain": "(0, 55)"
     },
     "metadata": {},
     "output_type": "execute_result",
     "execution_count": 129
    },
    {
     "data": {
      "text/plain": "<Figure size 600x400 with 2 Axes>",
      "image/png": "[encoded data removed]"
     },
     "metadata": {
      "needs_background": "light"
     },
     "output_type": "display_data"
    }
   ],
   "source": [
    "import matplotlib.ticker as mtick\n",
    "\n",
    "eng = [48.6, 25.57, 10.67, 6.76, 5.3, 3.86]\n",
    "n = [10, 16,10,31,11,14,8,1,17,28]\n",
    "plt.figure(figsize=(6,4), dpi= 100)\n",
    "\n",
    "plt.title('Performance vs Energy', fontdict={'size':12})\n",
    "plt.xlim(0,55)\n",
    "plt.ylim(bottom =0.4, top=1)\n",
    "#plt.yticks(fontsize=12, alpha=.7)\n",
    "plt.xlabel('$Energy (mJ)$')\n",
    "plt.ylabel('$Scores$')\n",
    "# Major ticks every 10, minor ticks every 2\n",
    "major_ticks = np.arange(0, 55, 10)\n",
    "minor_ticks = np.arange(0, 55, 2)\n",
    "\n",
    "plt.gca().set_xticks(major_ticks)\n",
    "plt.gca().set_xticks(minor_ticks, minor=True)\n",
    "# ax.set_yticks(major_ticks)\n",
    "# ax.set_yticks(minor_ticks, minor=True)\n",
    "test_acc = [0.89473684, 0.85714286, 0.90977444, 0.82706767,0.9023, 0.63909774]\n",
    "test_gm = [0.86000709, 0.81672273, 0.8882115,  0.77780856,0.8648, 0.61016323]\n",
    "\n",
    "plt.stem(eng, test_acc,label=\"Accuracy\",markerfmt =\"r.\",linefmt='r')# ,linefmt='green'\n",
    "plt.stem(eng, test_gm,label=\"G-mean\",markerfmt =\"b.\",linefmt='xkcd:blue')\n",
    "\n",
    "# for x, y, tex in zip (eng,tes_engh_acc, n):\n",
    "#     k = plt.text(x,y,tex, horizontalalignment ='center',\n",
    "#          verticalalignment ='center',color='white', fontsize=8,\n",
    "#                  bbox=dict(facecolor='#2c6faa',edgecolor='azure', boxstyle='circle'))\n",
    "\n",
    "\n",
    "# e1 = [51, 27.5, 12,7.5, 5.5]\n",
    "# s1 = [0.887, 0.864, 0.872, 0.8271, 0.639]\n",
    "# n1 =[1411, 855, 85, 3, 65]\n",
    "\n",
    "# e2 =[50,46.3,43,31,29,27.5,24.4,8,5.2,2 ]\n",
    "# s2 =[0.89, 0.90, 0.89, 0.915, 0.91, 0.90, 0.89, 0.73, 0.60, 0.50 ]\n",
    "# n2 =[85,88,78,85,77,94,96,64,19,29]\n",
    "\n",
    "# for x, y, tex in zip (e1,s1, n1):\n",
    "#     k = plt.text(x,y,tex, horizontalalignment ='center',\n",
    "#          verticalalignment ='center',color='b', fontsize=9)\n",
    "\n",
    "# for x, y, tex in zip (e2,s2, n2):\n",
    "#     k = plt.text(x,y,tex, horizontalalignment ='center',\n",
    "#          verticalalignment ='center',color='r', fontsize=9)\n",
    "\n",
    "plt.text(46,0.93,'ECG,PPG,RSP,EDA', ha = 'center', va = 'center')\n",
    "plt.text(28,0.89,'ECG,RSP,EDA', ha = 'center', va = 'center')\n",
    "plt.text(12,0.95,'ECG, EDA', ha = 'center', va = 'center')\n",
    "plt.text(7.2,0.87,'ECG', ha = 'center', va = 'center')\n",
    "plt.text(5.3,0.94,'S', ha = 'center', va = 'center')\n",
    "plt.text(3.7,0.68,'EDA', ha = 'center', va = 'center')\n",
    "\n",
    "plt.legend(loc='lower right')\n",
    "plt.gca().yaxis.set_major_formatter(mtick.PercentFormatter(1.0))\n",
    "plt.gca().spines[\"left\"].set_linewidth(2)\n",
    "plt.gca().spines[\"left\"].set_color(\"dimgray\")\n",
    "plt.gca().spines[\"bottom\"].set_linewidth(2)\n",
    "plt.gca().spines[\"bottom\"].set_color(\"dimgray\")\n",
    "plt.grid(which='major',linestyle='--', alpha=0.8) # which = 'both'\n",
    "plt.grid(which='minor',linestyle='--', alpha=0.4)\n",
    "\n",
    "# Remove borders\n",
    "plt.gca().spines[\"top\"].set_alpha(0.0)    \n",
    "#plt.gca().spines[\"bottom\"].set_alpha(0.3)\n",
    "plt.gca().spines[\"right\"].set_alpha(0.0)    \n",
    "#plt.gca().spines[\"left\"].set_alpha(0.3)   \n",
    "\n",
    "# Set scond x-axis\n",
    "ax2 = plt.gca().twiny()\n",
    "\n",
    "# Decide the ticklabel position in the new x-axis,\n",
    "# then convert them to the position in the old x-axis\n",
    "newlabel = [1,2,3,4,'S',5] # labels of the xticklabels: the position in the new x-axis\n",
    "newpos   = [48.6, 25.57, 10.67, 6.76, 5.3, 3.86]   # position of the xticklabels in the old x-axis\n",
    "ax2.set_xticks(newpos)\n",
    "ax2.set_xticklabels(newlabel)\n",
    "\n",
    "ax2.xaxis.set_ticks_position('bottom') # set the position of the second x-axis to bottom\n",
    "ax2.xaxis.set_label_position('bottom') # set the position of the second x-axis to bottom\n",
    "ax2.spines['bottom'].set_position(('outward', 36))\n",
    "ax2.set_xlabel('Mode')\n",
    "ax2.set_xlim(0,55)\n",
    "\n",
    "plt.savefig(\"perf_vs_eng_s36_self.pdf\", bbox_inches = 'tight')\n",
    "plt.savefig(\"perf_vs_eng_s36_self.png\", bbox_inches = 'tight')\n",
    "plt.show()\n",
    "\n"
   ],
   "metadata": {
    "collapsed": false,
    "pycharm": {
     "name": "#%%\n",
     "is_executing": false
    }
   }
  },
  {
   "cell_type": "code",
   "execution_count": null,
   "outputs": [],
   "source": [
    "x = [\"ECG_RR_mean\",\"SCL_mean\",\"ECG_RR_SDSD\",\"ECG_RR_LoT_2\",\"RSP_Pk\",\"SCL_std\",\"RSP_ecgHF_pF2n\",\"RSP_HF_gaussF1\",\n",
    "     \"PPG_PP_CSI_modified\",\"ECG_RR_Log10LT_2\",\"RSP_HF\",\"ECG_RR_L2\",\"PPG_PRT_SDNN\",\"ECG_RR_SDNN\",\"RSP_Rate_std\",\"ECG_RR_L\"]\n",
    "Signal = np.array([6.67,3.2,0,0,11.15,0,0,0,18.45,0,0,0,0,0,0,0])\n",
    "Parameter = np.array([0,0.64,0,0.04,3.78, 0, 3.73, 0, 0.04, 0,0,0,0,0,0.75,0])\n",
    "Feature = np.array([0, 0.02, 0,0,0,0,0.04,0.03,0,0,0.01,0,0,0,0,0])\n",
    "y_pos = np.arange(len(x))\n",
    "plt.figure(figsize=(8,6))\n",
    "\n",
    "\n",
    "# stack bars\n",
    "plt.barh(x, Signal, label='Signal')\n",
    "plt.barh(x, Parameter ,left=Signal,label='Parameter')\n",
    "plt.barh(x, Feature ,left=Signal+Parameter,label='Feature')\n",
    "\n",
    "# add text annotation corresponding to the percentage of each data.\n",
    "# for xpos, ypos, yval in zip(x, y1/2, y1):\n",
    "#     plt.text(xpos, ypos, \"%.1f\"%yval, ha=\"center\", va=\"center\")\n",
    "# for xpos, ypos, yval in zip(x, y1+y2/2, y2):\n",
    "#     plt.text(xpos, ypos, \"%.1f\"%yval, ha=\"center\", va=\"center\")\n",
    "# for xpos, ypos, yval in zip(x, y1+y2+y3/2, y3):\n",
    "#     plt.text(xpos, ypos, \"%.1f\"%yval, ha=\"center\", va=\"center\")\n",
    "# # add text annotation corresponding to the \"total\" value of each bar\n",
    "# for xpos, ypos, yval in zip(x, y1+y2+y3, snum):\n",
    "#     plt.text(xpos, ypos, \"N=%d\"%yval, ha=\"center\", va=\"bottom\")\n",
    "plt.gca().invert_yaxis()\n",
    "plt.xlim(0,20)\n",
    "plt.xlabel(\"Energy-cost of selected features\",size = 15)\n",
    "plt.xticks(size = 12)\n",
    "plt.xticks(size = 12)\n",
    "# plt.legend(bbox_to_anchor=(1.01,0.5), loc='center left')\n",
    "plt.legend(loc='upper right')\n",
    "plt.savefig('energy_cost.pdf', bbox_inches='tight', pad_inches=0.02)\n",
    "plt.show()"
   ],
   "metadata": {
    "collapsed": false,
    "pycharm": {
     "name": "#%%\n"
    }
   }
  },
  {
   "cell_type": "code",
   "execution_count": 17,
   "outputs": [
    {
     "name": "stderr",
     "text": [
      "Setting feature_perturbation = \"tree_path_dependent\" because no background data was given.\n"
     ],
     "output_type": "stream"
    },
    {
     "data": {
      "text/plain": "<Figure size 540x360 with 2 Axes>",
      "image/png": "[encoded data removed]"
     },
     "metadata": {
      "needs_background": "light"
     },
     "output_type": "display_data"
    }
   ],
   "source": [
    "import shap\n",
    "feat_list = final_features2[2][0]\n",
    "x = X_train[feat_list]\n",
    "xt = X_test[feat_list]\n",
    "paramss = {\n",
    "    'max_depth': 5, \n",
    "    'n_estimators': 1\n",
    "     }\n",
    "model = XGBClassifier(**paramss).fit(x, y_train)\n",
    "# modelxgb.fit(X_train, y_train)\n",
    "shap_values = shap.TreeExplainer(model).shap_values(x)\n",
    "#shap.summary_plot(shap_values, X_train)\n",
    "shap.dependence_plot(\"ECG_RR_mean\", shap_values, x, interaction_index=\"SCL_mean\" ,show=False)\n",
    "# plt.ylim(bottom =-2.5, top=5)\n",
    "# shap.dependence_plot(\"SCL_mean\", shap_values, x, interaction_index=\"ECG_RR_mean\" ,show=False)\n",
    "# plt.savefig(\"shap_mode1_ylim2.png\", bbox_inches = 'tight')\n",
    "# plt.savefig(\"shap_mode1_ylim2.pdf\", bbox_inches = 'tight')\n",
    "# shap.summary_plot(shap_values, X_train, plot_type=\"bar\",max_display=16,show=False)\n",
    "plt.show()"
   ],
   "metadata": {
    "collapsed": false,
    "pycharm": {
     "name": "#%%\n",
     "is_executing": false
    }
   }
  },
  {
   "cell_type": "code",
   "execution_count": 25,
   "outputs": [
    {
     "data": {
      "text/plain": "<Figure size 5400x10000 with 1 Axes>",
      "image/png": "[encoded data removed]"
     },
     "metadata": {
      "needs_background": "light"
     },
     "output_type": "display_data"
    }
   ],
   "source": [
    "from xgboost import plot_tree\n",
    "from matplotlib.pylab import rcParams\n",
    "rcParams['figure.figsize'] = 27,50\n",
    "rcParams['figure.dpi'] = 200\n",
    "rcParams['savefig.dpi'] = 200\n",
    "feat_list = final_features2[0][0]\n",
    "x = X_train[feat_list]\n",
    "# xt = X_test[feat_list]\n",
    "paramss = {\n",
    "    'max_depth': 6, \n",
    "    'n_estimators': 41\n",
    "     }\n",
    "model = XGBClassifier(**paramss).fit(x, y_train)\n",
    "plot_tree(model, num_trees=0)\n",
    "plt.savefig('xgbtree_36_mode1.pdf', bbox_inches='tight')\n",
    "plt.show()"
   ],
   "metadata": {
    "collapsed": false,
    "pycharm": {
     "name": "#%%\n",
     "is_executing": false
    }
   }
  },
  {
   "cell_type": "code",
   "execution_count": 109,
   "outputs": [
    {
     "name": "stderr",
     "text": [
      "c:\\users\\niloo\\desktop\\project2019_20\\venv3701\\lib\\site-packages\\ipykernel_launcher.py:8: RuntimeWarning:\n",
      "\n",
      "divide by zero encountered in log10\n",
      "\n",
      "c:\\users\\niloo\\desktop\\project2019_20\\venv3701\\lib\\site-packages\\ipykernel_launcher.py:9: RuntimeWarning:\n",
      "\n",
      "divide by zero encountered in log10\n",
      "\n",
      "c:\\users\\niloo\\desktop\\project2019_20\\venv3701\\lib\\site-packages\\matplotlib\\axes\\_axes.py:2179: RuntimeWarning:\n",
      "\n",
      "invalid value encountered in double_scalars\n",
      "\n"
     ],
     "output_type": "stream"
    },
    {
     "data": {
      "text/plain": "<Figure size 576x432 with 0 Axes>"
     },
     "metadata": {},
     "output_type": "execute_result",
     "execution_count": 109
    },
    {
     "data": {
      "text/plain": "<BarContainer object of 16 artists>"
     },
     "metadata": {},
     "output_type": "execute_result",
     "execution_count": 109
    },
    {
     "data": {
      "text/plain": "<BarContainer object of 16 artists>"
     },
     "metadata": {},
     "output_type": "execute_result",
     "execution_count": 109
    },
    {
     "data": {
      "text/plain": "<BarContainer object of 16 artists>"
     },
     "metadata": {},
     "output_type": "execute_result",
     "execution_count": 109
    },
    {
     "data": {
      "text/plain": "(0, 10)"
     },
     "metadata": {},
     "output_type": "execute_result",
     "execution_count": 109
    },
    {
     "data": {
      "text/plain": "Text(0.5, 0, 'Energy-cost of selected features')"
     },
     "metadata": {},
     "output_type": "execute_result",
     "execution_count": 109
    },
    {
     "data": {
      "text/plain": "(array([ 0.,  2.,  4.,  6.,  8., 10.]), <a list of 6 Text xticklabel objects>)"
     },
     "metadata": {},
     "output_type": "execute_result",
     "execution_count": 109
    },
    {
     "data": {
      "text/plain": "(array([ 0.,  2.,  4.,  6.,  8., 10.]), <a list of 6 Text xticklabel objects>)"
     },
     "metadata": {},
     "output_type": "execute_result",
     "execution_count": 109
    },
    {
     "data": {
      "text/plain": "<matplotlib.legend.Legend at 0x18ea66e2048>"
     },
     "metadata": {},
     "output_type": "execute_result",
     "execution_count": 109
    },
    {
     "data": {
      "text/plain": "<Figure size 576x432 with 1 Axes>",
      "image/png": "[encoded data removed]"
     },
     "metadata": {
      "needs_background": "light"
     },
     "output_type": "display_data"
    }
   ],
   "source": [
    "from numpy import inf\n",
    "x = [\"ECG_RR_mean\",\"SCL_mean\",\"ECG_RR_SDSD\",\"ECG_RR_LoT_2\",\"RSP_Pk\",\"SCL_std\",\"RSP_ecgHF_pF2n\",\"RSP_HF_gaussF1\",\n",
    "     \"PPG_PP_CSI_modified\",\"ECG_RR_Log10LT_2\",\"RSP_HF\",\"ECG_RR_L2\",\"PPG_PRT_SDNN\",\"ECG_RR_SDNN\",\"RSP_Rate_std\",\"ECG_RR_L\"]\n",
    "Signal = np.array([6760,3200,0,0,11156.6,0,0,0,18452,0,0,0,0,0,0,0])\n",
    "Parameter = np.array([0,640,0,45.3,3784, 0, 3738, 0, 45.3, 0,0,0,0,0,753.5,0])\n",
    "Feature = np.array([0.69, 20, 0.96,1.85,0.1,40,0.4,33.73,2.06,4.51,10.91,0.88,1.39,1.39,0.58,0.88])\n",
    "\n",
    "Signal = np.log10(Signal*10)\n",
    "Parameter = np.log10(Parameter*10)\n",
    "Feature = np.log10(Feature*10)\n",
    "# y_pos = np.arange(len(x))\n",
    "plt.figure(figsize=(8,6))\n",
    "\n",
    "\n",
    "# stack bars\n",
    "plt.barh(x, Feature, label='Feature')\n",
    "plt.barh(x, Parameter ,left=Feature,label='Parameter')\n",
    "plt.barh(x, Signal ,left=Feature+Parameter,label='Signal')\n",
    "\n",
    "# add text annotation corresponding to the percentage of each data.\n",
    "# for xpos, ypos, yval in zip(x, y1/2, y1):\n",
    "#     plt.text(xpos, ypos, \"%.1f\"%yval, ha=\"center\", va=\"center\")\n",
    "# for xpos, ypos, yval in zip(x, y1+y2/2, y2):\n",
    "#     plt.text(xpos, ypos, \"%.1f\"%yval, ha=\"center\", va=\"center\")\n",
    "# for xpos, ypos, yval in zip(x, y1+y2+y3/2, y3):\n",
    "#     plt.text(xpos, ypos, \"%.1f\"%yval, ha=\"center\", va=\"center\")\n",
    "# # add text annotation corresponding to the \"total\" value of each bar\n",
    "# for xpos, ypos, yval in zip(x, y1+y2+y3, snum):\n",
    "#     plt.text(xpos, ypos, \"N=%d\"%yval, ha=\"center\", va=\"bottom\")\n",
    "plt.gca().invert_yaxis()\n",
    "plt.xlim(0,10)\n",
    "plt.xlabel(\"Energy-cost of selected features\",size = 15)\n",
    "plt.xticks(size = 12)\n",
    "plt.xticks(size = 12)\n",
    "# plt.legend(bbox_to_anchor=(1.01,0.5), loc='center left')\n",
    "plt.legend(loc='upper right')\n",
    "# plt.savefig('energy_cost.pdf', bbox_inches='tight', pad_inches=0.02)\n",
    "plt.show()\n",
    "\n"
   ],
   "metadata": {
    "collapsed": false,
    "pycharm": {
     "name": "#%%\n",
     "is_executing": false
    }
   }
  },
  {
   "cell_type": "code",
   "execution_count": null,
   "outputs": [],
   "source": [
    "\n"
   ],
   "metadata": {
    "collapsed": false,
    "pycharm": {
     "name": "#%%\n"
    }
   }
  }
 ],
 "metadata": {
  "kernelspec": {
   "display_name": "Python 3",
   "language": "python",
   "name": "python3"
  },
  "language_info": {
   "codemirror_mode": {
    "name": "ipython",
    "version": 2
   },
   "file_extension": ".py",
   "mimetype": "text/x-python",
   "name": "python",
   "nbconvert_exporter": "python",
   "pygments_lexer": "ipython2",
   "version": "2.7.6"
  },
  "pycharm": {
   "stem_cell": {
    "cell_type": "raw",
    "source": [],
    "metadata": {
     "collapsed": false
    }
   }
  }
 },
 "nbformat": 4,
 "nbformat_minor": 0
}